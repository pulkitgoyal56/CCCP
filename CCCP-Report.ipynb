{
 "cells": [
  {
   "cell_type": "markdown",
   "id": "81960b53-06e8-4051-84d0-4e779c9642c2",
   "metadata": {
    "tags": [],
    "toc-hr-collapsed": true
   },
   "source": [
    "# Abstract"
   ]
  },
  {
   "cell_type": "markdown",
   "id": "982f8a25-bae4-49b3-8f03-20a0d1e86649",
   "metadata": {},
   "source": [
    "We use two classic learning models from cognitive science to model learning in 19 participants who completed a two-alternative forced-choice task. The task consisted of two aliens (alternatives) and participants were instructed to select which option would win based on 2-4 features ($n$ of features condition). Additionally, the task was completed under a time pressure condition with a set time limit of 3 or 6s per trial. In our behavioral analyses we find indication of learning with improvement in performance across trials. We then continue to fit the parameters of our respective models including an $\\epsilon$ value to capture noisiness in decision making. Here we find that Rescorla-Wagner fits the human data the best while Kalman filter provides a limited fit. After analyzing parameters we conclude that time pressure influences noisiness in decision making but does not influence learning rate. Similarly, we notice that the number of features influences decision noise but not learning rate."
   ]
  },
  {
   "cell_type": "markdown",
   "id": "54c0997a-f73c-45aa-991b-f8ba85c70f52",
   "metadata": {
    "tags": []
   },
   "source": [
    "# Introduction"
   ]
  },
  {
   "cell_type": "markdown",
   "id": "4af6ba35-91ef-45fb-a741-5a0f79e9cdd5",
   "metadata": {},
   "source": [
    "Learning and decision making under uncertainty requires a good balance between exploration and explotation. Additionally, other factors like the complexity of the task, the degrees of freedom, and the time pressure can highly influence learning and decision making. Here, we investigate the effects of such complexities on the learning and decision making.\n",
    "\n",
    "Existing literature suggests that with increased complexity the agent prefers exploitation over exploration. We expect to see this as lower decision noise and learning rate under the effects of time constraints, and the number of the features. So, we make the following hypotheses.\n",
    "\n",
    "$H_1$ - Increasing number of features increases decision noise and decreases learning rate.  \n",
    "$H_2$ - Time pressure decreases decision noise and learning rate."
   ]
  },
  {
   "cell_type": "markdown",
   "id": "edf7ae9c-b67f-4257-a3fa-496f8d4e6166",
   "metadata": {},
   "source": [
    "Time pressure leads to faster vs. slower learning\n",
    "\n",
    "Time pressure leads to noisier vs. less noisy decisions —> Time pressure leads to more random policy \n",
    "\n",
    "Time pressure leads to simpler vs. more complex learning strategies\n",
    "\n",
    "Though classically Rescorla-Wagner has\n",
    "RW vs. KF fits human data better"
   ]
  },
  {
   "cell_type": "code",
   "execution_count": null,
   "id": "f3e46453-195d-4800-83b1-2f8b36d78345",
   "metadata": {
    "jupyter": {
     "source_hidden": true
    },
    "tags": [],
    "toc-hr-collapsed": true
   },
   "outputs": [],
   "source": [
    "# `Analysis`"
   ]
  },
  {
   "cell_type": "code",
   "execution_count": 120,
   "id": "674de30f-c290-473f-87b9-2aa1f7631e95",
   "metadata": {
    "jupyter": {
     "source_hidden": true
    },
    "tags": []
   },
   "outputs": [],
   "source": [
    "## Imports\n",
    "def load(arr, folder='/Users/joelvasama/Downloads/CCCP-Pulkit/pickles'):\n",
    "    return np.load(f'{folder}/{arr}.npy')"
   ]
  },
  {
   "cell_type": "code",
   "execution_count": 26,
   "id": "b13f4fab-af54-4f86-bdb1-7fc9692ec2a2",
   "metadata": {
    "jupyter": {
     "source_hidden": true
    },
    "tags": []
   },
   "outputs": [],
   "source": [
    "import sys"
   ]
  },
  {
   "cell_type": "code",
   "execution_count": 27,
   "id": "51ef1905-bf74-4ae9-9664-d31bbae5844b",
   "metadata": {
    "jupyter": {
     "source_hidden": true
    },
    "tags": []
   },
   "outputs": [],
   "source": [
    "from functools import lru_cache"
   ]
  },
  {
   "cell_type": "code",
   "execution_count": 28,
   "id": "0d865538-12b6-4f79-9c52-f3adf2cf3eaf",
   "metadata": {
    "jupyter": {
     "source_hidden": true
    }
   },
   "outputs": [],
   "source": [
    "import numpy as np"
   ]
  },
  {
   "cell_type": "code",
   "execution_count": 29,
   "id": "01018c8f-4d71-4564-beb0-7182384c2d2b",
   "metadata": {
    "jupyter": {
     "source_hidden": true
    },
    "tags": []
   },
   "outputs": [],
   "source": [
    "import pandas as pd"
   ]
  },
  {
   "cell_type": "code",
   "execution_count": 30,
   "id": "4e3359ec-b333-4fc6-bb6c-4d5776ce9094",
   "metadata": {
    "jupyter": {
     "source_hidden": true
    }
   },
   "outputs": [],
   "source": [
    "from scipy import optimize\n",
    "import scipy.stats as st"
   ]
  },
  {
   "cell_type": "code",
   "execution_count": 31,
   "id": "4a4c22f3-b944-4891-921f-773f4e47414f",
   "metadata": {
    "jupyter": {
     "source_hidden": true
    }
   },
   "outputs": [],
   "source": [
    "import statsmodels.api as sm\n",
    "import statsmodels.formula.api as smf\n",
    "from statsmodels.stats.multicomp import pairwise_tukeyhsd"
   ]
  },
  {
   "cell_type": "code",
   "execution_count": 32,
   "id": "5cd1ee96-d520-4dc8-8f6a-48840ed137f1",
   "metadata": {
    "jupyter": {
     "source_hidden": true
    }
   },
   "outputs": [],
   "source": [
    "import matplotlib.pyplot as plt"
   ]
  },
  {
   "cell_type": "code",
   "execution_count": 33,
   "id": "2ce9d961-67d8-4fa3-aa3e-71cb7ef8af2a",
   "metadata": {
    "jupyter": {
     "source_hidden": true
    }
   },
   "outputs": [],
   "source": [
    "import seaborn as sns"
   ]
  },
  {
   "cell_type": "code",
   "execution_count": 34,
   "id": "f6cbd359-9d34-44ed-9bf7-4849541c523b",
   "metadata": {
    "jupyter": {
     "source_hidden": true
    }
   },
   "outputs": [],
   "source": [
    "from tqdm import tqdm"
   ]
  },
  {
   "cell_type": "code",
   "execution_count": 35,
   "id": "cbe07b45-c167-42b2-a2fa-392706b39157",
   "metadata": {
    "jupyter": {
     "source_hidden": true
    }
   },
   "outputs": [],
   "source": [
    "from IPython.display import display"
   ]
  },
  {
   "cell_type": "code",
   "execution_count": 36,
   "id": "026766d3-2011-4cf1-99c8-0565c574d5c1",
   "metadata": {
    "jupyter": {
     "source_hidden": true
    }
   },
   "outputs": [],
   "source": [
    "import warnings\n",
    "warnings.filterwarnings(\"ignore\")"
   ]
  },
  {
   "cell_type": "code",
   "execution_count": 37,
   "id": "43ae37c0-1453-4bb7-999a-dd6dd015f967",
   "metadata": {
    "jupyter": {
     "source_hidden": true
    },
    "tags": []
   },
   "outputs": [],
   "source": [
    "## Data Reading and Pre-Processing"
   ]
  },
  {
   "cell_type": "code",
   "execution_count": 38,
   "id": "f10321dd-7f53-46a5-bfd8-58b40264f8c6",
   "metadata": {
    "jupyter": {
     "source_hidden": true
    }
   },
   "outputs": [],
   "source": [
    "data = pd.read_csv('ccs2022.csv')\n",
    "data.rename(columns={'Unnamed: 0':'semi_global_trial'}, inplace=True)"
   ]
  },
  {
   "cell_type": "code",
   "execution_count": 39,
   "id": "81b160d5-3f3c-429b-871a-f287a76d20c5",
   "metadata": {
    "jupyter": {
     "source_hidden": true
    }
   },
   "outputs": [],
   "source": [
    "# Check for empty values\n",
    "data.isna().any();"
   ]
  },
  {
   "cell_type": "code",
   "execution_count": 40,
   "id": "60336363-24b1-4288-bb16-059dabb54b85",
   "metadata": {
    "jupyter": {
     "source_hidden": true
    }
   },
   "outputs": [],
   "source": [
    "# Add column to mark when J is the correct response\n",
    "data['J_correct'] = (data['yj'] > data['yf']).astype(int)"
   ]
  },
  {
   "cell_type": "code",
   "execution_count": 41,
   "id": "f0f0a52a-b9db-4e79-b49b-4de3a8e0ca52",
   "metadata": {
    "jupyter": {
     "source_hidden": true
    }
   },
   "outputs": [],
   "source": [
    "# Add column to mark when a correct choice was made\n",
    "data['correct'] = (data['J_correct'] == data['J_pressed']).astype(int)"
   ]
  },
  {
   "cell_type": "code",
   "execution_count": 42,
   "id": "6af5044d-ff4c-4d27-b814-bdf971429ad3",
   "metadata": {
    "jupyter": {
     "source_hidden": true
    }
   },
   "outputs": [],
   "source": [
    "# Create unique task identifier for all participants\n",
    "data['global_task'] = 100*data['slow'] + data['task']"
   ]
  },
  {
   "cell_type": "code",
   "execution_count": 43,
   "id": "079a4efb-6f8a-4cab-b779-9bc9c3548787",
   "metadata": {
    "jupyter": {
     "source_hidden": true
    },
    "tags": []
   },
   "outputs": [],
   "source": [
    "data.head();"
   ]
  },
  {
   "cell_type": "code",
   "execution_count": 44,
   "id": "6f2f392f-dc0c-44d4-9dfc-e87664ff754c",
   "metadata": {
    "jupyter": {
     "source_hidden": true
    },
    "tags": []
   },
   "outputs": [],
   "source": [
    "## Global Constants"
   ]
  },
  {
   "cell_type": "code",
   "execution_count": 45,
   "id": "d9f33061-de8d-4454-8a35-c356dfa87fb3",
   "metadata": {
    "jupyter": {
     "source_hidden": true
    }
   },
   "outputs": [],
   "source": [
    "NUM_TRIALS = data['trial'].nunique()"
   ]
  },
  {
   "cell_type": "code",
   "execution_count": 46,
   "id": "f9f8689f-a249-4939-b5f3-0d4cad709e77",
   "metadata": {
    "jupyter": {
     "source_hidden": true
    }
   },
   "outputs": [],
   "source": [
    "NUM_PARTICIPANTS = data['participant_id'].nunique()\n",
    "PARTICIPANTS = data['participant_id'].unique().astype(int)"
   ]
  },
  {
   "cell_type": "code",
   "execution_count": 47,
   "id": "1af9921e-3740-402c-b298-44cc8843c35a",
   "metadata": {
    "jupyter": {
     "source_hidden": true
    }
   },
   "outputs": [],
   "source": [
    "PRINT_ENABLE = False"
   ]
  },
  {
   "cell_type": "code",
   "execution_count": 48,
   "id": "6ea12b47-b5c2-415f-bf4e-5dda575dc52d",
   "metadata": {
    "jupyter": {
     "source_hidden": true
    },
    "tags": []
   },
   "outputs": [],
   "source": [
    "## Global Functions"
   ]
  },
  {
   "cell_type": "code",
   "execution_count": 49,
   "id": "700283f1-1441-44c4-b217-b05ecfe973f6",
   "metadata": {
    "jupyter": {
     "source_hidden": true
    },
    "tags": []
   },
   "outputs": [],
   "source": [
    "### Miscellaneous"
   ]
  },
  {
   "cell_type": "code",
   "execution_count": 50,
   "id": "af38450e-656f-48c1-90ae-873c79191712",
   "metadata": {
    "jupyter": {
     "source_hidden": true
    }
   },
   "outputs": [],
   "source": [
    "def detect_outliers(x):\n",
    "    q1 = np.quantile(x, 0.25) # Lower quartile\n",
    "    q3 = np.quantile(x, 0.75) # Upper quartile\n",
    "    \n",
    "    iqr = q3-q1 # Interquartile range\n",
    "    \n",
    "    iqr_bounds = [q1 - (1.5 * iqr), q3 + (1.5 * iqr)] # Bounds\n",
    "    \n",
    "    outliers = x[(x <= iqr_bounds[0]) | (x >= iqr_bounds[1])] # Selecting data beyond bounds\n",
    "    \n",
    "    return outliers"
   ]
  },
  {
   "cell_type": "code",
   "execution_count": 51,
   "id": "15d72c2b-d379-4286-8f33-e437113d7b5a",
   "metadata": {
    "jupyter": {
     "source_hidden": true
    }
   },
   "outputs": [],
   "source": [
    "def print_(*args, **kwargs):\n",
    "    if PRINT_ENABLE:\n",
    "        print(*args, **kwargs)"
   ]
  },
  {
   "cell_type": "code",
   "execution_count": 52,
   "id": "fea6b8c5-e166-48df-9104-53ef7b7d1669",
   "metadata": {
    "jupyter": {
     "source_hidden": true
    },
    "tags": []
   },
   "outputs": [],
   "source": [
    "### Plotting"
   ]
  },
  {
   "cell_type": "code",
   "execution_count": 53,
   "id": "da5fc90b-3a88-452a-a3e5-be645d1eaa5f",
   "metadata": {
    "jupyter": {
     "source_hidden": true
    }
   },
   "outputs": [],
   "source": [
    "def boxplots(a, box_labels, ax, point_labels=PARTICIPANTS, title=None):\n",
    "    df = pd.DataFrame(np.array([np.array(a_i).flatten() for a_i in a]).T, columns=box_labels)\n",
    "    sns.boxplot(data=df, ax=ax, boxprops=dict(alpha=.3))\n",
    "    sns.swarmplot(data=df, ax=ax)\n",
    "\n",
    "    for i, k in enumerate(point_labels):\n",
    "        for j, a_i in enumerate(a):\n",
    "            ax.text(j, a_i[i], k, alpha=0.8)\n",
    "    \n",
    "    if title: ax.set_title(title)"
   ]
  },
  {
   "cell_type": "code",
   "execution_count": 54,
   "id": "4b5c691a-9395-420c-a813-d7537ffdbb42",
   "metadata": {
    "jupyter": {
     "source_hidden": true
    },
    "tags": []
   },
   "outputs": [],
   "source": [
    "### Decision Making"
   ]
  },
  {
   "cell_type": "code",
   "execution_count": 55,
   "id": "4b31b92f-3e26-46a5-bf7e-28895e481094",
   "metadata": {
    "jupyter": {
     "source_hidden": true
    }
   },
   "outputs": [],
   "source": [
    "epsilon_greedy = lambda choice_function: lambda e: lambda *args, **kwargs: choice_function(*args, **kwargs) * (1 - e) + 0.5 * e"
   ]
  },
  {
   "cell_type": "code",
   "execution_count": 56,
   "id": "de91f670-f2ad-45ab-8414-c153084f8024",
   "metadata": {
    "jupyter": {
     "source_hidden": true
    }
   },
   "outputs": [],
   "source": [
    "@epsilon_greedy\n",
    "def softmax(s1, s2, *std): # Softmax Rule\n",
    "    return 1/(1 + np.e**(s1 - s2))"
   ]
  },
  {
   "cell_type": "code",
   "execution_count": 57,
   "id": "fc0ff62f-7bdc-4f62-97af-4268b794db9b",
   "metadata": {
    "jupyter": {
     "source_hidden": true
    }
   },
   "outputs": [],
   "source": [
    "@epsilon_greedy\n",
    "def am(s1, s2, *std): # Accuracy Maximization\n",
    "    return s1 < s2"
   ]
  },
  {
   "cell_type": "code",
   "execution_count": 58,
   "id": "2055b3e4-35cd-4c0b-a19b-b4fc67897d39",
   "metadata": {
    "jupyter": {
     "source_hidden": true
    }
   },
   "outputs": [],
   "source": [
    "@epsilon_greedy\n",
    "def pm(s1, s2, std1, std2):\n",
    "    return np.random.normal(s1, std1) < np.random.normal(s2, std2)"
   ]
  },
  {
   "cell_type": "code",
   "execution_count": 59,
   "id": "e08af4f6-0a95-4d55-b0ab-3d868ec82fda",
   "metadata": {
    "jupyter": {
     "source_hidden": true
    }
   },
   "outputs": [],
   "source": [
    "@epsilon_greedy\n",
    "def sb(s1, s2, std1, std2, n_samples=10):\n",
    "    return np.count_nonzero(np.random.normal(s1, std1, (1, n_samples)) > np.random.normal(s2, std2, (1, n_samples))) >= n_samples/2"
   ]
  },
  {
   "cell_type": "code",
   "execution_count": 60,
   "id": "0cf3537f-16eb-48cc-a77c-75e2155ba284",
   "metadata": {
    "jupyter": {
     "source_hidden": true
    },
    "tags": []
   },
   "outputs": [],
   "source": [
    "### Scoring"
   ]
  },
  {
   "cell_type": "code",
   "execution_count": 61,
   "id": "3f19209b-1b09-44e8-a77d-dc3825b24135",
   "metadata": {
    "jupyter": {
     "source_hidden": true
    }
   },
   "outputs": [],
   "source": [
    "# Bayesian Information Criterion\n",
    "# > BIC = p.ln(t.k) - 2.LL\n",
    "bic = lambda P, N, LL: P*np.log(N) - 2*LL"
   ]
  },
  {
   "cell_type": "code",
   "execution_count": 62,
   "id": "c34896ef-3325-4b99-8e5f-6350f1e38c9c",
   "metadata": {
    "jupyter": {
     "source_hidden": true
    }
   },
   "outputs": [],
   "source": [
    "# Akaike Information Criterion\n",
    "# > AIC = 2.p - 2.LL\n",
    "aic = lambda P, N, LL: 2*P - 2*LL"
   ]
  },
  {
   "cell_type": "code",
   "execution_count": 63,
   "id": "c233b195-5ea7-4f0c-af20-7b39ef56d510",
   "metadata": {
    "jupyter": {
     "source_hidden": true
    },
    "tags": []
   },
   "outputs": [],
   "source": [
    "### Model Fitting"
   ]
  },
  {
   "cell_type": "code",
   "execution_count": 64,
   "id": "1f7085f9-c720-4e7a-a065-9ce89245254d",
   "metadata": {
    "jupyter": {
     "source_hidden": true
    }
   },
   "outputs": [],
   "source": [
    "# @lru_cache\n",
    "def fit_model(participant_id,\n",
    "              Model,\n",
    "              model_params,\n",
    "              choice_function=am(0),\n",
    "              conditions={},\n",
    "              feature_labels=[['xf0', 'xf1', 'xf2', 'xf3'], ['xj0', 'xj1', 'xj2', 'xj3']],\n",
    "              target_labels=[['yf'], ['yj']],\n",
    "              choice_label='J_pressed'):\n",
    "\n",
    "    data_participant = data[data['participant_id'] == participant_id]\n",
    "    if conditions:\n",
    "        for condition in conditions:\n",
    "            data_participant = data_participant[data_participant[condition] == conditions[condition]]\n",
    "\n",
    "    ## num_tasks = data_participant['global_task'].nunique() # Find number of tasks\n",
    "    tasks = data_participant['global_task'].unique() # Find the tasks that satisfy the conditions\n",
    "    if not len(tasks):\n",
    "        raise ValueError('No tasks with the given conditions.')\n",
    "\n",
    "    log_likelihoods = {} # [num_tasks]\n",
    "    for task in tasks: # For each task\n",
    "        data_participant_task = data_participant[data_participant['global_task'] == task] # Focus on that task data\n",
    "\n",
    "        num_features = int(data_participant_task['num_features'].unique()) # Find number of inputs for that task\n",
    "        \n",
    "        model = Model(num_features, *model_params) # Create Model instance with the number of inputs and passed model parameters\n",
    "\n",
    "        log_likelihood = []\n",
    "        for trial in data_participant_task['trial'].unique(): # For each trial\n",
    "            data_participant_task_trial = data_participant_task[data_participant_task['trial'] == trial] # Focus on that trial data\n",
    "\n",
    "            # Extract input and target arrays, and choice, using (default) labels passed in function call\n",
    "            inputs = [data_participant_task_trial[feature_labels_i[:num_features]].to_numpy().reshape((-1, 1)) for feature_labels_i in feature_labels]\n",
    "            targets = [data_participant_task_trial[target_labels_i].to_numpy().reshape((-1, 1)) for target_labels_i in target_labels]\n",
    "\n",
    "            # Make predictions\n",
    "            means, std = np.array([np.array(model.predict(inputs_i)).flatten() for inputs_i in inputs]).T\n",
    "\n",
    "            # Learn model\n",
    "            for inputs_i, target in zip(inputs, targets):\n",
    "                model.learn(inputs_i, target)\n",
    "\n",
    "            # Make decision\n",
    "            p_choice = choice_function(*means, *std)\n",
    "\n",
    "            likelihood = p_choice if int(data_participant_task_trial[choice_label]) == 1 else 1-p_choice\n",
    "            \n",
    "            # Calculate log-likelihood\n",
    "            log_likelihood.append(np.log(likelihood if likelihood else sys.float_info.min)) # corresponding to the lowest log(float) possible\n",
    "\n",
    "        log_likelihoods[task] = log_likelihood\n",
    "\n",
    "    return log_likelihoods"
   ]
  },
  {
   "cell_type": "code",
   "execution_count": 65,
   "id": "e91db702-35f4-4a98-8d78-b56dab633779",
   "metadata": {
    "jupyter": {
     "source_hidden": true
    }
   },
   "outputs": [],
   "source": [
    "def pick_tasks(participant_id, conditions={}): # {'num_features': 2}, {'num_features': 3}, {'num_features': 4}, {'slow': 1}, {'slow': 0}\n",
    "    # def create_condition(key, param):\n",
    "    #     if key == 'all':\n",
    "    #         return []\n",
    "    #     else:\n",
    "    #         try:\n",
    "    #             return {key: int(param)}\n",
    "    #         except ValueError:\n",
    "    #             raise ValueError('Invalid Condition!')\n",
    "\n",
    "    data_participant = data[data['participant_id'] == participant_id]\n",
    "    \n",
    "    if conditions: # If there are conditions\n",
    "        for condition in conditions: # Apply conditions iteratively\n",
    "            data_participant = data_participant[data_participant[condition] == conditions[condition]]\n",
    "    \n",
    "    tasks = data_participant['global_task'].unique() # Find the tasks that satisfy the conditions\n",
    "    \n",
    "    if not len(tasks):\n",
    "        raise ValueError('No tasks with the given conditions.')\n",
    "\n",
    "    return tasks"
   ]
  },
  {
   "cell_type": "code",
   "execution_count": 66,
   "id": "2c19b2dc-32d3-437a-972e-daf7a39e1f2e",
   "metadata": {
    "jupyter": {
     "source_hidden": true
    },
    "tags": []
   },
   "outputs": [],
   "source": [
    "### Optimizing"
   ]
  },
  {
   "cell_type": "code",
   "execution_count": 67,
   "id": "3e76939a-7ad8-42d3-9210-28ea0243f236",
   "metadata": {
    "jupyter": {
     "source_hidden": true
    }
   },
   "outputs": [],
   "source": [
    "def no_search(func, rrange):\n",
    "    return np.arange(*rrange[0])[0], func(np.arange(*rrange[0])[:1])"
   ]
  },
  {
   "cell_type": "code",
   "execution_count": 68,
   "id": "8ba6dde9-1e4b-4bf0-8b99-eeddd2cde497",
   "metadata": {
    "jupyter": {
     "source_hidden": true
    }
   },
   "outputs": [],
   "source": [
    "def optimise(Model,\n",
    "             model_search_space=(),\n",
    "             search_algorithm=lambda *args, **kwargs: optimize.brute(*args, **kwargs, full_output=True, finish=None),\n",
    "             error_search_space=(0, 1, 0.1),\n",
    "             choice_function=softmax,\n",
    "             xic=bic,\n",
    "             conditions={}):\n",
    "    \n",
    "    if len(model_search_space) != Model._num_params:\n",
    "        raise ValueError(f'Not enough model search parameters specified. Required {Model._num_params} parameters.')\n",
    "    \n",
    "    xics = []\n",
    "    optimal_model_params = []\n",
    "    optimal_error = []\n",
    "        \n",
    "    for participant_id in tqdm(data['participant_id'].unique()):\n",
    "        tasks = pick_tasks(participant_id, conditions)\n",
    "\n",
    "        def llfunc(model_error_params):\n",
    "            log_likelihoods = fit_model(participant_id, Model, tuple(model_error_params)[:-1], choice_function(model_error_params[-1]), conditions)\n",
    "            return -sum([sum(log_likelihoods[task]) for task in tasks])\n",
    "        \n",
    "        optimal_model_error_params, fval, *_ = search_algorithm(llfunc, model_search_space + (error_search_space,))\n",
    "        \n",
    "        xics.append(xic(len(model_search_space)+1, len(tasks)*NUM_TRIALS, -fval))\n",
    "        optimal_model_params.append(optimal_model_error_params[:-1])\n",
    "        optimal_error.append(optimal_model_error_params[-1])\n",
    "    \n",
    "    return np.array(xics), np.array(optimal_model_params), np.array(optimal_error)"
   ]
  },
  {
   "cell_type": "code",
   "execution_count": 69,
   "id": "42e8052f-2b93-46b0-900f-152887902de3",
   "metadata": {
    "jupyter": {
     "source_hidden": true
    },
    "tags": []
   },
   "outputs": [],
   "source": [
    "## Outlier Detection"
   ]
  },
  {
   "cell_type": "code",
   "execution_count": 70,
   "id": "a32904fa-9cca-4aab-9bf5-61cc9dbff238",
   "metadata": {
    "jupyter": {
     "source_hidden": true
    }
   },
   "outputs": [],
   "source": [
    "#The most important columns for analysis are participant accuracy and reaction time as these reflect performance in the experiment."
   ]
  },
  {
   "cell_type": "code",
   "execution_count": 71,
   "id": "b8afbc9d-7894-4bb7-a13b-35ac13d51b08",
   "metadata": {
    "jupyter": {
     "source_hidden": true
    },
    "tags": []
   },
   "outputs": [],
   "source": [
    "#`Outlier Detection (Accuracy)`"
   ]
  },
  {
   "cell_type": "code",
   "execution_count": 72,
   "id": "ceadbaaa-3fad-4aa1-a5ba-026190997b51",
   "metadata": {
    "jupyter": {
     "source_hidden": true
    }
   },
   "outputs": [],
   "source": [
    "# Average accuracy\n",
    "avg_correct = data['correct'].mean()\n",
    "print_(f'Average accuracy: {avg_correct:.3f}')"
   ]
  },
  {
   "cell_type": "code",
   "execution_count": 73,
   "id": "c41a0ede-58e3-408d-a06e-1f1373fefd91",
   "metadata": {
    "jupyter": {
     "source_hidden": true
    }
   },
   "outputs": [],
   "source": [
    "# Participant accuracy\n",
    "par_correct = data.groupby('participant_id')['correct'].mean()\n",
    "print_(par_correct.to_frame())"
   ]
  },
  {
   "cell_type": "code",
   "execution_count": 74,
   "id": "eaeced8c-a09c-40a1-b88f-f7ff783b493a",
   "metadata": {
    "jupyter": {
     "source_hidden": true
    }
   },
   "outputs": [],
   "source": [
    "print_(detect_outliers(par_correct))"
   ]
  },
  {
   "cell_type": "code",
   "execution_count": 75,
   "id": "be686cbf-28a7-43af-8840-20756c0184be",
   "metadata": {
    "jupyter": {
     "source_hidden": true
    },
    "tags": []
   },
   "outputs": [],
   "source": [
    "#`Outlier Detection (Reaction Time)`"
   ]
  },
  {
   "cell_type": "code",
   "execution_count": 76,
   "id": "58e3a1a7-749c-4eb8-82e5-6547d01546ca",
   "metadata": {
    "jupyter": {
     "source_hidden": true
    }
   },
   "outputs": [],
   "source": [
    "par_RT = data.groupby('participant_id')['decision_time'].mean()\n",
    "print_(par_RT.to_frame())"
   ]
  },
  {
   "cell_type": "code",
   "execution_count": 77,
   "id": "6143be20-2ac1-4db3-a2eb-dc60f549a5c5",
   "metadata": {
    "jupyter": {
     "source_hidden": true
    }
   },
   "outputs": [],
   "source": [
    "print_(detect_outliers(par_RT));"
   ]
  },
  {
   "cell_type": "code",
   "execution_count": 78,
   "id": "6a346eda-1e12-416b-961a-d26374908df7",
   "metadata": {
    "jupyter": {
     "source_hidden": true
    },
    "tags": []
   },
   "outputs": [],
   "source": [
    "#`Outlier Detection | Summary`"
   ]
  },
  {
   "cell_type": "code",
   "execution_count": 82,
   "id": "871ddd55-5ec2-4103-bb82-ef2cf6692425",
   "metadata": {
    "jupyter": {
     "source_hidden": true
    },
    "tags": []
   },
   "outputs": [],
   "source": [
    "# fig, ax = plt.subplots(1, 2, figsize=(8, 4));\n",
    "# boxplots([par_correct], ['Accuracy'], ax[0])\n",
    "# boxplots([par_RT], ['Reaction Time'], ax[1])\n",
    "# fig.suptitle('Outlier Detection');"
   ]
  },
  {
   "cell_type": "code",
   "execution_count": null,
   "id": "eed126c6-6532-41fb-a37e-cb38ac2f47d0",
   "metadata": {
    "jupyter": {
     "source_hidden": true
    },
    "tags": []
   },
   "outputs": [],
   "source": [
    "### Excluding Outliers"
   ]
  },
  {
   "cell_type": "code",
   "execution_count": 42,
   "id": "a657b306-b169-4e8f-9c4e-65335923c25e",
   "metadata": {
    "jupyter": {
     "source_hidden": true
    }
   },
   "outputs": [],
   "source": [
    "data_ = data[data['participant_id'] != 18] # Excluding participant 18"
   ]
  },
  {
   "cell_type": "code",
   "execution_count": 43,
   "id": "679b49ca-c8d9-487b-a63f-622e8dfd3f90",
   "metadata": {
    "jupyter": {
     "source_hidden": true
    }
   },
   "outputs": [],
   "source": [
    "# Computing new means after exclusion\n",
    "avg_correct = data_['correct'].mean()\n",
    "par_correct = data_.groupby('participant_id').correct.mean()\n",
    "par_RT = data_.groupby('participant_id').decision_time.mean()"
   ]
  },
  {
   "cell_type": "code",
   "execution_count": null,
   "id": "3c049e3b-2c26-4ed1-ab19-8e5e7be05f69",
   "metadata": {
    "jupyter": {
     "source_hidden": true
    },
    "tags": []
   },
   "outputs": [],
   "source": [
    "## Behavioral Analysis"
   ]
  },
  {
   "cell_type": "code",
   "execution_count": null,
   "id": "4b08ff70-7915-43b2-b95e-3c3123ef6f0d",
   "metadata": {
    "jupyter": {
     "source_hidden": true
    },
    "tags": []
   },
   "outputs": [],
   "source": [
    "#### Do participants perform better than chance?"
   ]
  },
  {
   "cell_type": "code",
   "execution_count": 44,
   "id": "1c933eb0-3d7f-48a3-a5f9-95461f2e1cbf",
   "metadata": {
    "jupyter": {
     "source_hidden": true
    }
   },
   "outputs": [],
   "source": [
    "print_(f'Average accuracy: {avg_correct}')\n",
    "t_par, p_par = st.ttest_1samp(par_correct, 0.5)\n",
    "print_(f't = {t_par} ; p = {p_par}')"
   ]
  },
  {
   "cell_type": "code",
   "execution_count": null,
   "id": "562e3c0d-7ebe-4fd5-abd5-d94b4e6a025f",
   "metadata": {
    "jupyter": {
     "source_hidden": true
    },
    "tags": []
   },
   "outputs": [],
   "source": [
    "#### Do they improve over trials within each round?"
   ]
  },
  {
   "cell_type": "code",
   "execution_count": 45,
   "id": "157ecec0-a7fe-477b-99b6-70f0dd00c14a",
   "metadata": {
    "jupyter": {
     "source_hidden": true
    }
   },
   "outputs": [],
   "source": [
    "data_.groupby('trial').correct.mean();"
   ]
  },
  {
   "cell_type": "code",
   "execution_count": 46,
   "id": "8c98b256-2880-436e-8f02-048a1ff6e64f",
   "metadata": {
    "jupyter": {
     "source_hidden": true
    }
   },
   "outputs": [],
   "source": [
    "smf.ols(formula='correct ~ trial', data=data_).fit().summary();"
   ]
  },
  {
   "cell_type": "code",
   "execution_count": null,
   "id": "a4d60fa8-e3d5-411c-a08f-ebc3851bc758",
   "metadata": {
    "jupyter": {
     "source_hidden": true
    },
    "tags": []
   },
   "outputs": [],
   "source": [
    "#### Do they improve over rounds?"
   ]
  },
  {
   "cell_type": "code",
   "execution_count": 47,
   "id": "d50aac0f-a4bf-4f02-b05b-bea55f668a07",
   "metadata": {
    "jupyter": {
     "source_hidden": true
    }
   },
   "outputs": [],
   "source": [
    "data_.groupby(['task', 'slow']).correct.mean();"
   ]
  },
  {
   "cell_type": "code",
   "execution_count": 48,
   "id": "023b1667-b475-423a-b809-a124763f6055",
   "metadata": {
    "jupyter": {
     "source_hidden": true
    }
   },
   "outputs": [],
   "source": [
    "smf.ols(formula='correct ~ task', data=data_).fit().summary();"
   ]
  },
  {
   "cell_type": "code",
   "execution_count": null,
   "id": "945ef1a4-6e0b-498b-98fd-11ce4375e510",
   "metadata": {
    "jupyter": {
     "source_hidden": true
    },
    "tags": []
   },
   "outputs": [],
   "source": [
    "#### How does the number of observed features affect performance?"
   ]
  },
  {
   "cell_type": "code",
   "execution_count": 49,
   "id": "4192aae7-11ce-4b53-8721-e49ae9190d3c",
   "metadata": {
    "jupyter": {
     "source_hidden": true
    }
   },
   "outputs": [],
   "source": [
    "data_.groupby('num_features').correct.mean();"
   ]
  },
  {
   "cell_type": "code",
   "execution_count": 278,
   "id": "5b0687a9-6930-4fb4-97b7-964edb6530fd",
   "metadata": {
    "jupyter": {
     "source_hidden": true
    }
   },
   "outputs": [],
   "source": [
    "smf.ols(formula='correct ~ num_features', data=data_).fit().summary();"
   ]
  },
  {
   "cell_type": "code",
   "execution_count": null,
   "id": "4cd74a5c-981e-4808-ae11-cd7dc5fd4889",
   "metadata": {
    "jupyter": {
     "source_hidden": true
    },
    "tags": []
   },
   "outputs": [],
   "source": [
    "#### How does time pressure affect performance?"
   ]
  },
  {
   "cell_type": "code",
   "execution_count": 51,
   "id": "e9557de6-253b-4c1d-a2e0-7667bc8eb606",
   "metadata": {
    "jupyter": {
     "source_hidden": true
    }
   },
   "outputs": [],
   "source": [
    "data_.groupby('slow').correct.mean();"
   ]
  },
  {
   "cell_type": "code",
   "execution_count": 52,
   "id": "73adb92b-1b6d-4539-b09c-b25d6078fa13",
   "metadata": {
    "jupyter": {
     "source_hidden": true
    }
   },
   "outputs": [],
   "source": [
    "t_slow_fast, p_slow_fast = st.ttest_rel(data_[data_['slow'] == 0].correct, data_[data_['slow'] == 1].correct)\n",
    "print_(f't = {t_slow_fast}, p = {p_slow_fast}')"
   ]
  },
  {
   "cell_type": "code",
   "execution_count": null,
   "id": "f9ec6ef9-d936-479f-baae-149ce87862e2",
   "metadata": {
    "jupyter": {
     "source_hidden": true
    },
    "tags": []
   },
   "outputs": [],
   "source": [
    "### Does RT affect performnce?"
   ]
  },
  {
   "cell_type": "code",
   "execution_count": 53,
   "id": "a1ae3561-7dda-4d1a-9ea8-04f98246f36e",
   "metadata": {
    "jupyter": {
     "source_hidden": true
    }
   },
   "outputs": [],
   "source": [
    "data_.groupby('participant_id')[['decision_time', 'correct']].mean();"
   ]
  },
  {
   "cell_type": "code",
   "execution_count": 54,
   "id": "95fcdcd0-9517-4e15-8b58-e11165498593",
   "metadata": {
    "jupyter": {
     "source_hidden": true
    }
   },
   "outputs": [],
   "source": [
    "st.pearsonr(par_correct, par_RT);"
   ]
  },
  {
   "cell_type": "code",
   "execution_count": 55,
   "id": "91c2dbe8-5235-488e-95c2-83146dce5f46",
   "metadata": {
    "jupyter": {
     "source_hidden": true
    }
   },
   "outputs": [],
   "source": [
    "smf.ols(formula='correct ~ num_features * C(slow) * decision_time', data=data_).fit().summary();"
   ]
  },
  {
   "cell_type": "code",
   "execution_count": null,
   "id": "647afd2e-8d92-4058-8ce4-93ba9a25aded",
   "metadata": {
    "jupyter": {
     "source_hidden": true
    },
    "tags": []
   },
   "outputs": [],
   "source": [
    "### Bigression"
   ]
  },
  {
   "cell_type": "code",
   "execution_count": 56,
   "id": "ca78bd8d-c762-4e79-89ab-70ab9649423d",
   "metadata": {
    "jupyter": {
     "source_hidden": true
    }
   },
   "outputs": [],
   "source": [
    "smf.ols(formula='correct ~ num_features * C(slow) * decision_time', data=data_).fit().summary();"
   ]
  },
  {
   "cell_type": "code",
   "execution_count": null,
   "id": "74164c09-5d0b-441d-9c6e-adbb9b7ca639",
   "metadata": {
    "jupyter": {
     "source_hidden": true
    },
    "tags": []
   },
   "outputs": [],
   "source": [
    "## Parameter Fitting"
   ]
  },
  {
   "cell_type": "code",
   "execution_count": null,
   "id": "6ba69def-1054-4b06-b89e-450e5e7f4155",
   "metadata": {
    "jupyter": {
     "source_hidden": true
    },
    "tags": []
   },
   "outputs": [],
   "source": [
    "### Rescorla-Wagner"
   ]
  },
  {
   "cell_type": "code",
   "execution_count": 57,
   "id": "9ab47ac5-ba2a-454e-8e2f-2a2bbefb4873",
   "metadata": {
    "jupyter": {
     "source_hidden": true
    }
   },
   "outputs": [],
   "source": [
    "class RescorlaWagner():\n",
    "    _num_params = 1\n",
    "\n",
    "    def __init__(self, num_features, learning_rate):\n",
    "        self.num_features = num_features\n",
    "        self.learning_rate = learning_rate\n",
    "        \n",
    "        self.weights = np.zeros((num_features, 1))\n",
    "        \n",
    "    def predict(self, inputs):\n",
    "        mean = self.weights.T @ inputs\n",
    "        return mean, [[0]]\n",
    "        \n",
    "    def learn(self, inputs, targets):\n",
    "        self.weights = self.weights + self.learning_rate * (targets - self.weights.T @ inputs) * inputs"
   ]
  },
  {
   "cell_type": "code",
   "execution_count": 58,
   "id": "4a6ab67f-58a0-43c4-90e6-8655ac3f8e7e",
   "metadata": {
    "jupyter": {
     "source_hidden": true
    }
   },
   "outputs": [],
   "source": [
    "# bics_rw, optimal_model_params_rw, optimal_error_rw = optimise(RescorlaWagner, ((0, 1, 0.1),))"
   ]
  },
  {
   "cell_type": "code",
   "execution_count": 94,
   "id": "09f73d03-4256-4d95-898e-f8a11dc42960",
   "metadata": {
    "jupyter": {
     "source_hidden": true
    }
   },
   "outputs": [],
   "source": [
    "#bics_rw_slow, optimal_model_params_rw_slow, optimal_error_rw_slow = optimise(RescorlaWagner, ((0, 1, 0.1),), conditions={'slow': 1})"
   ]
  },
  {
   "cell_type": "code",
   "execution_count": 95,
   "id": "e7a67e86-07a6-4ec5-b85d-26069aa8c4c8",
   "metadata": {
    "jupyter": {
     "source_hidden": true
    }
   },
   "outputs": [],
   "source": [
    "#bics_rw_fast, optimal_model_params_rw_fast, optimal_error_rw_fast = optimise(RescorlaWagner, ((0, 1, 0.1),), conditions={'slow': 0})"
   ]
  },
  {
   "cell_type": "code",
   "execution_count": 93,
   "id": "e4baa717-573d-431f-80f2-44d69f05ec65",
   "metadata": {
    "jupyter": {
     "source_hidden": true
    }
   },
   "outputs": [],
   "source": [
    "#st.ttest_rel(optimal_model_params_rw_slow[:18, 0], optimal_model_params_rw_fast[:18, 0])"
   ]
  },
  {
   "cell_type": "code",
   "execution_count": 83,
   "id": "51829485-f04b-4867-8520-e00751007555",
   "metadata": {
    "jupyter": {
     "source_hidden": true
    }
   },
   "outputs": [],
   "source": [
    "# fig, ax = plt.subplots(1,2, figsize=(16, 4), sharey=True)\n",
    "\n",
    "# fig.suptitle(r'Optimal Error Weight in $\\epsilon$-Greedy Error Model Across Participants')\n",
    "# ax[0].bar(PARTICIPANTS - 0.175, optimal_error_rw_slow, 0.35, label='Slow', alpha=0.8)\n",
    "# ax[0].bar(PARTICIPANTS + 0.175, optimal_error_rw_fast, 0.35, label='Fast', alpha=0.8)\n",
    "# ax[0].set_xticks(PARTICIPANTS)\n",
    "# ax[0].legend();\n",
    "\n",
    "# boxplots(optimal_error_rw_slow, optimal_error_rw_fast, ('Slow', 'Fast'), ax[1])"
   ]
  },
  {
   "cell_type": "code",
   "execution_count": 92,
   "id": "c962ee42-6a27-43ba-9293-865778bbdec5",
   "metadata": {
    "jupyter": {
     "source_hidden": true
    }
   },
   "outputs": [],
   "source": [
    "#st.ttest_rel(optimal_error_rw_slow[:18], optimal_error_rw_fast[:18])"
   ]
  },
  {
   "cell_type": "code",
   "execution_count": null,
   "id": "5073a702-8789-400e-8b1d-e308391ea8b2",
   "metadata": {
    "jupyter": {
     "source_hidden": true
    },
    "tags": []
   },
   "outputs": [],
   "source": [
    "### Kalman Filter"
   ]
  },
  {
   "cell_type": "code",
   "execution_count": 65,
   "id": "ac952a66-3cc5-486d-98ae-ade86ce19924",
   "metadata": {
    "jupyter": {
     "source_hidden": true
    }
   },
   "outputs": [],
   "source": [
    "class KalmanFilter():\n",
    "    _num_params = 2 \n",
    "    \n",
    "    def __init__(self, num_features, sigma_y, sigma_w):\n",
    "        self.num_features = num_features\n",
    "        self.sigma_y = sigma_y\n",
    "        self.sigma_w = sigma_w\n",
    "        \n",
    "        self.weights = np.zeros((num_features, 1))\n",
    "        self.covariance = sigma_w * np.eye(num_features)\n",
    "        \n",
    "    def predict(self, inputs):\n",
    "        mean = self.weights.T @ inputs\n",
    "        std = np.sqrt(inputs.T @ self.covariance @ inputs + self.sigma_y ** 2)\n",
    "        return mean, std\n",
    "\n",
    "    def learn(self, inputs, targets):\n",
    "        kalman_numerator = self.covariance @ inputs\n",
    "        kalman_denominator = inputs.T @ self.covariance @ inputs + self.sigma_y ** 2\n",
    "        kalman_gain = kalman_numerator / kalman_denominator\n",
    "        \n",
    "        self.weights = self.weights + kalman_gain * (targets - self.weights.T @ inputs)\n",
    "        self.covariance = self.covariance - kalman_gain @ inputs.T @ self.covariance"
   ]
  },
  {
   "cell_type": "code",
   "execution_count": 66,
   "id": "72115cc3-fac5-4b7f-8b2d-4d7966652d93",
   "metadata": {
    "jupyter": {
     "source_hidden": true
    }
   },
   "outputs": [],
   "source": [
    "# bics_kf, optimal_model_params_kf, optimal_error_kf = optimise(KalmanFilter, ((0.1, 1, 0.1), (0.1, 1, 0.1)))"
   ]
  },
  {
   "cell_type": "code",
   "execution_count": 96,
   "id": "59c550e6-70fe-4749-aac1-599bc8f16e9f",
   "metadata": {
    "jupyter": {
     "source_hidden": true
    }
   },
   "outputs": [],
   "source": [
    "#bics_kf_slow, optimal_model_params_kf_slow, optimal_error_kf_slow = optimise(KalmanFilter, ((0.1, 1, 0.1), (0.1, 1, 0.1)), conditions={'slow': 1})"
   ]
  },
  {
   "cell_type": "code",
   "execution_count": 97,
   "id": "e2c2072d-3c98-44e0-a607-fc58aa9c1d6b",
   "metadata": {
    "jupyter": {
     "source_hidden": true
    }
   },
   "outputs": [],
   "source": [
    "#bics_kf_fast, optimal_model_params_kf_fast, optimal_error_kf_fast = optimise(KalmanFilter, ((0.1, 1, 0.1), (0.1, 1, 0.1)), conditions={'slow': 0})"
   ]
  },
  {
   "cell_type": "code",
   "execution_count": 84,
   "id": "efe97aff-1cfc-4a68-95b9-a247daaae4c1",
   "metadata": {
    "jupyter": {
     "source_hidden": true
    }
   },
   "outputs": [],
   "source": [
    "# fig, ax = plt.subplots(1,2, figsize=(16, 4), sharey=True)\n",
    "\n",
    "# fig.suptitle(r'Optimal $\\sigma_y$ Across Participants')\n",
    "# ax[0].bar(PARTICIPANTS - 0.175, optimal_model_params_kf_slow[:, 0], 0.35, label='Slow', alpha=0.8)\n",
    "# ax[0].bar(PARTICIPANTS + 0.175, optimal_model_params_kf_fast[:, 0], 0.35, label='Fast', alpha=0.8)\n",
    "# ax[0].set_xticks(PARTICIPANTS)\n",
    "# ax[0].legend();\n",
    "\n",
    "# boxplots(optimal_model_params_kf_slow[:, 0], optimal_model_params_kf_fast[:, 0], ('Slow', 'Fast'), ax[1])"
   ]
  },
  {
   "cell_type": "code",
   "execution_count": 91,
   "id": "f7fdb62b-02e5-4c0b-9501-0886b672ac8b",
   "metadata": {
    "jupyter": {
     "source_hidden": true
    }
   },
   "outputs": [],
   "source": [
    "#st.ttest_rel(optimal_model_params_kf_slow[:18, 0], optimal_model_params_kf_fast[:18, 0])"
   ]
  },
  {
   "cell_type": "code",
   "execution_count": 85,
   "id": "823a4655-5f79-4b35-aa2f-0440efbad5b7",
   "metadata": {
    "jupyter": {
     "source_hidden": true
    }
   },
   "outputs": [],
   "source": [
    "# fig, ax = plt.subplots(1,2, figsize=(16, 4), sharey=True)\n",
    "\n",
    "# fig.suptitle(r'Optimal Error Weight in $\\epsilon$-Greedy Error Model Across Participants')\n",
    "# ax[0].bar(PARTICIPANTS - 0.175, np.array(optimal_error_kf_slow).squeeze(), 0.35, label='Slow', alpha=0.8)\n",
    "# ax[0].bar(PARTICIPANTS + 0.175, np.array(optimal_error_kf_fast).squeeze(), 0.35, label='Fast', alpha=0.8)\n",
    "# ax[0].set_xticks(PARTICIPANTS)\n",
    "# ax[0].legend();\n",
    "\n",
    "# boxplots(optimal_error_kf_slow, optimal_error_kf_fast, ('Slow', 'Fast'), ax[1])"
   ]
  },
  {
   "cell_type": "code",
   "execution_count": 90,
   "id": "d58317ab-9108-4614-a480-28baf54d9b5e",
   "metadata": {
    "jupyter": {
     "source_hidden": true
    }
   },
   "outputs": [],
   "source": [
    "#st.ttest_rel(optimal_error_kf_slow[:18], optimal_error_kf_fast[:18])"
   ]
  },
  {
   "cell_type": "code",
   "execution_count": null,
   "id": "e4b74b6e-6a13-43c8-8167-ff868d1004d0",
   "metadata": {
    "jupyter": {
     "source_hidden": true
    },
    "tags": []
   },
   "outputs": [],
   "source": [
    "### Random Model"
   ]
  },
  {
   "cell_type": "code",
   "execution_count": 73,
   "id": "527b942d-ec0f-4312-87c8-299d1dc07a42",
   "metadata": {
    "jupyter": {
     "source_hidden": true
    },
    "tags": []
   },
   "outputs": [],
   "source": [
    "# bics_rm = np.array([bic(0, NUM_TRIALS*data['global_task'].nunique(), NUM_TRIALS*data['global_task'].nunique()*np.log(0.5))] * NUM_PARTICIPANTS)"
   ]
  },
  {
   "cell_type": "code",
   "execution_count": 74,
   "id": "3f9ec116-51a1-4cc2-8b7b-3aa61445f717",
   "metadata": {
    "jupyter": {
     "source_hidden": true
    },
    "tags": []
   },
   "outputs": [],
   "source": [
    "bics_rm_slow = np.array([bic(0, NUM_TRIALS*data[data['slow'] == 1]['global_task'].nunique(), NUM_TRIALS*data[data['slow'] == 1]['global_task'].nunique()*np.log(0.5))] * NUM_PARTICIPANTS)"
   ]
  },
  {
   "cell_type": "code",
   "execution_count": 75,
   "id": "5359fb86-31cc-4957-ac86-a41561f80c61",
   "metadata": {
    "jupyter": {
     "source_hidden": true
    },
    "tags": []
   },
   "outputs": [],
   "source": [
    "bics_rm_fast = np.array([bic(0, NUM_TRIALS*data[data['slow'] == 0]['global_task'].nunique(), NUM_TRIALS*data[data['slow'] == 0]['global_task'].nunique()*np.log(0.5))] * NUM_PARTICIPANTS)"
   ]
  },
  {
   "cell_type": "code",
   "execution_count": 98,
   "id": "551253db-08d0-459f-a557-5f6e7bd9f019",
   "metadata": {
    "jupyter": {
     "source_hidden": true
    }
   },
   "outputs": [],
   "source": [
    "#bics_rw_slow_2, optimal_model_params_rw_slow_2, optimal_error_rw_slow_2 = optimise(RescorlaWagner, ((0, 1.1, 0.1),), conditions={'slow': 1, 'num_features': 2})"
   ]
  },
  {
   "cell_type": "code",
   "execution_count": 99,
   "id": "5d58751c-4f6a-42f8-8c06-f0bce8c5f460",
   "metadata": {
    "jupyter": {
     "source_hidden": true
    }
   },
   "outputs": [],
   "source": [
    "#bics_rw_slow_3, optimal_model_params_rw_slow_3, optimal_error_rw_slow_3 = optimise(RescorlaWagner, ((0, 1.1, 0.1),), conditions={'slow': 1, 'num_features': 3})"
   ]
  },
  {
   "cell_type": "code",
   "execution_count": 100,
   "id": "5171df9e-b782-43ad-b33b-b336c2aeb968",
   "metadata": {
    "jupyter": {
     "source_hidden": true
    }
   },
   "outputs": [],
   "source": [
    "#bics_rw_slow_4, optimal_model_params_rw_slow_4, optimal_error_rw_slow_4 = optimise(RescorlaWagner, ((0, 1.1, 0.1),), conditions={'slow': 1, 'num_features': 4})"
   ]
  },
  {
   "cell_type": "code",
   "execution_count": 101,
   "id": "2cec5fb5-ee2e-46dd-bcee-ee710828b818",
   "metadata": {
    "jupyter": {
     "source_hidden": true
    }
   },
   "outputs": [],
   "source": [
    "#bics_rw_fast_2, optimal_model_params_rw_fast_2, optimal_error_rw_fast_2 = optimise(RescorlaWagner, ((0, 1.1, 0.1),), conditions={'slow': 0, 'num_features': 2})"
   ]
  },
  {
   "cell_type": "code",
   "execution_count": 102,
   "id": "e70c35ae-e92b-4d3b-a830-ca5e51c990a6",
   "metadata": {
    "jupyter": {
     "source_hidden": true
    }
   },
   "outputs": [],
   "source": [
    "#bics_rw_fast_3, optimal_model_params_rw_fast_3, optimal_error_rw_fast_3 = optimise(RescorlaWagner, ((0, 1.1, 0.1),), conditions={'slow': 0, 'num_features': 3})"
   ]
  },
  {
   "cell_type": "code",
   "execution_count": 103,
   "id": "d8907906-4359-4b56-a7c5-74a68c250a9a",
   "metadata": {
    "jupyter": {
     "source_hidden": true
    }
   },
   "outputs": [],
   "source": [
    "#bics_rw_fast_4, optimal_model_params_rw_fast_4, optimal_error_rw_fast_4 = optimise(RescorlaWagner, ((0, 1.1, 0.1),), conditions={'slow': 0, 'num_features': 4})"
   ]
  },
  {
   "cell_type": "code",
   "execution_count": null,
   "id": "b01103ef-8457-415c-ac08-5ad2a7892f55",
   "metadata": {
    "jupyter": {
     "source_hidden": true
    },
    "tags": []
   },
   "outputs": [],
   "source": [
    "#### Does increasing the number of features lead to slower learning?"
   ]
  },
  {
   "cell_type": "code",
   "execution_count": 86,
   "id": "1e3bc407-357f-4e04-a5ab-d7bdf6e20cce",
   "metadata": {
    "jupyter": {
     "source_hidden": true
    }
   },
   "outputs": [],
   "source": [
    "# fig, ax = plt.subplots(1, 2, figsize=(16, 4), sharey=True)\n",
    "\n",
    "# fig.suptitle(r'Optimal Learning Rate Across Participants (Slow Tasks)')\n",
    "# ax[0].bar(PARTICIPANTS - 0.23, optimal_model_params_rw_slow_2[:, 0], 0.23, label='2', alpha=0.8)\n",
    "# ax[0].bar(PARTICIPANTS, optimal_model_params_rw_slow_3[:, 0], 0.23, label='3', alpha=0.8)\n",
    "# ax[0].bar(PARTICIPANTS + 0.23, optimal_model_params_rw_slow_4[:, 0], 0.23, label='4', alpha=0.8)\n",
    "# ax[0].set_xticks(PARTICIPANTS)\n",
    "# ax[0].legend();\n",
    "\n",
    "# boxplots([optimal_model_params_rw_slow_2, optimal_model_params_rw_slow_3, optimal_model_params_rw_slow_4], ('2', '3', '4'), ax[1])"
   ]
  },
  {
   "cell_type": "code",
   "execution_count": 279,
   "id": "93708edc-218a-4bef-81d0-530ed78cd050",
   "metadata": {
    "jupyter": {
     "source_hidden": true
    }
   },
   "outputs": [],
   "source": [
    "# st.ttest_rel(optimal_model_params_rw_slow[:18, 0], optimal_model_params_rw_fast[:18, 0])\n",
    "smf.ols(formula='learning_rate ~ num_features', \n",
    "        data=pd.DataFrame({\n",
    "            'num_features': np.concatenate([[2]*len(optimal_model_params_rw_slow_2), [3]*len(optimal_model_params_rw_slow_3), [4]*len(optimal_model_params_rw_slow_4)]),\n",
    "            'learning_rate': np.concatenate([optimal_model_params_rw_slow_2[:, 0], optimal_model_params_rw_slow_3[:, 0], optimal_model_params_rw_slow_4[:, 0]])\n",
    "        })).fit().summary();"
   ]
  },
  {
   "cell_type": "code",
   "execution_count": 87,
   "id": "5e2130e3-509e-45ca-abc1-aa94aa4f3967",
   "metadata": {
    "jupyter": {
     "source_hidden": true
    }
   },
   "outputs": [],
   "source": [
    "# fig, ax = plt.subplots(1, 2, figsize=(16, 4), sharey=True)\n",
    "\n",
    "# fig.suptitle(r'Optimal Learning Rate Across Participants (Fast Tasks)')\n",
    "# ax[0].bar(PARTICIPANTS - 0.23, optimal_model_params_rw_fast_2[:, 0], 0.23, label='2', alpha=0.8)\n",
    "# ax[0].bar(PARTICIPANTS, optimal_model_params_rw_fast_3[:, 0], 0.23, label='3', alpha=0.8)\n",
    "# ax[0].bar(PARTICIPANTS + 0.23, optimal_model_params_rw_fast_4[:, 0], 0.23, label='4', alpha=0.8)\n",
    "# ax[0].set_xticks(PARTICIPANTS)\n",
    "# ax[0].legend();\n",
    "\n",
    "# boxplots([optimal_model_params_rw_fast_2, optimal_model_params_rw_fast_3, optimal_model_params_rw_fast_4], ('2', '3', '4'), ax[1])"
   ]
  },
  {
   "cell_type": "code",
   "execution_count": 288,
   "id": "6514982d-1d0d-41b1-959a-3345047e1fd0",
   "metadata": {
    "jupyter": {
     "source_hidden": true
    }
   },
   "outputs": [],
   "source": [
    "# st.ttest_rel(optimal_model_params_rw_slow[:18, 0], optimal_model_params_rw_fast[:18, 0])\n",
    "smf.ols(formula='learning_rate ~ num_features', \n",
    "        data=pd.DataFrame({\n",
    "            'num_features': np.concatenate([[2]*len(optimal_model_params_rw_fast_2), [3]*len(optimal_model_params_rw_fast_3), [4]*len(optimal_model_params_rw_fast_4)]),\n",
    "            'learning_rate': np.concatenate([optimal_model_params_rw_fast_2[:, 0], optimal_model_params_rw_fast_3[:, 0], optimal_model_params_rw_fast_4[:, 0]])\n",
    "        })).fit().summary();"
   ]
  },
  {
   "cell_type": "code",
   "execution_count": null,
   "id": "7999202e-756e-44eb-bab4-aaa6a26ba662",
   "metadata": {
    "jp-MarkdownHeadingCollapsed": true,
    "jupyter": {
     "source_hidden": true
    },
    "tags": []
   },
   "outputs": [],
   "source": [
    "#### Does increasing the number of features lead to noisy decisions?"
   ]
  },
  {
   "cell_type": "code",
   "execution_count": 88,
   "id": "37880edb-da1f-4308-8901-09fa6bd599ce",
   "metadata": {
    "jupyter": {
     "source_hidden": true
    }
   },
   "outputs": [],
   "source": [
    "# fig, ax = plt.subplots(1,2, figsize=(16, 4), sharey=True)\n",
    "\n",
    "# fig.suptitle(r'Optimal Error Weight in $\\epsilon$-Greedy Error Model Across Participants (Slow Tasks)')\n",
    "# ax[0].bar(PARTICIPANTS - 0.23, optimal_error_rw_slow_2, 0.23, label='2', alpha=0.8)\n",
    "# ax[0].bar(PARTICIPANTS, optimal_error_rw_slow_3, 0.23, label='3', alpha=0.8)\n",
    "# ax[0].bar(PARTICIPANTS + 0.23, optimal_error_rw_slow_4, 0.23, label='4', alpha=0.8)\n",
    "# ax[0].set_xticks(PARTICIPANTS)\n",
    "# ax[0].legend();\n",
    "\n",
    "# boxplots([optimal_error_rw_slow_2, optimal_error_rw_slow_3, optimal_error_rw_slow_4], ('2', '3', '4'), ax[1])"
   ]
  },
  {
   "cell_type": "code",
   "execution_count": 315,
   "id": "842cd5bc-3bec-4bdd-b2ae-63478924e740",
   "metadata": {
    "jupyter": {
     "source_hidden": true
    }
   },
   "outputs": [],
   "source": [
    "# st.ttest_rel(optimal_model_params_rw_slow[:18, 0], optimal_model_params_rw_fast[:18, 0])\n",
    "smf.ols(formula='epsilon_error ~ num_features', \n",
    "        data=pd.DataFrame({\n",
    "            'num_features': np.concatenate([[2]*len(optimal_error_rw_slow_2), [3]*len(optimal_error_rw_slow_3), [4]*len(optimal_error_rw_slow_4)]),\n",
    "            'epsilon_error': np.concatenate([optimal_error_rw_slow_2, optimal_error_rw_slow_3, optimal_error_rw_slow_4])\n",
    "        })).fit().summary();"
   ]
  },
  {
   "cell_type": "code",
   "execution_count": 89,
   "id": "2e66f075-df00-4cc0-879d-874106c59ff8",
   "metadata": {
    "jupyter": {
     "source_hidden": true
    }
   },
   "outputs": [],
   "source": [
    "# fig, ax = plt.subplots(1,2, figsize=(16, 4), sharey=True)\n",
    "\n",
    "# fig.suptitle(r'Optimal Error Weight in $\\epsilon$-Greedy Error Model Across Participants (Fast Tasks)')\n",
    "# ax[0].bar(PARTICIPANTS - 0.23, optimal_error_rw_fast_2, 0.23, label='2', alpha=0.8)\n",
    "# ax[0].bar(PARTICIPANTS, optimal_error_rw_fast_3, 0.23, label='3', alpha=0.8)\n",
    "# ax[0].bar(PARTICIPANTS + 0.23, optimal_error_rw_fast_4, 0.23, label='4', alpha=0.8)\n",
    "# ax[0].set_xticks(PARTICIPANTS)\n",
    "# ax[0].legend();\n",
    "\n",
    "# boxplots([optimal_error_rw_fast_2, optimal_error_rw_fast_3, optimal_error_rw_fast_4], ('2', '3', '4'), ax[1])"
   ]
  },
  {
   "cell_type": "code",
   "execution_count": 316,
   "id": "f72ea131-fcad-4f65-ba81-40e3640cd4eb",
   "metadata": {
    "jupyter": {
     "source_hidden": true
    }
   },
   "outputs": [],
   "source": [
    "# st.ttest_rel(optimal_model_params_rw_slow[:18, 0], optimal_model_params_rw_fast[:18, 0])\n",
    "smf.ols(formula='epsilon_error ~ num_features', \n",
    "        data=pd.DataFrame({\n",
    "            'num_features': np.concatenate([[2]*len(optimal_error_rw_fast_2), [3]*len(optimal_error_rw_fast_3), [4]*len(optimal_error_rw_fast_4)]),\n",
    "            'epsilon_error': np.concatenate([optimal_error_rw_fast_2, optimal_error_rw_fast_3, optimal_error_rw_fast_4])\n",
    "        })).fit().summary();"
   ]
  },
  {
   "cell_type": "code",
   "execution_count": 318,
   "id": "5e1a17c7-e56d-4839-8b5a-acc3bbf83f35",
   "metadata": {
    "jupyter": {
     "source_hidden": true
    }
   },
   "outputs": [],
   "source": [
    "pairwise_tukeyhsd(np.concatenate([optimal_error_rw_fast_2, optimal_error_rw_fast_3, optimal_error_rw_fast_4]),\n",
    "                  np.concatenate([[2]*len(optimal_error_rw_fast_2), [3]*len(optimal_error_rw_fast_3), [4]*len(optimal_error_rw_fast_4)])).summary();"
   ]
  },
  {
   "cell_type": "markdown",
   "id": "30632311-13c6-4b61-885b-535848ed9f40",
   "metadata": {
    "tags": []
   },
   "source": [
    "# Methods"
   ]
  },
  {
   "cell_type": "markdown",
   "id": "dd7c37af-2ca8-4394-9573-858031eb694a",
   "metadata": {
    "tags": []
   },
   "source": [
    "## Participant and Data"
   ]
  },
  {
   "cell_type": "markdown",
   "id": "63af8987-9436-4a48-8c57-c0dfc9fc90c3",
   "metadata": {},
   "source": [
    "Anonymous data collected from 19 participants was provided without demographic variables other than source (Computational Cognitive Science class at University of Tübingen). Data from 1 of the 19 participants, participant number 18, was excluded from our analyses after being identified as an outlier, performing significantly better than the rest of the sample with both notably higher accuracy ($M$ = 89% vs. 63.3%) and faster reaction time ($M$ = 675.16 ms vs. 2131.19 ms). The reaction time of participant number 11 was also identified as an outlier ($M$ = 3072.21 ms vs. 2131.19 ms) but as their accuracy was normal we decided to keep this participant (see fig. 1)."
   ]
  },
  {
   "cell_type": "code",
   "execution_count": 578,
   "id": "81eb6404-957b-499f-b1b3-08671839ae40",
   "metadata": {},
   "outputs": [
    {
     "data": {
      "image/png": "[encoded data removed]",
      "text/plain": [
       "<Figure size 500x400 with 2 Axes>"
      ]
     },
     "metadata": {},
     "output_type": "display_data"
    }
   ],
   "source": [
    "fig, ax = plt.subplots(1, 2, figsize=(5, 4))\n",
    "boxplots([par_correct], ['Accuracy'], ax[0], point_labels=['']*11 + [''] + ['']*6 + [18])\n",
    "boxplots([par_RT], ['Reaction Time'], ax[1], point_labels=['']*11 + [11] + ['']*6 + [18])\n",
    "fig.suptitle('Outlier Detection')\n",
    "plt.figtext(0.5, -0.02, 'Figure 1', wrap=True, horizontalalignment='center', fontsize=12)\n",
    "plt.tight_layout()"
   ]
  },
  {
   "cell_type": "markdown",
   "id": "d33a9385-fd29-49b9-9531-9ab8fae89a0d",
   "metadata": {
    "tags": []
   },
   "source": [
    "## Task"
   ]
  },
  {
   "cell_type": "markdown",
   "id": "ea439f9a-27e2-4306-bbf6-25be00ac4ce8",
   "metadata": {},
   "source": [
    "A two-alternative forced choice task was used to investigate learning in the participants. Participants went through 30 blocks of 10 trials. In each trial the goal was to determine which of two aliens win an abstract, non-visualized game based on 2, 3 or 4 features (number of features condition) provided to the participant under either a 3s (fast) or 6s (slow) time limit (time-pressure condition). The first 15 blocks were either in the slow or fast time pressure condition while the last 15 would be in the other, with this order of time-pressure conditions being counter-balanced between subjects. The number of features for each block were set constant but randomized within these 15 set blocks resulting in 5 sets of each 2, 3, or 4 features per time-pressure condition. Each of the features of each alien (2 to 4D vectors $x_{t,F}$ and $x_{t,J}$) were generated using a Gaussian distribution with a mean ($M$) of 0 and a standard deviation ($sd$) of 1. These were further weighted $w$ using a Gaussian distribution of $M$ = 0 and $sd$ = 1, defining which of the aliens won based on $y_{t,F}$ = $w^\\top x_{t,F}$ and $y_{t,J}$ = $w^\\top x_{t,J}$."
   ]
  },
  {
   "cell_type": "markdown",
   "id": "9eecda31-3cd6-49e5-8e67-12883914c2b5",
   "metadata": {
    "tags": []
   },
   "source": [
    "## Modeling"
   ]
  },
  {
   "cell_type": "markdown",
   "id": "0b6908e1-efd6-462d-aa48-6cf7b44de7e0",
   "metadata": {},
   "source": [
    "### Learning Models"
   ]
  },
  {
   "cell_type": "markdown",
   "id": "6ba16527-edd8-4eaa-849c-1f16d11b485e",
   "metadata": {},
   "source": [
    "We compared two classic learning models of cognition against a random policy to model learning in participants.  \n",
    "1. Rescorla-Wagner  \n",
    "2. Kalman Filter"
   ]
  },
  {
   "cell_type": "markdown",
   "id": "b5f48284-5fb5-4bb3-a728-5035dcca54dc",
   "metadata": {
    "jp-MarkdownHeadingCollapsed": true,
    "tags": []
   },
   "source": [
    "### Decision-Making"
   ]
  },
  {
   "cell_type": "markdown",
   "id": "2e501db4-96fe-45ea-9add-1c4c8eb3340a",
   "metadata": {},
   "source": [
    "For more accurate likelihood calculations, we wanted a decision algorithm that outputs a non-binary choice probability and wanted to be learning model agnostic, so we chose Softmax. Additionally, to model errors, we added an $\\epsilon$-greedy error rule on top of the decision making process. The epsilon value was added as a search parameter during parameter fitting/optimisation. "
   ]
  },
  {
   "cell_type": "markdown",
   "id": "f74f2188-fdf0-4e93-a984-7e66da6a05b9",
   "metadata": {},
   "source": [
    "### Scoring Criterion"
   ]
  },
  {
   "cell_type": "markdown",
   "id": "21be0752-f36e-40c6-822a-6bde325fe035",
   "metadata": {},
   "source": [
    "We choose to use the Bayesian Information Criterion (BIC) as our performance measure as our goal is to find the best fitting model or maximise the posterior probability."
   ]
  },
  {
   "cell_type": "markdown",
   "id": "0840ef81-c376-4326-83b9-854b3f019797",
   "metadata": {},
   "source": [
    "### Model Fitting"
   ]
  },
  {
   "cell_type": "markdown",
   "id": "67826ac6-4534-4869-844f-dd43a6a3f4c8",
   "metadata": {},
   "source": [
    "We used grid search with sufficient precision for optimisatioe because of its ease of implementation, availability in standard Python libraries, and potential for caching (leading to faster computations when re-running analysis on different subsets of tasks).  \n",
    "\n",
    "For accuracy validation, we compared it with other more accurate optimization techniques. The comparisons resulted in minimal differences in BIC scores to the Grid Search optimization. Moreover, the run-times were comparable."
   ]
  },
  {
   "cell_type": "markdown",
   "id": "5ca8e877-d944-4300-8143-f81ea66e6769",
   "metadata": {
    "tags": []
   },
   "source": [
    "# Results"
   ]
  },
  {
   "cell_type": "markdown",
   "id": "2934fd21-5313-47a5-89ce-763c8a1c9997",
   "metadata": {
    "jp-MarkdownHeadingCollapsed": true,
    "tags": []
   },
   "source": [
    "## Behavioral"
   ]
  },
  {
   "cell_type": "markdown",
   "id": "7d77f22c-425f-4d8f-bd33-5bb3bbb8dfce",
   "metadata": {},
   "source": [
    "A one-sample t-test against a 50% chance level (participants had two alternatives) confirmed that participants performed on average above chance level ($t$(17) = 9.75, $p$ < 0.05) with an total average accuracy of 63.3% across all participants. \n",
    "\n",
    "&emsp; We then proceeded to complete five linear regression analyses to examine performance in trials and tasks, the influence of the number of features on performance, and the relationship between reaction time and performance. Regressing performance on trial within block, the first analysis indicated that participants perform better with each trial within blocks ($\\beta$ = 0.014, $R^2$ = 0.007, $p$ < 0.001). On average, participants perform 1.4% better each trial after the first, suggesting participants indeed learn the task. In our second analysis we regressed performance on block, finding statistically significant relationship ($p$ = 0.329) suggesting participant performance did not vary within blocks. However, including the starting condition as a covariate resulted in a significant relationship ($\\beta_{block}$ = 0.0007, $\\beta_{start}$ = 0.0475, $R^2$ = 0.002, $p$ = 0.003), though only finding the starting condition as a significant regressand ($p_{block}$ = 0.329, $p_{start}$ = 0.001). Our third analysis regressing performance on number of features found a statistically significant relationship ($\\beta$ = -0.043, $R^2$ = 0.005, $p$ < 0.001), indicating that the addition of each feature decreases accuracy on average by 4.3%. In other words, this suggests learning became more difficult with the addition of each feature. Finally, in the fourth analysis regressing performance on reaction time we found a that higher reaction time generally resulted in better accuracy ($\\beta$ = 0.00005, $R$ = 0.011, $p$ < 0.001) with a 0.5% increase in accuracy for every 100ms. However, an additional Pearson's correlation test suggested no statistically significant relationship ($r$ = -0.43, $p$ = 0.07).\n",
    "\n",
    "&emsp; We also performed two additional t-tests to examine the differences in performance due to time-pressure condition and starting time-pressure condition. Using a related samples t-test we found that participant perform of average 4.5% better ($M_{fast}$ = 61% vs. $M_{slow}$ = 65.5%) in slow trials ($t$(17) = -3.5, $p$ < 0.001), possibly due to having the ability to better consider the features. In contrast, an independent samples t-test showed no differences in participant performance resulting from  first encountered the slow condition instead of the fast condition ($t$(17) = -1.69, $p$ = 0.121). We also tested for a difference in reaction time between time-pressure conditions, and found that participants took almost 1s less to respond in the fast vs. slow condition ($t$(17) = -37.087, $p$ < 0.001, $M_{fast}$ = 1630.56 ms vs. $M_{slow}$ = 2631.83 ms)."
   ]
  },
  {
   "cell_type": "markdown",
   "id": "b10e8831-2405-4b07-a050-cbfe24249a90",
   "metadata": {
    "jp-MarkdownHeadingCollapsed": true,
    "tags": []
   },
   "source": [
    "## Model Comparison"
   ]
  },
  {
   "cell_type": "markdown",
   "id": "6da0441c-3340-45b5-8988-77dd8d7744c4",
   "metadata": {},
   "source": [
    "In the heatmaps below (fig. 2 and 3), we include participant 18 due to the interesting performance they exhibited."
   ]
  },
  {
   "cell_type": "code",
   "execution_count": 149,
   "id": "01006b9d-fd87-4621-93f8-0b3247ac0899",
   "metadata": {
    "jupyter": {
     "source_hidden": true
    },
    "tags": []
   },
   "outputs": [],
   "source": [
    "bics_rw_slow = load('bics_rw_slow')\n",
    "optimal_model_params_rw_slow = load('optimal_model_params_rw_slow')\n",
    "optimal_error_rw_slow = load('optimal_error_rw_slow')\n",
    "\n",
    "bics_rw_fast = load('bics_rw_fast')\n",
    "optimal_model_params_rw_fast = load('optimal_model_params_rw_fast')\n",
    "optimal_error_rw_fast = load('optimal_error_rw_fast')\n",
    "\n",
    "bics_kf_slow = load('bics_kf_slow')\n",
    "optimal_model_params_kf_slow = load('optimal_model_params_kf_slow')\n",
    "optimal_error_kf_slow = load('optimal_error_kf_slow')\n",
    "\n",
    "bics_kf_fast = load('bics_kf_fast')\n",
    "optimal_model_params_kf_fast = load('optimal_model_params_kf_fast')\n",
    "optimal_error_kf_fast = load('optimal_error_kf_fast')\n",
    "\n",
    "bics_rm_slow = np.array([bic(0, NUM_TRIALS*data[data['slow'] == 1]['global_task'].nunique(), NUM_TRIALS*data[data['slow'] == 1]['global_task'].nunique()*np.log(0.5))] * NUM_PARTICIPANTS)\n",
    "bics_rm_fast = np.array([bic(0, NUM_TRIALS*data[data['slow'] == 0]['global_task'].nunique(), NUM_TRIALS*data[data['slow'] == 0]['global_task'].nunique()*np.log(0.5))] * NUM_PARTICIPANTS)\n",
    "\n",
    "bics_slow = pd.DataFrame({'RW_SLOW': bics_rw_slow, 'KF_SLOW': bics_kf_slow, 'RM_SLOW': bics_rm_slow})\n",
    "bics_fast = pd.DataFrame({'RW_FAST': bics_rw_fast, 'KF_FAST': bics_kf_fast, 'RM_FAST': bics_rm_fast})\n",
    "bics_net = pd.DataFrame({m: bics_slow[f'{m}_SLOW'] + bics_fast[f'{m}_FAST'] - p*np.log(300) for m, p in zip(['RW', 'KF', 'RM'], [2, 3, 0])})\n",
    "\n",
    "counts_slow = {'RW_SLOW': 0, 'KF_SLOW': 0, 'RM_SLOW': 0}\n",
    "for key, val in zip(*np.unique(bics_slow.columns[np.argmin(np.array(bics_slow[:18]), axis=1)], return_counts=True)):\n",
    "    counts_slow[key] = val\n",
    "\n",
    "counts_fast = {'RW_FAST': 0, 'KF_FAST': 0, 'RM_FAST': 0}\n",
    "for key, val in zip(*np.unique(bics_fast.columns[np.argmin(np.array(bics_fast[:18]), axis=1)], return_counts=True)):\n",
    "    counts_fast[key] = val"
   ]
  },
  {
   "cell_type": "code",
   "execution_count": 163,
   "id": "a26ea611-7a7b-4bc5-aea6-ff39bdc81775",
   "metadata": {
    "jupyter": {
     "source_hidden": true
    },
    "tags": []
   },
   "outputs": [],
   "source": [
    "bics_slow = pd.DataFrame({'RW_SLOW': bics_rw_slow, 'KF_SLOW': bics_kf_slow, 'RM_SLOW': bics_rm_slow})\n",
    "bics_fast = pd.DataFrame({'RW_FAST': bics_rw_fast, 'KF_FAST': bics_kf_fast, 'RM_FAST': bics_rm_fast})"
   ]
  },
  {
   "cell_type": "code",
   "execution_count": 164,
   "id": "e8d52bb2-9287-4d8c-b271-e24b9d8f8054",
   "metadata": {
    "jupyter": {
     "source_hidden": true
    },
    "tags": []
   },
   "outputs": [],
   "source": [
    "bics_net = pd.DataFrame({m: bics_slow[f'{m}_SLOW'] + bics_fast[f'{m}_FAST'] - p*np.log(300) for m, p in zip(['RW', 'KF', 'RM'], [2, 3, 0])})"
   ]
  },
  {
   "cell_type": "code",
   "execution_count": 190,
   "id": "b8b62e86-4e30-4ff0-91de-6e1ec7b0dbb6",
   "metadata": {
    "jupyter": {
     "source_hidden": true
    },
    "tags": []
   },
   "outputs": [],
   "source": [
    "counts_slow = {'RW_SLOW': 0, 'KF_SLOW': 0, 'RM_SLOW': 0}\n",
    "for key, val in zip(*np.unique(bics_slow.columns[np.argmin(np.array(bics_slow[:18]), axis=1)], return_counts=True)):\n",
    "    counts_slow[key] = val\n",
    "\n",
    "counts_fast = {'RW_FAST': 0, 'KF_FAST': 0, 'RM_FAST': 0}\n",
    "for key, val in zip(*np.unique(bics_fast.columns[np.argmin(np.array(bics_fast[:18]), axis=1)], return_counts=True)):\n",
    "    counts_fast[key] = val"
   ]
  },
  {
   "cell_type": "code",
   "execution_count": 559,
   "id": "670a8cbd-f7c7-421a-b6d6-380571762a2f",
   "metadata": {},
   "outputs": [
    {
     "data": {
      "image/png": "[encoded data removed]",
      "text/plain": [
       "<Figure size 1000x300 with 4 Axes>"
      ]
     },
     "metadata": {},
     "output_type": "display_data"
    }
   ],
   "source": [
    "fig, axs = plt.subplots(2, 1, figsize=(10, 3), sharex=True)\n",
    "\n",
    "sns.heatmap(bics_slow.applymap(round)[['RW_SLOW', 'KF_SLOW']].T, cmap='RdBu_r', annot=True, fmt='g', ax=axs[0], annot_kws={'fontsize': 8})\n",
    "# axs[0].set_title('BIC (Slow Tasks)')\n",
    "# axs[0].set_xlabel('Participant ID')\n",
    "axs[0].set_ylabel('Model')\n",
    "\n",
    "sns.heatmap(bics_fast.applymap(round)[['RW_FAST', 'KF_FAST', 'RM_FAST']].T, cmap='RdBu_r', annot=True, fmt='g', ax=axs[1], annot_kws={'fontsize': 8})\n",
    "# axs[1].set_title('BIC (Fast Tasks)')\n",
    "axs[1].set_xlabel('Participant ID')\n",
    "axs[1].set_ylabel('Model')\n",
    "\n",
    "axs[0].set_title('Comparison of BIC Scores Between Fast and Slow Tasks Across Models')\n",
    "\n",
    "plt.figtext(0.45, -0.02, 'Figure 2', wrap=True, horizontalalignment='center', fontsize=12)\n",
    "\n",
    "plt.tight_layout()"
   ]
  },
  {
   "cell_type": "code",
   "execution_count": 560,
   "id": "6abf8e47-aaeb-48ec-913e-130122566fa0",
   "metadata": {},
   "outputs": [
    {
     "data": {
      "image/png": "[encoded data removed]",
      "text/plain": [
       "<Figure size 1000x200 with 2 Axes>"
      ]
     },
     "metadata": {},
     "output_type": "display_data"
    }
   ],
   "source": [
    "fig, ax = plt.subplots(1, 1, figsize=(10, 2), sharex=True)\n",
    "\n",
    "sns.heatmap(bics_net.applymap(round)[['RW', 'KF', 'RM']].T, cmap='RdBu_r', annot=True, fmt='g', ax=ax, annot_kws={'fontsize': 8})\n",
    "ax.set_xlabel('Participant ID')\n",
    "ax.set_ylabel('Model')\n",
    "\n",
    "ax.set_title('Comparison of BIC Scores for All Tasks Across Models')\n",
    "\n",
    "plt.figtext(0.45, -0.02, 'Figure 3', wrap=True, horizontalalignment='center', fontsize=12)\n",
    "\n",
    "plt.tight_layout()"
   ]
  },
  {
   "cell_type": "code",
   "execution_count": 564,
   "id": "74b9bfbd-5959-4508-b63e-75940d1ede3c",
   "metadata": {},
   "outputs": [
    {
     "data": {
      "image/png": "[encoded data removed]",
      "text/plain": [
       "<Figure size 800x400 with 1 Axes>"
      ]
     },
     "metadata": {},
     "output_type": "display_data"
    }
   ],
   "source": [
    "plt.figure(figsize=(8, 4))\n",
    "\n",
    "plt.bar_label(plt.bar(np.arange(len(counts_slow)) - 0.175, list(counts_slow.values())/sum(list(counts_slow.values()))*np.float64(100), 0.35, label='Slow', alpha=0.8), fmt='%0.2g%%', padding=3)\n",
    "plt.bar_label(plt.bar(np.arange(len(counts_fast)) + 0.175, list(counts_fast.values())/sum(list(counts_fast.values()))*np.float64(100), 0.35, label='Fast', alpha=0.8), fmt='%0.2g%%', padding=3)\n",
    "\n",
    "plt.xticks(range(len(counts_slow)), ['RW', 'KF', 'RM'])\n",
    "\n",
    "plt.ylim((0, 80))\n",
    "\n",
    "plt.xlabel('Model')\n",
    "plt.ylabel('% Wins')\n",
    "\n",
    "plt.legend()\n",
    "\n",
    "plt.title('Percentage of Wins of Different Models in Slow and Fast Tasks')\n",
    "\n",
    "plt.figtext(0.51, -0.02, 'Figure 4', wrap=True, horizontalalignment='center', fontsize=12)\n",
    "\n",
    "plt.tight_layout()"
   ]
  },
  {
   "cell_type": "markdown",
   "id": "542b8413-5681-4ebc-9849-2d719f195fa7",
   "metadata": {},
   "source": [
    "Comparison of the BIC scores of the best performing models (fig. 4) reveal that Rescorla Wagner model explains the human data best, with and without time pressure (\\~67% without time pressure and \\~50% with time pressure), followed by the random model (\\~33% without time pressure and \\~44% with time pressure), and finally by the Kalman Filter (\\~0% without time pressure and \\~6% with time pressure).  \n",
    "\n",
    "However, for participant 18 in particular, the Kalman Filter model atypically performs best. This is expected because this participant was an ideal particiant (a bot) that indeed employed Kalman Filter to learn, but the BIC score is not low enough (for an ideal learner) because there was some artificial randomness added for realism, and thus the $\\epsilon$ error value for the best fitting Kalman Filter model for participant 18 is also not zero.  \n",
    "\n",
    "The parameter recovery resulted in almost the same parameters ($\\sigma_y$ = 0.1, $\\sigma_w$ = 0.9) of the Kalman Filter model that the bot employed ($\\sigma_y$ = 0.1, $\\sigma_w$ = 1). ($\\sigma_w$ is not the same because $\\sigma_w$ > 0.9 was not included in the search space [0, 0.9]).  \n",
    "\n",
    "Based on these results we conclude that participants tend use a simpler learning strategy, such as those formulated in the Rescorla-Wagner and Random Policy models, in general and especially under time-pressure. "
   ]
  },
  {
   "cell_type": "markdown",
   "id": "88fe4109-88dd-4099-a308-8d8c89cb2a90",
   "metadata": {
    "tags": []
   },
   "source": [
    "## Parameter Analysis"
   ]
  },
  {
   "cell_type": "code",
   "execution_count": 190,
   "id": "8acbfcb8-38a3-4e98-b0a3-c3a383ecfcd2",
   "metadata": {
    "jupyter": {
     "source_hidden": true
    },
    "tags": []
   },
   "outputs": [],
   "source": [
    "bics_rw_slow_2 = load('bics_rw_slow_2')\n",
    "optimal_model_params_rw_slow_2 = load('optimal_model_params_rw_slow_2')\n",
    "optimal_error_rw_slow_2 = load('optimal_error_rw_slow_2')\n",
    "\n",
    "bics_rw_slow_3 = load('bics_rw_slow_3')\n",
    "optimal_model_params_rw_slow_3 = load('optimal_model_params_rw_slow_3')\n",
    "optimal_error_rw_slow_3 = load('optimal_error_rw_slow_3')\n",
    "\n",
    "bics_rw_slow_4 = load('bics_rw_slow_4')\n",
    "optimal_model_params_rw_slow_4 = load('optimal_model_params_rw_slow_4')\n",
    "optimal_error_rw_slow_4 = load('optimal_error_rw_slow_4')\n",
    "\n",
    "bics_rw_fast_2 = load('bics_rw_fast_2')\n",
    "optimal_model_params_rw_fast_2 = load('optimal_model_params_rw_fast_2')\n",
    "optimal_error_rw_fast_2 = load('optimal_error_rw_fast_2')\n",
    "\n",
    "bics_rw_fast_3 = load('bics_rw_fast_3')\n",
    "optimal_model_params_rw_fast_3 = load('optimal_model_params_rw_fast_3')\n",
    "optimal_error_rw_fast_3 = load('optimal_error_rw_fast_3')\n",
    "\n",
    "bics_rw_fast_4 = load('bics_rw_fast_4')\n",
    "optimal_model_params_rw_fast_4 = load('optimal_model_params_rw_fast_4')\n",
    "optimal_error_rw_fast_4 = load('optimal_error_rw_fast_4')"
   ]
  },
  {
   "cell_type": "markdown",
   "id": "a2a81d87-5a08-42d9-84c2-d67f51790aad",
   "metadata": {
    "jp-MarkdownHeadingCollapsed": true,
    "tags": []
   },
   "source": [
    "### Rescorla-Wagner"
   ]
  },
  {
   "cell_type": "markdown",
   "id": "6561f780-dbae-425b-8bac-52829a4381cb",
   "metadata": {},
   "source": [
    "We continue to analyze the fitted parameters of our models to gain further insight into the behaviour of the models. \n",
    "\n",
    "We first explored the influence of the time pressure condition on the learning rates of the Rescorla-Wagner model, finding no statistically significant difference between the slow or fast conditions (paired-samples, $t$(17) = -0.176, $p$ = 0.862). Considering the learning rate of Rescorla-Wagner to represent participant learning, this suggests that participants did not learn slower (or faster) under or without time pressure.  \n",
    "\n",
    "Similarly, we note no difference in the fitted epsilon values between the time pressure conditions (paired-samples, $t$(17) = -1.350, $p$ = 0.195), suggesting that time pressure does not lead to noisier decisions. But if the number of features are two, we found that time pressure significantly affects the noisiness of decisions (paired-samples, $t$(17) = -2.667, $p$ = 0.016).  \n",
    "\n",
    "We also tested whether the number of features lead to differences in learning or noisiness of decisions. Using linear mixed effects models, regressing learning rate on number of features we find no statistically significant relationship for slow ($p$ = 0.073) or fast ($p$ = 0.632) tasks, suggesting that the number of features, like time pressure, does not influence the rate of (especially fast) learning.  \n",
    "\n",
    "However, we did find a positive relationship between number of features and epsilon ($\\beta$ = 0.119, Marginal $R^2$ = 0.146, $p$ = 0.005), suggesting that increasing the number of features led to noisier decisions, possibly indicating more exploration. After performing a further Tukey's HSD test, we note that there are no differences in epsilon values between three and four features ($M_{diff}$ = -0.0184, $p$ = 0.9555), indicating that any features beyond two may not influence decision errors (see fig. 5).  \n",
    "\n",
    "Also, although not statistically significant, increasing features might also lead to noisier decisions in fast tasks ($\\beta$ = 0.086, Marginal $R^2$ = 0.075, $p$ = 0.057) (see fig. 6)."
   ]
  },
  {
   "cell_type": "code",
   "execution_count": null,
   "id": "46d17e5e-9f0c-4f87-863a-304c1401f519",
   "metadata": {
    "jupyter": {
     "source_hidden": true
    },
    "tags": []
   },
   "outputs": [],
   "source": [
    "#### Does increasing the number of features lead to slower learning?"
   ]
  },
  {
   "cell_type": "code",
   "execution_count": 186,
   "id": "d9bfe284-102f-48c9-8f87-c5fd77869036",
   "metadata": {
    "jupyter": {
     "source_hidden": true
    },
    "tags": []
   },
   "outputs": [],
   "source": [
    "# fig, ax = plt.subplots(1, 2, figsize=(16, 4), sharey=True)\n",
    "\n",
    "# fig.suptitle(r'Optimal Learning Rate Across Participants (Slow Tasks)')\n",
    "# ax[0].bar(PARTICIPANTS - 0.23, optimal_model_params_rw_slow_2[:, 0], 0.23, label='2', alpha=0.8)\n",
    "# ax[0].bar(PARTICIPANTS, optimal_model_params_rw_slow_3[:, 0], 0.23, label='3', alpha=0.8)\n",
    "# ax[0].bar(PARTICIPANTS + 0.23, optimal_model_params_rw_slow_4[:, 0], 0.23, label='4', alpha=0.8)\n",
    "# ax[0].set_xticks(PARTICIPANTS)\n",
    "# ax[0].legend();\n",
    "\n",
    "# boxplots([optimal_model_params_rw_slow_2, optimal_model_params_rw_slow_3, optimal_model_params_rw_slow_4], ('2', '3', '4'), ax[1])"
   ]
  },
  {
   "cell_type": "code",
   "execution_count": 220,
   "id": "9984f525-9830-4ff2-8a31-75e65712877c",
   "metadata": {
    "jupyter": {
     "source_hidden": true
    },
    "tags": []
   },
   "outputs": [],
   "source": [
    "n_pam = len(optimal_model_params_rw_slow_2)\n",
    "alphaFeat = pd.DataFrame({\n",
    "            'num_features': np.concatenate([[2]*n_pam, [3]*n_pam, [4]*n_pam] * 2),\n",
    "            'learning_rate': np.concatenate([optimal_model_params_rw_slow_2[:, 0], optimal_model_params_rw_slow_3[:, 0], optimal_model_params_rw_slow_4[:, 0],\n",
    "                                             optimal_model_params_rw_fast_2[:, 0], optimal_model_params_rw_fast_3[:, 0], optimal_model_params_rw_fast_4[:, 0]]),\n",
    "            'slow': np.repeat([1,0],57),\n",
    "            'PID': np.repeat(range(0,19), 6)\n",
    "            })"
   ]
  },
  {
   "cell_type": "code",
   "execution_count": 187,
   "id": "76c50272-7b14-4102-95e6-88fd65b62334",
   "metadata": {
    "jupyter": {
     "source_hidden": true
    },
    "tags": []
   },
   "outputs": [],
   "source": [
    "smf.ols(formula='learning_rate ~ num_features', \n",
    "        data=alphaFeat).fit().summary();"
   ]
  },
  {
   "cell_type": "code",
   "execution_count": 188,
   "id": "de3f2c29-23dc-4783-8738-cd649ecc2cad",
   "metadata": {
    "jupyter": {
     "source_hidden": true
    },
    "tags": []
   },
   "outputs": [],
   "source": [
    "# fig, ax = plt.subplots(1, 2, figsize=(16, 4), sharey=True)\n",
    "\n",
    "# fig.suptitle(r'Optimal Learning Rate Across Participants (Fast Tasks)')\n",
    "# ax[0].bar(PARTICIPANTS - 0.23, optimal_model_params_rw_fast_2[:, 0], 0.23, label='2', alpha=0.8)\n",
    "# ax[0].bar(PARTICIPANTS, optimal_model_params_rw_fast_3[:, 0], 0.23, label='3', alpha=0.8)\n",
    "# ax[0].bar(PARTICIPANTS + 0.23, optimal_model_params_rw_fast_4[:, 0], 0.23, label='4', alpha=0.8)\n",
    "# ax[0].set_xticks(PARTICIPANTS)\n",
    "# ax[0].legend();\n",
    "\n",
    "# boxplots([optimal_model_params_rw_fast_2, optimal_model_params_rw_fast_3, optimal_model_params_rw_fast_4], ('2', '3', '4'), ax[1])"
   ]
  },
  {
   "cell_type": "code",
   "execution_count": 189,
   "id": "f0ce1101-14e4-49a6-b2fa-0c91e14d55ee",
   "metadata": {
    "jupyter": {
     "source_hidden": true
    },
    "tags": []
   },
   "outputs": [],
   "source": [
    "# st.ttest_rel(optimal_model_params_rw_slow[:18, 0], optimal_model_params_rw_fast[:18, 0])\n",
    "smf.ols(formula='learning_rate ~ num_features', \n",
    "        data=pd.DataFrame({\n",
    "            'num_features': np.concatenate([[2]*len(optimal_model_params_rw_fast_2), [3]*len(optimal_model_params_rw_fast_3), [4]*len(optimal_model_params_rw_fast_4)]),\n",
    "            'learning_rate': np.concatenate([optimal_model_params_rw_fast_2[:, 0], optimal_model_params_rw_fast_3[:, 0], optimal_model_params_rw_fast_4[:, 0]])\n",
    "        })).fit().summary();"
   ]
  },
  {
   "cell_type": "code",
   "execution_count": 568,
   "id": "e56c4484-80e6-4fff-8d20-06a78b22d595",
   "metadata": {
    "jupyter": {
     "source_hidden": true
    },
    "tags": []
   },
   "outputs": [
    {
     "data": {
      "image/png": "[encoded data removed]",
      "text/plain": [
       "<Figure size 1000x400 with 2 Axes>"
      ]
     },
     "metadata": {},
     "output_type": "display_data"
    }
   ],
   "source": [
    "fig, ax = plt.subplots(1,2, figsize=(10, 4), sharey=True)\n",
    "\n",
    "fig.suptitle(r'Optimal Error Weight in $\\epsilon$-Greedy Error Model Across Participants (Slow Tasks)')\n",
    "ax[0].bar(PARTICIPANTS - 0.23, optimal_error_rw_slow_2, 0.23, label='2', alpha=0.8)\n",
    "ax[0].bar(PARTICIPANTS, optimal_error_rw_slow_3, 0.23, label='3', alpha=0.8)\n",
    "ax[0].bar(PARTICIPANTS + 0.23, optimal_error_rw_slow_4, 0.23, label='4', alpha=0.8)\n",
    "ax[0].set_xticks(PARTICIPANTS)\n",
    "ax[0].legend()\n",
    "ax[0].set_xlabel('Participant ID')\n",
    "ax[0].set_ylabel('Optimal Error Weight')\n",
    "\n",
    "boxplots([optimal_error_rw_slow_2, optimal_error_rw_slow_3, optimal_error_rw_slow_4], ('2', '3', '4'), ax[1])\n",
    "ax[1].set_xlabel('Number of Features')\n",
    "\n",
    "plt.figtext(0.5, 0, 'Figure 5', wrap=True, horizontalalignment='center', fontsize=12)\n",
    "\n",
    "plt.tight_layout()"
   ]
  },
  {
   "cell_type": "code",
   "execution_count": 197,
   "id": "46a28067-0d60-4821-a0c3-a0ce17d42e9a",
   "metadata": {
    "jupyter": {
     "source_hidden": true
    },
    "tags": []
   },
   "outputs": [],
   "source": [
    "n_pam = len(optimal_error_rw_slow_2)\n",
    "epsiFeat = data=pd.DataFrame({\n",
    "                'num_features': np.concatenate([[2]*n_pam, [3]*n_pam, [4]*n_pam] *2),\n",
    "                'epsilon_error': np.concatenate([optimal_error_rw_slow_2, optimal_error_rw_slow_3, optimal_error_rw_slow_4,\n",
    "                                                 optimal_error_rw_fast_2, optimal_error_rw_fast_3, optimal_error_rw_fast_4]),\n",
    "                'slow': np.repeat([1,0],57)\n",
    "                })"
   ]
  },
  {
   "cell_type": "code",
   "execution_count": 233,
   "id": "c722cf24-b211-435c-82ca-a1b32ce76ed6",
   "metadata": {
    "jupyter": {
     "source_hidden": true
    }
   },
   "outputs": [],
   "source": [
    "smf.mixedlm(formula='learning_rate ~ num_features', groups = alphaFeat['slow'],\n",
    "        data=alphaFeat).fit().summary();"
   ]
  },
  {
   "cell_type": "code",
   "execution_count": 232,
   "id": "aa6b516a-dd36-43e0-9270-17122ddb3553",
   "metadata": {
    "jupyter": {
     "source_hidden": true
    }
   },
   "outputs": [],
   "source": [
    "smf.ols(formula='learning_rate ~ num_features', \n",
    "        data=alphaFeat).fit().summary();"
   ]
  },
  {
   "cell_type": "code",
   "execution_count": 234,
   "id": "f2fbdee4-a168-4372-8200-bff90e8294ac",
   "metadata": {
    "jupyter": {
     "source_hidden": true
    },
    "tags": []
   },
   "outputs": [],
   "source": [
    "# st.ttest_rel(optimal_model_params_rw_slow[:18, 0], optimal_model_params_rw_fast[:18, 0])\n",
    "smf.ols(formula='epsilon_error ~ num_features', \n",
    "        data=epsiFeat).fit().summary();"
   ]
  },
  {
   "cell_type": "code",
   "execution_count": 235,
   "id": "a05790d4-8a6e-40ee-91dd-94cbbcedd589",
   "metadata": {
    "jupyter": {
     "source_hidden": true
    }
   },
   "outputs": [],
   "source": [
    "pairwise_tukeyhsd(epsiFeat['epsilon_error'], groups = epsiFeat['num_features']).summary();"
   ]
  },
  {
   "cell_type": "code",
   "execution_count": 569,
   "id": "10dffeb8-850b-4137-a587-d2696feb4f6b",
   "metadata": {
    "jupyter": {
     "source_hidden": true
    },
    "tags": []
   },
   "outputs": [
    {
     "data": {
      "image/png": "[encoded data removed]",
      "text/plain": [
       "<Figure size 1000x400 with 2 Axes>"
      ]
     },
     "metadata": {},
     "output_type": "display_data"
    }
   ],
   "source": [
    "fig, ax = plt.subplots(1,2, figsize=(10, 4), sharey=True)\n",
    "\n",
    "fig.suptitle(r'Optimal Error Weight in $\\epsilon$-Greedy Error Model Across Participants (Fast Tasks)')\n",
    "ax[0].bar(PARTICIPANTS - 0.23, optimal_error_rw_fast_2, 0.23, label='2', alpha=0.8)\n",
    "ax[0].bar(PARTICIPANTS, optimal_error_rw_fast_3, 0.23, label='3', alpha=0.8)\n",
    "ax[0].bar(PARTICIPANTS + 0.23, optimal_error_rw_fast_4, 0.23, label='4', alpha=0.8)\n",
    "ax[0].set_xticks(PARTICIPANTS)\n",
    "ax[0].legend()\n",
    "ax[0].set_xlabel('Participant ID')\n",
    "ax[0].set_ylabel('Optimal Error Weight')\n",
    "\n",
    "boxplots([optimal_error_rw_fast_2, optimal_error_rw_fast_3, optimal_error_rw_fast_4], ('2', '3', '4'), ax[1])\n",
    "ax[1].set_xlabel('Number of Features')\n",
    "\n",
    "plt.figtext(0.5, 0, 'Figure 6', wrap=True, horizontalalignment='center', fontsize=12)\n",
    "\n",
    "plt.tight_layout()"
   ]
  },
  {
   "cell_type": "code",
   "execution_count": 316,
   "id": "c89befff-f77f-421b-ac0b-66d49da57a55",
   "metadata": {
    "jupyter": {
     "source_hidden": true
    },
    "tags": []
   },
   "outputs": [],
   "source": [
    "# st.ttest_rel(optimal_model_params_rw_slow[:18, 0], optimal_model_params_rw_fast[:18, 0])\n",
    "smf.ols(formula='epsilon_error ~ num_features', \n",
    "        data=pd.DataFrame({\n",
    "            'num_features': np.concatenate([[2]*len(optimal_error_rw_fast_2), [3]*len(optimal_error_rw_fast_3), [4]*len(optimal_error_rw_fast_4)]),\n",
    "            'epsilon_error': np.concatenate([optimal_error_rw_fast_2, optimal_error_rw_fast_3, optimal_error_rw_fast_4])\n",
    "        })).fit().summary();"
   ]
  },
  {
   "cell_type": "code",
   "execution_count": 318,
   "id": "ea4a0224-38f6-4e67-a5b5-174e5f1c9064",
   "metadata": {
    "jupyter": {
     "source_hidden": true
    },
    "tags": []
   },
   "outputs": [],
   "source": [
    "pairwise_tukeyhsd(np.concatenate([optimal_error_rw_fast_2, optimal_error_rw_fast_3, optimal_error_rw_fast_4]),\n",
    "                  np.concatenate([[2]*len(optimal_error_rw_fast_2), [3]*len(optimal_error_rw_fast_3), [4]*len(optimal_error_rw_fast_4)])).summary();"
   ]
  },
  {
   "cell_type": "markdown",
   "id": "b61dc0e7-c9cc-4cc6-aa8f-cc9da1031463",
   "metadata": {
    "tags": []
   },
   "source": [
    "### Kalman Filter"
   ]
  },
  {
   "cell_type": "markdown",
   "id": "b1a7e5fd-6da2-4856-85cd-02b2916d240e",
   "metadata": {},
   "source": [
    "We completed similar analyses for the parameters obtained from the Kalman filter as we did for the Rescorla-Wagner model. \n",
    "<!-- However, these should be interpreted with caution considering the limitations in the fit the Kalman filter was able to obtain in comparison to the two other models.   -->\n",
    "\n",
    "We used $\\sigma_y$ (score confidence) to represent learning and tested whether it would be influenced by the time pressure conditions. Similar to the Rescorla-Wagner model analysis, a paired-samples t-test revealed no statistically significant differences in the mean value of $\\sigma_y$ between normal and slow conditions ($t$(17) = -0.244, $p$ = 0.810).  \n",
    "\n",
    "Furthermore, we explored noisiness in decision making using $\\epsilon$ (error) to represent the stability, as before. No significant differences in time pressure conditions here we found here either (paired-samples, $t$(17) = -1.160, $p$ = 0.129)."
   ]
  },
  {
   "cell_type": "code",
   "execution_count": 236,
   "id": "5ce95336-7df5-4c34-bd63-71c65ed09343",
   "metadata": {
    "jupyter": {
     "source_hidden": true
    },
    "tags": []
   },
   "outputs": [],
   "source": [
    "# fig, ax = plt.subplots(1,2, figsize=(16, 4), sharey=True)\n",
    "\n",
    "# fig.suptitle(r'Optimal $\\sigma_y$ Across Participants')\n",
    "# ax[0].bar(PARTICIPANTS - 0.175, optimal_model_params_kf_slow[:, 0], 0.35, label='Slow', alpha=0.8)\n",
    "# ax[0].bar(PARTICIPANTS + 0.175, optimal_model_params_kf_fast[:, 0], 0.35, label='Fast', alpha=0.8)\n",
    "# ax[0].set_xticks(PARTICIPANTS)\n",
    "# ax[0].legend();\n",
    "\n",
    "# boxplots(optimal_model_params_kf_slow[:, 0], optimal_model_params_kf_fast[:, 0], ('Slow', 'Fast'), ax[1])"
   ]
  },
  {
   "cell_type": "code",
   "execution_count": 237,
   "id": "91b38611-6b41-4d87-8e75-507e9a4e0785",
   "metadata": {
    "jupyter": {
     "source_hidden": true
    },
    "tags": []
   },
   "outputs": [],
   "source": [
    "# fig, ax = plt.subplots(1,2, figsize=(16, 4), sharey=True)\n",
    "\n",
    "# fig.suptitle(r'Optimal Error Weight in $\\epsilon$-Greedy Error Model Across Participants')\n",
    "# ax[0].bar(PARTICIPANTS - 0.175, np.array(optimal_error_kf_slow).squeeze(), 0.35, label='Slow', alpha=0.8)\n",
    "# ax[0].bar(PARTICIPANTS + 0.175, np.array(optimal_error_kf_fast).squeeze(), 0.35, label='Fast', alpha=0.8)\n",
    "# ax[0].set_xticks(PARTICIPANTS)\n",
    "# ax[0].legend();\n",
    "\n",
    "# boxplots(optimal_error_kf_slow, optimal_error_kf_fast, ('Slow', 'Fast'), ax[1])"
   ]
  },
  {
   "cell_type": "code",
   "execution_count": null,
   "id": "66c4a495-6154-479b-845e-12c2049fc0e8",
   "metadata": {
    "jupyter": {
     "source_hidden": true
    },
    "tags": []
   },
   "outputs": [],
   "source": [
    "## Miscellaneous"
   ]
  },
  {
   "cell_type": "code",
   "execution_count": null,
   "id": "ca8d2531-8607-4370-bc9e-954776cef66c",
   "metadata": {
    "jupyter": {
     "source_hidden": true
    }
   },
   "outputs": [],
   "source": [
    "### Comparison of Speed/Accuray of Optimisation Techniques"
   ]
  },
  {
   "cell_type": "code",
   "execution_count": 238,
   "id": "bd5ec509-bb41-446f-bedb-0ad37a199d16",
   "metadata": {
    "jupyter": {
     "source_hidden": true
    },
    "tags": []
   },
   "outputs": [],
   "source": [
    "# bics_rw_slow_2_nm, optimal_model_params_rw_slow_2_nm, optimal_error_rw_slow_2_nm = optimise(RescorlaWagner,\n",
    "#                             model_search_space=(0.5,),\n",
    "#                             error_search_space=0.1,\n",
    "#                             conditions={'slow': 1, 'num_features': 2},\n",
    "#                             search_algorithm=lambda *args, **kwargs: [optimize.minimize(*args, **kwargs, bounds=((0, 1), (0, 1)), method='Nelder-Mead')[key] for key in ['x', 'fun']])"
   ]
  },
  {
   "cell_type": "code",
   "execution_count": 240,
   "id": "47284089-46d5-41e0-ac1f-deb77dc4b013",
   "metadata": {
    "jupyter": {
     "source_hidden": true
    },
    "tags": []
   },
   "outputs": [],
   "source": [
    "#np.mean(abs(bics_rw_slow_2_nm - bics_rw_slow_2));"
   ]
  },
  {
   "cell_type": "markdown",
   "id": "696b05b1-afc2-4d3a-b87a-e82adcae49fa",
   "metadata": {
    "tags": []
   },
   "source": [
    "# Discussion"
   ]
  },
  {
   "cell_type": "markdown",
   "id": "9e48fa7c-51dd-4756-a6d8-3f5be44ab2f8",
   "metadata": {
    "slideshow": {
     "slide_type": "subslide"
    },
    "tags": []
   },
   "source": [
    "We found that participants seem to learn the weights as they perform above chance level. <!-- ($t$ = 9.75, $p$ < 0.05), with an average accuracy of 63.3%. -->\n",
    "Supporting this notion is the observed gradual improvement during blocks.\n",
    "Additionally we observer an effect of time-pressure condition with participants performing better in slow tasks over fast tasks. This suggests that time indeed makes learning harder. \n",
    "<!-- (paired-samples, $t(17)$ = -3.5, $p$ < 0.001), performing on average 4.5% better in slow trials. -->\n",
    "<!-- Performance improves over trials within task ($\\beta$ = 0.014, $R^2$ = 0.007, $p$ < 0.001), on average 1.4% better each trial after the first. -->\n",
    "<!-- 3. Performance doesn't really improve over rounds  ($p$ = 0.242). -->\n",
    "<!-- 4. Higher reaction time generally resulted in better accuracy ($\\beta$ = 0.00005, $R$ = 0.011, $p$ < 0.001), with a 0.5% increase in accuracy for every 100ms. However, an additional Pearson's correlation test suggested no statistically significant relationship ($r$ = -0.43, $p$ = 0.07) -->\n",
    "From modelling, we see that the Rescorla Wagner model approximated human behaviour best in both slow and fast tasks.\n",
    "Also, from insights gained from modeling we infer that participants prefer simpler learning strategies under time pressure making more random decisions.\n",
    "Particularly, for two features, time pressure significantly increases noisiness of decisions.\n",
    "<!-- (paired-samples, $t(17)$ = -2.667, $p$ = 0.016). -->\n",
    "Finally, we note that addition of features decreases performance possibly due to increased difficulty, since participants need to take more information into account in their learning.\n",
    "<!-- ($\\beta$ = -0.043, $R^2$ = 0.005, $p$ < 0.001), with the addition of each feature decreasing accuracy on average by 4.3%. -->\n",
    "This can also be seen by the increased noisiness in decisions with addition of features in regular (slow) tasks.\n",
    "<!-- ($\\beta$ = 0.119, Marginal $R^2$ = 0.146, $p$ = 0.005), with the addition of each feature increasing noisiness on average by 0.119. -->\n",
    "\n",
    "Also, we found indication but could not statistically confirm that increasing features might lead to slower learning in regular (slow) tasks <!-- ($\\beta$ = -0.072, Marginal $R^2$ = 0.057, $p$ = 0.073)  -->\n",
    "and noisier decisions under time pressure (in fast tasks) <!-- ($\\beta$ = 0.086, Marginal $R^2$ = 0.075, $p$ = 0.057) -->\n",
    "."
   ]
  },
  {
   "cell_type": "markdown",
   "id": "f29cb95b-c1df-4ef7-b566-0df05d050c61",
   "metadata": {},
   "source": [
    "Wu et al. (2019) found that participants seek out uncertain options when time is unlimited, but avoid uncertainty under time pressure (for a four-arm bandit task), but in our case, given two features, we infer that under time pressure the uncertainty increased. While the task paradigms are different because of the different number of choices (4 vs 2), we think that the contradiction might be because the participants weren't able to learn the association under time pressure (because there just wasn't enough time) and had to resort to random decisions (Fig. 6)."
   ]
  },
  {
   "cell_type": "markdown",
   "id": "a9258c14-a53a-4986-bf59-85724b40f6a4",
   "metadata": {},
   "source": [
    "Further analysis can answer questions such as; does doing slow tasks first lead to better performance in subsequent fast tasks? Or, whether there's a significant correlation between reaction time and decision noisiness."
   ]
  },
  {
   "cell_type": "markdown",
   "id": "9c8b6137-674a-44ad-89a7-10ebb2458fdf",
   "metadata": {},
   "source": [
    "Building upon the work presented in this paper, potential improvements could be, comparison of more advanced learning models, like Heuristics, Neural Networks, Exemplar-Based Models, Gaussin Process etc.. Other decision making rules like Accuracy Maximisation, Probability Matching, Sample Based Rules, Drift Diffusion Models, Resource-rational Models can also be compared."
   ]
  },
  {
   "cell_type": "markdown",
   "id": "06545e73-4895-4d04-974e-0c30037038dd",
   "metadata": {
    "jp-MarkdownHeadingCollapsed": true,
    "tags": []
   },
   "source": [
    "# References"
   ]
  },
  {
   "cell_type": "markdown",
   "id": "7a477eb1-51d2-49a4-92af-d1a90392a895",
   "metadata": {},
   "source": [
    "Binz, M., Gershman, S.J., Schulz, E. and Endres, D., 2022. Heuristics from bounded meta-learned inference. *Psychological review.*\n",
    "\n",
    "Schulz, E., Speekenbrink, M. and Krause, A., 2018. A tutorial on Gaussian process regression: Modelling, exploring, and exploiting functions. *Journal of Mathematical Psychology, 85, pp.1-16.*\n",
    "\n",
    "Wu, C.M., Schulz, E., Gerbaulet, K., Pleskac, T.J. & Speekenbrink, M. (2019). Under pressure: The influence of time limits on human exploration. *Proceedings of the 41st Annual Conference of the Cognitive Science Society.*\n",
    "\n",
    "---\n",
    "\n",
    "[GitHub](https://github.com/pulkitgoyal56/CCCP) | [Website](https://pulkitgoyal56.github.io/CCCP/#/)"
   ]
  }
 ],
 "metadata": {
  "authors": [
   {
    "name": "Pulkit Goyal"
   },
   {
    "name": "Joel Vasama"
   }
  ],
  "kernelspec": {
   "display_name": "Python 3 (ipykernel)",
   "language": "python",
   "name": "python3"
  },
  "language_info": {
   "codemirror_mode": {
    "name": "ipython",
    "version": 3
   },
   "file_extension": ".py",
   "mimetype": "text/x-python",
   "name": "python",
   "nbconvert_exporter": "python",
   "pygments_lexer": "ipython3",
   "version": "3.9.13"
  },
  "title": "A Go at Classic Cogntive Modeling in a Two-Alternative Forced-Choice Bandit Task: Examining Task Influences on Human and Model Performance"
 },
 "nbformat": 4,
 "nbformat_minor": 5
}
