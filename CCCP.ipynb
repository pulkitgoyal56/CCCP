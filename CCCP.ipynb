{
 "cells": [
  {
   "cell_type": "markdown",
   "id": "81960b53-06e8-4051-84d0-4e779c9642c2",
   "metadata": {},
   "source": [
    "# Abstract"
   ]
  },
  {
   "cell_type": "markdown",
   "id": "982f8a25-bae4-49b3-8f03-20a0d1e86649",
   "metadata": {},
   "source": []
  },
  {
   "cell_type": "markdown",
   "id": "1e5c0486-35a2-4e62-a14b-8b9e149f29cc",
   "metadata": {
    "tags": []
   },
   "source": [
    "# Introduction"
   ]
  },
  {
   "cell_type": "markdown",
   "id": "7d482d1a-c370-4d3f-865b-ace5ae5d0698",
   "metadata": {},
   "source": []
  },
  {
   "cell_type": "markdown",
   "id": "65b33856-859b-4dca-a213-cd8f46a0d428",
   "metadata": {
    "tags": []
   },
   "source": [
    "# `Analysis`"
   ]
  },
  {
   "cell_type": "markdown",
   "id": "c8a3af29-9246-4880-9b2a-4b052207e4c4",
   "metadata": {
    "tags": []
   },
   "source": [
    "## Imports"
   ]
  },
  {
   "cell_type": "code",
   "execution_count": 1,
   "id": "0d865538-12b6-4f79-9c52-f3adf2cf3eaf",
   "metadata": {},
   "outputs": [],
   "source": [
    "import numpy as np"
   ]
  },
  {
   "cell_type": "code",
   "execution_count": 2,
   "id": "8fb341c8-c31e-4a8b-8f82-28ecbb117fc7",
   "metadata": {},
   "outputs": [],
   "source": [
    "import pandas as pd"
   ]
  },
  {
   "cell_type": "code",
   "execution_count": 3,
   "id": "7b315672-51a3-4767-ba1c-de0656ecf059",
   "metadata": {},
   "outputs": [],
   "source": [
    "from scipy import stats as stats"
   ]
  },
  {
   "cell_type": "code",
   "execution_count": 4,
   "id": "d7efee5d-0c04-4157-9847-b48acc57d08e",
   "metadata": {},
   "outputs": [],
   "source": [
    "import matplotlib.pyplot as plt"
   ]
  },
  {
   "cell_type": "code",
   "execution_count": 5,
   "id": "b6e053a0-f81b-433b-8128-8982e6215a92",
   "metadata": {},
   "outputs": [],
   "source": [
    "import seaborn as sns"
   ]
  },
  {
   "cell_type": "code",
   "execution_count": 6,
   "id": "19fa436b-c1b8-43fd-a95d-92a3f294a752",
   "metadata": {},
   "outputs": [],
   "source": [
    "import statsmodels.api as sm"
   ]
  },
  {
   "cell_type": "code",
   "execution_count": 7,
   "id": "7a13d369-964a-4d29-81f8-e770d7d44df0",
   "metadata": {},
   "outputs": [],
   "source": [
    "import statsmodels.formula.api as smf"
   ]
  },
  {
   "cell_type": "code",
   "execution_count": 8,
   "id": "f9a96dbc-dae2-4659-aa48-51675a5e57f4",
   "metadata": {},
   "outputs": [],
   "source": [
    "data = pd.read_csv('ccs2022.csv')"
   ]
  },
  {
   "cell_type": "markdown",
   "id": "121ff701-4a93-4f16-867a-17c1456465d7",
   "metadata": {
    "tags": []
   },
   "source": [
    "## Helper functions"
   ]
  },
  {
   "cell_type": "code",
   "execution_count": 9,
   "id": "61e6801c-a5e9-4f2d-a382-54a9e7e52982",
   "metadata": {
    "tags": []
   },
   "outputs": [],
   "source": [
    "def outlierFunc(x):\n",
    "    q1 = np.quantile(x, 0.25) # Lower quartile\n",
    "    q3 = np.quantile(x, 0.75) # Upper quartile\n",
    "    \n",
    "    iqr = q3-q1 # Interquartile range\n",
    "    \n",
    "    iqr_bounds = [q1 - (1.5 * iqr), q3 + (1.5 * iqr)] # Bounds\n",
    "    \n",
    "    outliers = x[(x <= iqr_bounds[0]) | (x >= iqr_bounds[1])] # Selecting data beyond bounds\n",
    "    \n",
    "    return outliers\n",
    "\n",
    "PRINT_ENABLE = False \n",
    "print_ = lambda *args, **kwargs: print(*args, **kwargs) if PRINT_ENABLE else ''"
   ]
  },
  {
   "cell_type": "markdown",
   "id": "6e6f1443-1594-4cd2-a85d-3122c69cf9c4",
   "metadata": {
    "tags": []
   },
   "source": [
    "## Behavioral Analysis"
   ]
  },
  {
   "cell_type": "markdown",
   "id": "739aaf79-a3ec-4c49-accd-1ecdcf4cf1f2",
   "metadata": {},
   "source": [
    "#### First looks at data"
   ]
  },
  {
   "cell_type": "code",
   "execution_count": 10,
   "id": "2c084348-a4af-4ca7-9fdd-93cdce5e61b1",
   "metadata": {
    "tags": []
   },
   "outputs": [],
   "source": [
    "data.sample(5); # Random sample of 5"
   ]
  },
  {
   "cell_type": "code",
   "execution_count": 11,
   "id": "f9b7bd9d-bbfb-45c3-9807-6733559a1115",
   "metadata": {},
   "outputs": [],
   "source": [
    "list(data.columns);"
   ]
  },
  {
   "cell_type": "markdown",
   "id": "93a556c4-85b5-4ef4-96aa-3d96041313da",
   "metadata": {},
   "source": [
    "#### Data preprocessing"
   ]
  },
  {
   "cell_type": "code",
   "execution_count": 12,
   "id": "a9314368-645c-4f00-9d90-c06a339b1fc2",
   "metadata": {},
   "outputs": [],
   "source": [
    "# Checking for empty values\n",
    "data.isna().any();"
   ]
  },
  {
   "cell_type": "code",
   "execution_count": 13,
   "id": "739a6283-777d-4c14-8bfc-b88a8e9cac5f",
   "metadata": {},
   "outputs": [],
   "source": [
    "# Adding columns for a global trial counter and participant accuracy \n",
    "data.rename(columns={'Unnamed: 0':'global_trial'}, inplace=True)\n",
    "data['correct'] = (data['J_pressed'] == (data['yj'] > data['yf'])).map(int)"
   ]
  },
  {
   "cell_type": "markdown",
   "id": "340d497e-0abf-402b-9155-2290aca3768e",
   "metadata": {},
   "source": [
    "#### Outliers"
   ]
  },
  {
   "cell_type": "markdown",
   "id": "fc9fae95-5dad-42c6-bd6f-7abb3f36d84a",
   "metadata": {},
   "source": [
    "The most important columns for analysis are participant accuracy and reaction time as these reflect performance in the experiment."
   ]
  },
  {
   "cell_type": "code",
   "execution_count": 14,
   "id": "8ccdef32-be4d-4230-a2ef-98b70d06f6d8",
   "metadata": {},
   "outputs": [],
   "source": [
    "per_correct = data['correct'].mean() # Average accuracy\n",
    "par_correct = data.groupby('participant_id').correct.mean() # Participant accuracy"
   ]
  },
  {
   "cell_type": "code",
   "execution_count": 40,
   "id": "1c933eb0-3d7f-48a3-a5f9-95461f2e1cbf",
   "metadata": {
    "tags": []
   },
   "outputs": [
    {
     "data": {
      "image/png": "[encoded data removed]",
      "text/plain": [
       "<Figure size 200x100 with 1 Axes>"
      ]
     },
     "metadata": {},
     "output_type": "display_data"
    }
   ],
   "source": [
    "print_(\"Average accuracy:\", per_correct, \"\\n\")\n",
    "print_(par_correct.to_frame(), \"\\n\")\n",
    "\n",
    "plt.figure(figsize=(2, 1))\n",
    "corrextBox = plt.boxplot(par_correct, notch=True)\n",
    "corrextBox;"
   ]
  },
  {
   "cell_type": "markdown",
   "id": "d9e8b7a6-5b31-4fd0-96a5-c84113c3577e",
   "metadata": {},
   "source": [
    "After taking a look at the accuracy data we found one outlier performing well above others. We identify this as participant number 18."
   ]
  },
  {
   "cell_type": "code",
   "execution_count": 16,
   "id": "cff58b3d-b4a9-41a0-b34e-a07f40434f8f",
   "metadata": {},
   "outputs": [],
   "source": [
    "outlierFunc(par_correct);"
   ]
  },
  {
   "cell_type": "code",
   "execution_count": 17,
   "id": "dee9dab8-7b2d-469b-b663-1cd67965a810",
   "metadata": {},
   "outputs": [],
   "source": [
    "par_RT = data.groupby('participant_id').decision_time.mean()"
   ]
  },
  {
   "cell_type": "code",
   "execution_count": 41,
   "id": "1d5852a2-7789-44e9-9902-750daed84bdf",
   "metadata": {},
   "outputs": [
    {
     "data": {
      "image/png": "[encoded data removed]",
      "text/plain": [
       "<Figure size 200x100 with 1 Axes>"
      ]
     },
     "metadata": {},
     "output_type": "display_data"
    }
   ],
   "source": [
    "print_(par_RT.to_frame(), \"\\n\")\n",
    "\n",
    "plt.figure(figsize=(2, 1))\n",
    "RTBox = plt.boxplot(par_RT, notch=True)\n",
    "RTBox;"
   ]
  },
  {
   "cell_type": "markdown",
   "id": "dedf8ba9-de0a-4024-851c-cba351096191",
   "metadata": {},
   "source": [
    "We also note two outliers in reaction time data, with participants 18 and 11 having exceptionally fast and slow reaction times, respectively."
   ]
  },
  {
   "cell_type": "code",
   "execution_count": 19,
   "id": "30e0d2f4-2096-4534-9ca1-4afc85316073",
   "metadata": {},
   "outputs": [],
   "source": [
    "outlierFunc(par_RT);"
   ]
  },
  {
   "cell_type": "markdown",
   "id": "01bbdbab-c583-4ba7-b18f-cfa0ef8a2e2d",
   "metadata": {},
   "source": [
    "#### Excluding outliers"
   ]
  },
  {
   "cell_type": "markdown",
   "id": "ccadeb3b-e08e-454b-a8e7-8996b83dfa4e",
   "metadata": {},
   "source": [
    "We decided to exclude only participant 18 due to having both higher accuracy and lower RT than all other participants. However, we keep participant 11 in the data as despite their slow reaction times their performance was not exceptional."
   ]
  },
  {
   "cell_type": "code",
   "execution_count": 20,
   "id": "833f2e2c-5bd0-4b9d-81a7-10c131a8b94f",
   "metadata": {},
   "outputs": [],
   "source": [
    "data = data[data['participant_id'] != 18] # Excluding participant 18\n",
    "# Computing new means after exclusion\n",
    "per_correct = data['correct'].mean()\n",
    "par_correct = data.groupby('participant_id').correct.mean()\n",
    "par_RT = data.groupby('participant_id').decision_time.mean()"
   ]
  },
  {
   "cell_type": "markdown",
   "id": "bdf83004-c4dd-4737-b2f6-f86bed49d12e",
   "metadata": {},
   "source": [
    "#### Do participants perform better than chance?"
   ]
  },
  {
   "cell_type": "code",
   "execution_count": 21,
   "id": "73a5474d-3bb5-4c55-a0dc-5c8844907425",
   "metadata": {},
   "outputs": [
    {
     "data": {
      "text/plain": [
       "''"
      ]
     },
     "execution_count": 21,
     "metadata": {},
     "output_type": "execute_result"
    }
   ],
   "source": [
    "print_(\"Average accuracy:\", per_correct, \"\\n\")\n",
    "t_par, p_par = stats.ttest_1samp(par_correct, 0.5)\n",
    "print_(\"t =\", t_par, \"p =\", p_par)"
   ]
  },
  {
   "cell_type": "markdown",
   "id": "fa5b63e4-c21f-44f0-8d0d-30be9b2c31a1",
   "metadata": {},
   "source": [
    "A one-sample t-test against a 50% chance level (participants had two alternatives) reveals that participants performed statistically significantly above chance level (t = 9.75, p < 0.05) with an average accuracy of 63.3%. "
   ]
  },
  {
   "cell_type": "markdown",
   "id": "52b2816d-8e0b-4427-a3b4-cb2dfa6bd15d",
   "metadata": {},
   "source": [
    "#### Do they improve over trials within each round?"
   ]
  },
  {
   "cell_type": "code",
   "execution_count": 22,
   "id": "2704cbf2-b773-40e1-bdd7-29876924257c",
   "metadata": {},
   "outputs": [],
   "source": [
    "trial_correct = data.groupby('trial').correct.mean()\n",
    "trial_correct;"
   ]
  },
  {
   "cell_type": "code",
   "execution_count": 23,
   "id": "553440cd-d108-4c93-906b-5f751dd3c944",
   "metadata": {},
   "outputs": [],
   "source": [
    "trial_mod = smf.ols(formula=\"correct ~ trial\", data=data).fit()\n",
    "trial_mod.summary();"
   ]
  },
  {
   "cell_type": "markdown",
   "id": "2397f34c-e475-497e-8a00-a7516c84a50a",
   "metadata": {},
   "source": [
    "A linear regression analysis indicated that participants performed better trial-wise within blocks ($\\beta$ = 0.014, $R^2$ = 0.007, p < 0.001), performing on average 1.4% better each trial after the first."
   ]
  },
  {
   "cell_type": "markdown",
   "id": "d623cd94-765e-434c-b03c-42f1f98da3bd",
   "metadata": {},
   "source": [
    "#### Do they improve over rounds?"
   ]
  },
  {
   "cell_type": "code",
   "execution_count": 24,
   "id": "d50aac0f-a4bf-4f02-b05b-bea55f668a07",
   "metadata": {},
   "outputs": [],
   "source": [
    "task_correct = data.groupby(['task', 'slow']).correct.mean()\n",
    "task_correct;"
   ]
  },
  {
   "cell_type": "code",
   "execution_count": 25,
   "id": "99924b10-1f18-4843-816c-10532844ec92",
   "metadata": {},
   "outputs": [],
   "source": [
    "task_mod = smf.ols(formula=\"correct ~ task\", data=data).fit()\n",
    "task_mod.summary();"
   ]
  },
  {
   "cell_type": "markdown",
   "id": "f46d13c6-0e75-4cef-a64b-881f88e2e87f",
   "metadata": {},
   "source": [
    "We also performed a linear regression analysis to test whether participants performed better at the start of the experiment but found no statistically significant influence of task (p = 0.242). "
   ]
  },
  {
   "cell_type": "markdown",
   "id": "fd0f2684-f1b9-4621-9a9e-2fa69b9548de",
   "metadata": {},
   "source": [
    "#### How does the number of observed features affect performance?"
   ]
  },
  {
   "cell_type": "code",
   "execution_count": 26,
   "id": "4192aae7-11ce-4b53-8721-e49ae9190d3c",
   "metadata": {},
   "outputs": [],
   "source": [
    "feat_correct = data.groupby('num_features').correct.mean()\n",
    "feat_correct;"
   ]
  },
  {
   "cell_type": "code",
   "execution_count": 27,
   "id": "593de3dc-a16a-4c23-b096-b5cd6f5a9639",
   "metadata": {},
   "outputs": [],
   "source": [
    "feat_mod = smf.ols(formula=\"correct ~ num_features\", data=data).fit()\n",
    "feat_mod.summary();"
   ]
  },
  {
   "cell_type": "markdown",
   "id": "1419b7bc-647c-4c78-9c1b-f100478fde1c",
   "metadata": {},
   "source": [
    "We found that the number of features has a statistically significant influence on participant accuracy ($\\beta$ = -0.043, $R^2$ = 0.005, p < 0.001), with the addition of each feature decreasing accuracy on average by 4.3%."
   ]
  },
  {
   "cell_type": "markdown",
   "id": "1db05f56-949b-4935-b74c-a082c0e02119",
   "metadata": {},
   "source": [
    "#### How does time pressure affect performance?"
   ]
  },
  {
   "cell_type": "code",
   "execution_count": 28,
   "id": "5b0687a9-6930-4fb4-97b7-964edb6530fd",
   "metadata": {},
   "outputs": [],
   "source": [
    "slow_correct = data.groupby('slow').correct.mean()\n",
    "slow_correct;"
   ]
  },
  {
   "cell_type": "code",
   "execution_count": 29,
   "id": "680b661d-2688-4f39-91a8-df613b0d2808",
   "metadata": {},
   "outputs": [
    {
     "data": {
      "text/plain": [
       "''"
      ]
     },
     "execution_count": 29,
     "metadata": {},
     "output_type": "execute_result"
    }
   ],
   "source": [
    "t_slow, p_slow = stats.ttest_rel(data[data['slow'] == 0].correct, data[data['slow'] == 1].correct)\n",
    "print_(\"t =\", t_slow, \"p =\", p_slow)"
   ]
  },
  {
   "cell_type": "markdown",
   "id": "17738e03-a5c0-49c1-b789-e319597c85cf",
   "metadata": {},
   "source": [
    "Participants also had better accuracy in slow trials over regular trials as indicated by an independent samples t-test (df = 17, t = -3.5, p < 0.001), performing on average 4.5% better in slow trials."
   ]
  },
  {
   "cell_type": "markdown",
   "id": "c6de5760-f0b4-4ede-a094-df445c401169",
   "metadata": {},
   "source": [
    "#### RT Correlation"
   ]
  },
  {
   "cell_type": "code",
   "execution_count": 30,
   "id": "4007b3a5-4a89-4800-a02b-d623ab4b643f",
   "metadata": {},
   "outputs": [],
   "source": [
    "data.groupby('participant_id')[['decision_time', 'correct']].mean();"
   ]
  },
  {
   "cell_type": "code",
   "execution_count": 31,
   "id": "3358a641-a113-49cb-8ec3-a5952fef57b6",
   "metadata": {},
   "outputs": [],
   "source": [
    "stats.pearsonr(par_correct, par_RT);"
   ]
  },
  {
   "cell_type": "code",
   "execution_count": 32,
   "id": "0a8eabbc-0758-4ff8-bfcb-bb41d7926d0a",
   "metadata": {},
   "outputs": [],
   "source": [
    "RT_mod = smf.ols(formula=\"correct ~ decision_time\", data=data).fit()\n",
    "RT_mod.summary();"
   ]
  },
  {
   "cell_type": "markdown",
   "id": "9868251d-c19a-4e91-83e1-679946561ff0",
   "metadata": {},
   "source": [
    "We found a significant negative relationship between accuracy and decision time ("
   ]
  },
  {
   "cell_type": "markdown",
   "id": "9ddcf941-fe71-479b-8b28-cd58a4cc6464",
   "metadata": {},
   "source": [
    "#### Bigression"
   ]
  },
  {
   "cell_type": "code",
   "execution_count": 33,
   "id": "b00e0752-833c-42a4-9d18-2ce6730d2156",
   "metadata": {},
   "outputs": [],
   "source": [
    "big_mod = smf.ols(formula=\"correct ~ num_features * C(slow) * decision_time\", data=data).fit()\n",
    "big_mod.summary();"
   ]
  },
  {
   "cell_type": "markdown",
   "id": "d40f408a-09e3-43b9-b6f9-f316ca4dd9d9",
   "metadata": {
    "tags": []
   },
   "source": [
    "## Parameter Fitting"
   ]
  },
  {
   "cell_type": "markdown",
   "id": "41351c19-583c-4a72-a68f-76585d0e67d1",
   "metadata": {},
   "source": [
    "`Look at the resulting parameters and try to answer the following questions`"
   ]
  },
  {
   "cell_type": "markdown",
   "id": "590ff42e-0afe-4693-8a88-621f17e89f61",
   "metadata": {},
   "source": [
    "### Recorla-Wagner"
   ]
  },
  {
   "cell_type": "markdown",
   "id": "af22b0b0-9e8b-4d1d-8ae3-3ad3002fa60d",
   "metadata": {},
   "source": [
    "> • Does time pressure lead to slower learning?"
   ]
  },
  {
   "cell_type": "code",
   "execution_count": null,
   "id": "ece2804a-c313-4884-844e-2c99032618fd",
   "metadata": {},
   "outputs": [],
   "source": []
  },
  {
   "cell_type": "markdown",
   "id": "0a30f3c7-9a0d-4156-9f8e-8fd02e733e4d",
   "metadata": {},
   "source": [
    "> • Does time pressure lead to more noisy decisions?"
   ]
  },
  {
   "cell_type": "code",
   "execution_count": null,
   "id": "51829485-f04b-4867-8520-e00751007555",
   "metadata": {},
   "outputs": [],
   "source": []
  },
  {
   "cell_type": "markdown",
   "id": "f4d1ffc4-6668-4010-885e-90c6b0207642",
   "metadata": {},
   "source": [
    "### Kalman Filter"
   ]
  },
  {
   "cell_type": "code",
   "execution_count": null,
   "id": "93e794dd-1fbd-4bb5-9469-092bbf02e088",
   "metadata": {},
   "outputs": [],
   "source": []
  },
  {
   "cell_type": "markdown",
   "id": "b909d301-4217-451b-b62a-5f86221704ec",
   "metadata": {
    "tags": []
   },
   "source": [
    "> • Does time pressure lead to slower learning?"
   ]
  },
  {
   "cell_type": "code",
   "execution_count": null,
   "id": "f7fdb62b-02e5-4c0b-9501-0886b672ac8b",
   "metadata": {},
   "outputs": [],
   "source": []
  },
  {
   "cell_type": "markdown",
   "id": "6bd7f8f8-5b0a-481c-a25e-1605164b4b24",
   "metadata": {},
   "source": [
    "> • Does time pressure lead to more noisy decisions?"
   ]
  },
  {
   "cell_type": "code",
   "execution_count": null,
   "id": "823a4655-5f79-4b35-aa2f-0440efbad5b7",
   "metadata": {},
   "outputs": [],
   "source": []
  },
  {
   "cell_type": "markdown",
   "id": "f57d4951-19fc-4cb6-8d42-2ccdd9aa5d80",
   "metadata": {
    "tags": []
   },
   "source": [
    "### Error Model"
   ]
  },
  {
   "cell_type": "code",
   "execution_count": null,
   "id": "4f504f17-53fe-4d85-b27d-13e386d065f9",
   "metadata": {},
   "outputs": [],
   "source": []
  },
  {
   "cell_type": "markdown",
   "id": "6a1d7074-cd54-4640-9704-4d9cbbd64846",
   "metadata": {},
   "source": [
    "> • Does time pressure lead to slower learning?"
   ]
  },
  {
   "cell_type": "code",
   "execution_count": null,
   "id": "5287793c-dd5e-4a19-b752-74955f40357a",
   "metadata": {},
   "outputs": [],
   "source": []
  },
  {
   "cell_type": "markdown",
   "id": "65cfc535-7310-4552-9534-257eb2eae111",
   "metadata": {},
   "source": [
    "> • Does time pressure lead to more noisy decisions?"
   ]
  },
  {
   "cell_type": "code",
   "execution_count": null,
   "id": "98231200-a49d-446e-8338-9f6c27e269e6",
   "metadata": {},
   "outputs": [],
   "source": []
  },
  {
   "cell_type": "markdown",
   "id": "65f3cbcb-e336-49f5-9afb-81f2f0522366",
   "metadata": {},
   "source": [
    "### <.....> Model"
   ]
  },
  {
   "cell_type": "code",
   "execution_count": null,
   "id": "d3d11131-3455-4555-8dd8-4eec7ce35cd9",
   "metadata": {},
   "outputs": [],
   "source": []
  },
  {
   "cell_type": "markdown",
   "id": "518cb8a0-f9ca-4ef6-a061-deb7f90b5d21",
   "metadata": {},
   "source": [
    "> • Does time pressure lead to slower learning?"
   ]
  },
  {
   "cell_type": "code",
   "execution_count": null,
   "id": "13506cb3-ad62-41fe-8545-67b62cc78595",
   "metadata": {},
   "outputs": [],
   "source": []
  },
  {
   "cell_type": "markdown",
   "id": "a59b8999-1d3b-40ff-9f00-ff07d12893af",
   "metadata": {},
   "source": [
    "> • Does time pressure lead to more noisy decisions?"
   ]
  },
  {
   "cell_type": "code",
   "execution_count": null,
   "id": "2a0a1cac-36b8-4d4e-89e9-6e399ccb33d4",
   "metadata": {},
   "outputs": [],
   "source": []
  },
  {
   "cell_type": "markdown",
   "id": "46c7d7da-81ac-4f92-96b5-e8cc0f6154dd",
   "metadata": {},
   "source": [
    "#### Random policy"
   ]
  },
  {
   "cell_type": "code",
   "execution_count": 34,
   "id": "abd1b177-7e14-4e4c-aced-9091402b6647",
   "metadata": {},
   "outputs": [],
   "source": [
    "N = len(pd.unique(data['participant_id']))"
   ]
  },
  {
   "cell_type": "code",
   "execution_count": 35,
   "id": "25f78092-f7ea-4ccd-9f4f-245308b2878d",
   "metadata": {},
   "outputs": [
    {
     "data": {
      "text/plain": [
       "array([415.88830834, 415.88830834, 415.88830834, 415.88830834,\n",
       "       415.88830834, 415.88830834, 415.88830834, 415.88830834,\n",
       "       415.88830834, 415.88830834, 415.88830834, 415.88830834,\n",
       "       415.88830834, 415.88830834, 415.88830834, 415.88830834,\n",
       "       415.88830834, 415.88830834])"
      ]
     },
     "execution_count": 35,
     "metadata": {},
     "output_type": "execute_result"
    }
   ],
   "source": [
    "RP_BIC = np.full(N, 0 - 2 * 300 * np.log(0.5))\n",
    "RP_BIC"
   ]
  },
  {
   "cell_type": "markdown",
   "id": "b335d834-01c6-4955-aa56-46128ff48812",
   "metadata": {
    "tags": []
   },
   "source": [
    "## Model Comparison"
   ]
  },
  {
   "cell_type": "markdown",
   "id": "745c2e51-72b4-491c-bdf8-fe473c6f21dc",
   "metadata": {},
   "source": [
    "> •  Which model explains the human data best?"
   ]
  },
  {
   "cell_type": "code",
   "execution_count": 36,
   "id": "2520b381-786b-494f-a8aa-d338bfeac30f",
   "metadata": {},
   "outputs": [],
   "source": [
    "RW_BIC = np.random.rand(N) * 1000\n",
    "KF_BIC = np.random.rand(N) * 1000"
   ]
  },
  {
   "cell_type": "code",
   "execution_count": 37,
   "id": "a564b199-3e3d-428b-8f96-1dbaba93fb38",
   "metadata": {},
   "outputs": [],
   "source": [
    "all_BIC = np.array([RW_BIC, KF_BIC, RP_BIC])"
   ]
  },
  {
   "cell_type": "code",
   "execution_count": 38,
   "id": "3fae1798-ce57-464b-b0d8-4ed6574c8ff0",
   "metadata": {},
   "outputs": [
    {
     "data": {
      "image/png": "[encoded data removed]",
      "text/plain": [
       "<Figure size 1800x250 with 2 Axes>"
      ]
     },
     "metadata": {},
     "output_type": "display_data"
    }
   ],
   "source": [
    "all_BICr = [np.around(num,2) for num in all_BIC]\n",
    "\n",
    "f, (ax, cbar_ax) = plt.subplots(1,2, gridspec_kw = {'width_ratios': [0.95, 0.05]}, figsize = (18,2))\n",
    "f.set_figheight(2.5)\n",
    "\n",
    "sns.heatmap(all_BICr, cmap = 'coolwarm', linewidths = 0.5, square = True, annot = True, fmt = 'g',\n",
    "            ax = ax, cbar_ax = cbar_ax)\n",
    "\n",
    "ax.set_xticklabels(np.arange(N) + 1, fontsize = 15);\n",
    "ax.set_yticklabels(['RW', 'KF', 'RP'], fontsize = 15);\n",
    "ax.set_xlabel('Participant', labelpad = 20, fontsize = 20);\n",
    "ax.set_title('BIC', pad = 20, fontsize = 20);"
   ]
  },
  {
   "cell_type": "code",
   "execution_count": 39,
   "id": "9a7115da-ba1f-42cf-ac3f-e587c86a2e17",
   "metadata": {},
   "outputs": [
    {
     "data": {
      "image/png": "[encoded data removed]",
      "text/plain": [
       "<Figure size 1000x500 with 1 Axes>"
      ]
     },
     "metadata": {},
     "output_type": "display_data"
    }
   ],
   "source": [
    "model_wins = np.argmin(all_BIC, 0)\n",
    "model_plot = np.histogram(model_wins, [0, 1, 2, 3])[0] / N\n",
    "\n",
    "plt.figure(figsize=(10,5))\n",
    "\n",
    "plt.bar(['RW','KF','RP'], model_plot);\n",
    "plt.xticks(fontsize = 15);\n",
    "plt.xlabel('Model', labelpad = 20, fontsize = 15);\n",
    "plt.ylabel('% Wins', fontsize=15);"
   ]
  },
  {
   "cell_type": "markdown",
   "id": "d683b1f8-0e5c-4485-9f27-3357a7720928",
   "metadata": {},
   "source": [
    "> • Does time pressure lead to simpler learning strategies?"
   ]
  },
  {
   "cell_type": "code",
   "execution_count": null,
   "id": "498529ff-97bb-49fb-a304-e82a82df6376",
   "metadata": {},
   "outputs": [],
   "source": []
  },
  {
   "cell_type": "markdown",
   "id": "0c3016a4-c6fb-4056-9f71-5aae0822d898",
   "metadata": {},
   "source": [
    "# Methods"
   ]
  },
  {
   "cell_type": "markdown",
   "id": "23d6a1f8-7161-4eb4-bdbc-2bb2da270c21",
   "metadata": {},
   "source": []
  },
  {
   "cell_type": "markdown",
   "id": "d7e18076-25bc-4c74-9436-ab01afe9a055",
   "metadata": {},
   "source": [
    "# Results"
   ]
  },
  {
   "cell_type": "markdown",
   "id": "ee40a98a-3929-47d2-aeca-40681ca50627",
   "metadata": {},
   "source": []
  },
  {
   "cell_type": "markdown",
   "id": "76c96ea5-b80d-446a-9129-e058c37aab97",
   "metadata": {},
   "source": [
    "# Discussion"
   ]
  },
  {
   "cell_type": "markdown",
   "id": "10da9ff8-bc90-465f-83a4-71c81dd61c00",
   "metadata": {},
   "source": []
  },
  {
   "cell_type": "markdown",
   "id": "06545e73-4895-4d04-974e-0c30037038dd",
   "metadata": {},
   "source": [
    "# References"
   ]
  },
  {
   "cell_type": "markdown",
   "id": "7a477eb1-51d2-49a4-92af-d1a90392a895",
   "metadata": {},
   "source": []
  }
 ],
 "metadata": {
  "kernelspec": {
   "display_name": "Python 3 (ipykernel)",
   "language": "python",
   "name": "python3"
  },
  "language_info": {
   "codemirror_mode": {
    "name": "ipython",
    "version": 3
   },
   "file_extension": ".py",
   "mimetype": "text/x-python",
   "name": "python",
   "nbconvert_exporter": "python",
   "pygments_lexer": "ipython3",
   "version": "3.8.13"
  },
  "toc-autonumbering": false,
  "toc-showcode": false,
  "toc-showmarkdowntxt": false,
  "toc-showtags": false
 },
 "nbformat": 4,
 "nbformat_minor": 5
}
