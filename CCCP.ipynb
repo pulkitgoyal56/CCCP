{
 "cells": [
  {
   "cell_type": "markdown",
   "id": "d2c0eb6b-3cfc-4d1f-a1af-7254aeebec63",
   "metadata": {},
   "source": [
    "<div class=\"alert alert-success\">\n",
    "    -----\n",
    "</div>"
   ]
  },
  {
   "cell_type": "markdown",
   "id": "81960b53-06e8-4051-84d0-4e779c9642c2",
   "metadata": {},
   "source": [
    "# Abstract"
   ]
  },
  {
   "cell_type": "markdown",
   "id": "982f8a25-bae4-49b3-8f03-20a0d1e86649",
   "metadata": {},
   "source": []
  },
  {
   "cell_type": "markdown",
   "id": "1e5c0486-35a2-4e62-a14b-8b9e149f29cc",
   "metadata": {
    "tags": []
   },
   "source": [
    "# Introduction"
   ]
  },
  {
   "cell_type": "markdown",
   "id": "7d482d1a-c370-4d3f-865b-ace5ae5d0698",
   "metadata": {},
   "source": []
  },
  {
   "cell_type": "markdown",
   "id": "65b33856-859b-4dca-a213-cd8f46a0d428",
   "metadata": {
    "tags": []
   },
   "source": [
    "# `Analysis`"
   ]
  },
  {
   "cell_type": "markdown",
   "id": "c8a3af29-9246-4880-9b2a-4b052207e4c4",
   "metadata": {
    "jp-MarkdownHeadingCollapsed": true,
    "tags": []
   },
   "source": [
    "## Imports"
   ]
  },
  {
   "cell_type": "code",
   "execution_count": null,
   "id": "0d865538-12b6-4f79-9c52-f3adf2cf3eaf",
   "metadata": {},
   "outputs": [],
   "source": []
  },
  {
   "cell_type": "markdown",
   "id": "6e6f1443-1594-4cd2-a85d-3122c69cf9c4",
   "metadata": {
    "jp-MarkdownHeadingCollapsed": true,
    "tags": []
   },
   "source": [
    "## Behavioral Analysis"
   ]
  },
  {
   "cell_type": "markdown",
   "id": "9761a551-28c1-4676-842f-deb52fe9a484",
   "metadata": {},
   "source": [
    " >• Do participants perform better than chance?"
   ]
  },
  {
   "cell_type": "code",
   "execution_count": null,
   "id": "1c933eb0-3d7f-48a3-a5f9-95461f2e1cbf",
   "metadata": {},
   "outputs": [],
   "source": []
  },
  {
   "cell_type": "markdown",
   "id": "52b2816d-8e0b-4427-a3b4-cb2dfa6bd15d",
   "metadata": {},
   "source": [
    "> • Do they improve over trials within each round?"
   ]
  },
  {
   "cell_type": "code",
   "execution_count": null,
   "id": "157ecec0-a7fe-477b-99b6-70f0dd00c14a",
   "metadata": {},
   "outputs": [],
   "source": []
  },
  {
   "cell_type": "markdown",
   "id": "d623cd94-765e-434c-b03c-42f1f98da3bd",
   "metadata": {},
   "source": [
    "> • Do they improve over rounds?"
   ]
  },
  {
   "cell_type": "code",
   "execution_count": null,
   "id": "d50aac0f-a4bf-4f02-b05b-bea55f668a07",
   "metadata": {},
   "outputs": [],
   "source": []
  },
  {
   "cell_type": "markdown",
   "id": "fd0f2684-f1b9-4621-9a9e-2fa69b9548de",
   "metadata": {},
   "source": [
    "> • How does the number of observed features affect performance?"
   ]
  },
  {
   "cell_type": "code",
   "execution_count": null,
   "id": "4192aae7-11ce-4b53-8721-e49ae9190d3c",
   "metadata": {},
   "outputs": [],
   "source": []
  },
  {
   "cell_type": "markdown",
   "id": "1db05f56-949b-4935-b74c-a082c0e02119",
   "metadata": {},
   "source": [
    "> • How does time pressure affect performance?"
   ]
  },
  {
   "cell_type": "code",
   "execution_count": null,
   "id": "5b0687a9-6930-4fb4-97b7-964edb6530fd",
   "metadata": {},
   "outputs": [],
   "source": []
  },
  {
   "cell_type": "markdown",
   "id": "d40f408a-09e3-43b9-b6f9-f316ca4dd9d9",
   "metadata": {
    "jp-MarkdownHeadingCollapsed": true,
    "tags": []
   },
   "source": [
    "## Parameter Fitting"
   ]
  },
  {
   "cell_type": "markdown",
   "id": "41351c19-583c-4a72-a68f-76585d0e67d1",
   "metadata": {},
   "source": [
    "`Look at the resulting parameters and try to answer the following questions`"
   ]
  },
  {
   "cell_type": "markdown",
   "id": "590ff42e-0afe-4693-8a88-621f17e89f61",
   "metadata": {},
   "source": [
    "### Recorla-Wagner"
   ]
  },
  {
   "cell_type": "code",
   "execution_count": null,
   "id": "845fdf3a-c29e-4c15-887c-d1bdd7993e39",
   "metadata": {},
   "outputs": [],
   "source": []
  },
  {
   "cell_type": "markdown",
   "id": "af22b0b0-9e8b-4d1d-8ae3-3ad3002fa60d",
   "metadata": {},
   "source": [
    "> • Does time pressure lead to slower learning?"
   ]
  },
  {
   "cell_type": "code",
   "execution_count": null,
   "id": "ece2804a-c313-4884-844e-2c99032618fd",
   "metadata": {},
   "outputs": [],
   "source": []
  },
  {
   "cell_type": "markdown",
   "id": "0a30f3c7-9a0d-4156-9f8e-8fd02e733e4d",
   "metadata": {},
   "source": [
    "> • Does time pressure lead to more noisy decisions?"
   ]
  },
  {
   "cell_type": "code",
   "execution_count": null,
   "id": "51829485-f04b-4867-8520-e00751007555",
   "metadata": {},
   "outputs": [],
   "source": []
  },
  {
   "cell_type": "markdown",
   "id": "f4d1ffc4-6668-4010-885e-90c6b0207642",
   "metadata": {},
   "source": [
    "### Kalman Filter"
   ]
  },
  {
   "cell_type": "code",
   "execution_count": null,
   "id": "93e794dd-1fbd-4bb5-9469-092bbf02e088",
   "metadata": {},
   "outputs": [],
   "source": []
  },
  {
   "cell_type": "markdown",
   "id": "b909d301-4217-451b-b62a-5f86221704ec",
   "metadata": {},
   "source": [
    "> • Does time pressure lead to slower learning?"
   ]
  },
  {
   "cell_type": "code",
   "execution_count": null,
   "id": "f7fdb62b-02e5-4c0b-9501-0886b672ac8b",
   "metadata": {},
   "outputs": [],
   "source": []
  },
  {
   "cell_type": "markdown",
   "id": "6bd7f8f8-5b0a-481c-a25e-1605164b4b24",
   "metadata": {},
   "source": [
    "> • Does time pressure lead to more noisy decisions?"
   ]
  },
  {
   "cell_type": "code",
   "execution_count": null,
   "id": "823a4655-5f79-4b35-aa2f-0440efbad5b7",
   "metadata": {},
   "outputs": [],
   "source": []
  },
  {
   "cell_type": "markdown",
   "id": "f57d4951-19fc-4cb6-8d42-2ccdd9aa5d80",
   "metadata": {
    "tags": []
   },
   "source": [
    "### Error Model"
   ]
  },
  {
   "cell_type": "code",
   "execution_count": null,
   "id": "4f504f17-53fe-4d85-b27d-13e386d065f9",
   "metadata": {},
   "outputs": [],
   "source": []
  },
  {
   "cell_type": "markdown",
   "id": "6a1d7074-cd54-4640-9704-4d9cbbd64846",
   "metadata": {},
   "source": [
    "> • Does time pressure lead to slower learning?"
   ]
  },
  {
   "cell_type": "code",
   "execution_count": null,
   "id": "5287793c-dd5e-4a19-b752-74955f40357a",
   "metadata": {},
   "outputs": [],
   "source": []
  },
  {
   "cell_type": "markdown",
   "id": "65cfc535-7310-4552-9534-257eb2eae111",
   "metadata": {},
   "source": [
    "> • Does time pressure lead to more noisy decisions?"
   ]
  },
  {
   "cell_type": "code",
   "execution_count": null,
   "id": "98231200-a49d-446e-8338-9f6c27e269e6",
   "metadata": {},
   "outputs": [],
   "source": []
  },
  {
   "cell_type": "markdown",
   "id": "65f3cbcb-e336-49f5-9afb-81f2f0522366",
   "metadata": {},
   "source": [
    "### <.....> Model"
   ]
  },
  {
   "cell_type": "code",
   "execution_count": null,
   "id": "d3d11131-3455-4555-8dd8-4eec7ce35cd9",
   "metadata": {},
   "outputs": [],
   "source": []
  },
  {
   "cell_type": "markdown",
   "id": "518cb8a0-f9ca-4ef6-a061-deb7f90b5d21",
   "metadata": {},
   "source": [
    "> • Does time pressure lead to slower learning?"
   ]
  },
  {
   "cell_type": "code",
   "execution_count": null,
   "id": "13506cb3-ad62-41fe-8545-67b62cc78595",
   "metadata": {},
   "outputs": [],
   "source": []
  },
  {
   "cell_type": "markdown",
   "id": "a59b8999-1d3b-40ff-9f00-ff07d12893af",
   "metadata": {},
   "source": [
    "> • Does time pressure lead to more noisy decisions?"
   ]
  },
  {
   "cell_type": "code",
   "execution_count": null,
   "id": "2a0a1cac-36b8-4d4e-89e9-6e399ccb33d4",
   "metadata": {},
   "outputs": [],
   "source": []
  },
  {
   "cell_type": "markdown",
   "id": "b335d834-01c6-4955-aa56-46128ff48812",
   "metadata": {
    "jp-MarkdownHeadingCollapsed": true,
    "tags": []
   },
   "source": [
    "## Model Comparison"
   ]
  },
  {
   "cell_type": "markdown",
   "id": "745c2e51-72b4-491c-bdf8-fe473c6f21dc",
   "metadata": {},
   "source": [
    "> •  Which model explains the human data best?"
   ]
  },
  {
   "cell_type": "code",
   "execution_count": null,
   "id": "a564b199-3e3d-428b-8f96-1dbaba93fb38",
   "metadata": {},
   "outputs": [],
   "source": []
  },
  {
   "cell_type": "markdown",
   "id": "d683b1f8-0e5c-4485-9f27-3357a7720928",
   "metadata": {},
   "source": [
    "> • Does time pressure lead to simpler learning strategies?"
   ]
  },
  {
   "cell_type": "code",
   "execution_count": null,
   "id": "498529ff-97bb-49fb-a304-e82a82df6376",
   "metadata": {},
   "outputs": [],
   "source": []
  },
  {
   "cell_type": "markdown",
   "id": "0c3016a4-c6fb-4056-9f71-5aae0822d898",
   "metadata": {},
   "source": [
    "# Methods"
   ]
  },
  {
   "cell_type": "markdown",
   "id": "23d6a1f8-7161-4eb4-bdbc-2bb2da270c21",
   "metadata": {},
   "source": []
  },
  {
   "cell_type": "markdown",
   "id": "d7e18076-25bc-4c74-9436-ab01afe9a055",
   "metadata": {},
   "source": [
    "# Results"
   ]
  },
  {
   "cell_type": "markdown",
   "id": "ee40a98a-3929-47d2-aeca-40681ca50627",
   "metadata": {},
   "source": []
  },
  {
   "cell_type": "markdown",
   "id": "76c96ea5-b80d-446a-9129-e058c37aab97",
   "metadata": {},
   "source": [
    "# Discussion"
   ]
  },
  {
   "cell_type": "markdown",
   "id": "10da9ff8-bc90-465f-83a4-71c81dd61c00",
   "metadata": {},
   "source": []
  },
  {
   "cell_type": "markdown",
   "id": "06545e73-4895-4d04-974e-0c30037038dd",
   "metadata": {},
   "source": [
    "# References"
   ]
  },
  {
   "cell_type": "markdown",
   "id": "7a477eb1-51d2-49a4-92af-d1a90392a895",
   "metadata": {},
   "source": []
  }
 ],
 "metadata": {
  "kernelspec": {
   "display_name": "Python 3 (ipykernel)",
   "language": "python",
   "name": "python3"
  },
  "language_info": {
   "codemirror_mode": {
    "name": "ipython",
    "version": 3
   },
   "file_extension": ".py",
   "mimetype": "text/x-python",
   "name": "python",
   "nbconvert_exporter": "python",
   "pygments_lexer": "ipython3",
   "version": "3.9.13"
  }
 },
 "nbformat": 4,
 "nbformat_minor": 5
}
