{
 "cells": [
  {
   "cell_type": "markdown",
   "id": "d2c0eb6b-3cfc-4d1f-a1af-7254aeebec63",
   "metadata": {},
   "source": [
    "<div class=\"alert alert-success\">\n",
    "    -----\n",
    "</div>"
   ]
  },
  {
   "cell_type": "markdown",
   "id": "81960b53-06e8-4051-84d0-4e779c9642c2",
   "metadata": {
    "jp-MarkdownHeadingCollapsed": true,
    "tags": []
   },
   "source": [
    "# Abstract"
   ]
  },
  {
   "cell_type": "markdown",
   "id": "982f8a25-bae4-49b3-8f03-20a0d1e86649",
   "metadata": {},
   "source": []
  },
  {
   "cell_type": "markdown",
   "id": "1e5c0486-35a2-4e62-a14b-8b9e149f29cc",
   "metadata": {
    "jp-MarkdownHeadingCollapsed": true,
    "tags": []
   },
   "source": [
    "# Introduction"
   ]
  },
  {
   "cell_type": "markdown",
   "id": "7d482d1a-c370-4d3f-865b-ace5ae5d0698",
   "metadata": {},
   "source": []
  },
  {
   "cell_type": "markdown",
   "id": "65b33856-859b-4dca-a213-cd8f46a0d428",
   "metadata": {
    "tags": []
   },
   "source": [
    "# `Analysis`"
   ]
  },
  {
   "cell_type": "markdown",
   "id": "c8a3af29-9246-4880-9b2a-4b052207e4c4",
   "metadata": {
    "jp-MarkdownHeadingCollapsed": true,
    "tags": []
   },
   "source": [
    "## Imports"
   ]
  },
  {
   "cell_type": "code",
   "execution_count": 321,
   "id": "b13f4fab-af54-4f86-bdb1-7fc9692ec2a2",
   "metadata": {},
   "outputs": [],
   "source": [
    "import sys"
   ]
  },
  {
   "cell_type": "code",
   "execution_count": 322,
   "id": "51ef1905-bf74-4ae9-9664-d31bbae5844b",
   "metadata": {},
   "outputs": [],
   "source": [
    "from functools import lru_cache"
   ]
  },
  {
   "cell_type": "markdown",
   "id": "591870ec-bcf2-4664-beca-f28236eeb1a6",
   "metadata": {},
   "source": [
    "---"
   ]
  },
  {
   "cell_type": "code",
   "execution_count": 323,
   "id": "0d865538-12b6-4f79-9c52-f3adf2cf3eaf",
   "metadata": {},
   "outputs": [],
   "source": [
    "import numpy as np"
   ]
  },
  {
   "cell_type": "code",
   "execution_count": 324,
   "id": "01018c8f-4d71-4564-beb0-7182384c2d2b",
   "metadata": {},
   "outputs": [],
   "source": [
    "import pandas as pd"
   ]
  },
  {
   "cell_type": "code",
   "execution_count": 325,
   "id": "4e3359ec-b333-4fc6-bb6c-4d5776ce9094",
   "metadata": {},
   "outputs": [],
   "source": [
    "from scipy import optimize\n",
    "import scipy.stats as st"
   ]
  },
  {
   "cell_type": "code",
   "execution_count": 326,
   "id": "4a4c22f3-b944-4891-921f-773f4e47414f",
   "metadata": {},
   "outputs": [],
   "source": [
    "import statsmodels.api as sm\n",
    "import statsmodels.formula.api as smf"
   ]
  },
  {
   "cell_type": "markdown",
   "id": "39285047-7636-4f7c-80f5-ea0a56e956c9",
   "metadata": {},
   "source": [
    "---"
   ]
  },
  {
   "cell_type": "code",
   "execution_count": 327,
   "id": "5cd1ee96-d520-4dc8-8f6a-48840ed137f1",
   "metadata": {},
   "outputs": [],
   "source": [
    "import matplotlib.pyplot as plt"
   ]
  },
  {
   "cell_type": "code",
   "execution_count": 328,
   "id": "2ce9d961-67d8-4fa3-aa3e-71cb7ef8af2a",
   "metadata": {},
   "outputs": [],
   "source": [
    "import seaborn as sns"
   ]
  },
  {
   "cell_type": "markdown",
   "id": "8248dc86-1885-492c-a159-a602d1019ac9",
   "metadata": {},
   "source": [
    "---"
   ]
  },
  {
   "cell_type": "code",
   "execution_count": 329,
   "id": "f6cbd359-9d34-44ed-9bf7-4849541c523b",
   "metadata": {},
   "outputs": [],
   "source": [
    "from tqdm import tqdm"
   ]
  },
  {
   "cell_type": "code",
   "execution_count": 330,
   "id": "cbe07b45-c167-42b2-a2fa-392706b39157",
   "metadata": {},
   "outputs": [],
   "source": [
    "from IPython.display import display"
   ]
  },
  {
   "cell_type": "markdown",
   "id": "7456a59c-37d9-4dad-ac44-e4938cbf707a",
   "metadata": {},
   "source": [
    "---"
   ]
  },
  {
   "cell_type": "code",
   "execution_count": 331,
   "id": "026766d3-2011-4cf1-99c8-0565c574d5c1",
   "metadata": {},
   "outputs": [],
   "source": [
    "import warnings\n",
    "warnings.filterwarnings(\"ignore\")"
   ]
  },
  {
   "cell_type": "markdown",
   "id": "dd57aa4e-491d-4d13-b368-52a4ada18209",
   "metadata": {
    "jp-MarkdownHeadingCollapsed": true,
    "tags": []
   },
   "source": [
    "## Data Reading and Pre-Processing"
   ]
  },
  {
   "cell_type": "code",
   "execution_count": 332,
   "id": "f10321dd-7f53-46a5-bfd8-58b40264f8c6",
   "metadata": {},
   "outputs": [],
   "source": [
    "data = pd.read_csv('ccs2022.csv')\n",
    "data.rename(columns={'Unnamed: 0':'semi_global_trial'}, inplace=True)"
   ]
  },
  {
   "cell_type": "code",
   "execution_count": 333,
   "id": "81b160d5-3f3c-429b-871a-f287a76d20c5",
   "metadata": {},
   "outputs": [],
   "source": [
    "# Check for empty values\n",
    "data.isna().any();"
   ]
  },
  {
   "cell_type": "code",
   "execution_count": 334,
   "id": "60336363-24b1-4288-bb16-059dabb54b85",
   "metadata": {},
   "outputs": [],
   "source": [
    "# Add column to mark when J is the correct response\n",
    "data['J_correct'] = (data['yj'] > data['yf']).map(int)"
   ]
  },
  {
   "cell_type": "code",
   "execution_count": 335,
   "id": "f0f0a52a-b9db-4e79-b49b-4de3a8e0ca52",
   "metadata": {},
   "outputs": [],
   "source": [
    "# Add column to mark when a correct choice was made\n",
    "data['correct'] = data['J_correct'] & data['J_pressed']"
   ]
  },
  {
   "cell_type": "code",
   "execution_count": 336,
   "id": "6af5044d-ff4c-4d27-b814-bdf971429ad3",
   "metadata": {},
   "outputs": [],
   "source": [
    "# Create unique task identifier for all participants\n",
    "data['global_task'] = 100*data['slow'] + data['task']"
   ]
  },
  {
   "cell_type": "code",
   "execution_count": 337,
   "id": "079a4efb-6f8a-4cab-b779-9bc9c3548787",
   "metadata": {},
   "outputs": [
    {
     "data": {
      "text/html": [
       "<div>\n",
       "<style scoped>\n",
       "    .dataframe tbody tr th:only-of-type {\n",
       "        vertical-align: middle;\n",
       "    }\n",
       "\n",
       "    .dataframe tbody tr th {\n",
       "        vertical-align: top;\n",
       "    }\n",
       "\n",
       "    .dataframe thead th {\n",
       "        text-align: right;\n",
       "    }\n",
       "</style>\n",
       "<table border=\"1\" class=\"dataframe\">\n",
       "  <thead>\n",
       "    <tr style=\"text-align: right;\">\n",
       "      <th></th>\n",
       "      <th>semi_global_trial</th>\n",
       "      <th>num_features</th>\n",
       "      <th>task</th>\n",
       "      <th>trial</th>\n",
       "      <th>w0</th>\n",
       "      <th>w1</th>\n",
       "      <th>w2</th>\n",
       "      <th>w3</th>\n",
       "      <th>xf0</th>\n",
       "      <th>xf1</th>\n",
       "      <th>...</th>\n",
       "      <th>xj3</th>\n",
       "      <th>yf</th>\n",
       "      <th>yj</th>\n",
       "      <th>slow</th>\n",
       "      <th>J_pressed</th>\n",
       "      <th>decision_time</th>\n",
       "      <th>participant_id</th>\n",
       "      <th>J_correct</th>\n",
       "      <th>correct</th>\n",
       "      <th>global_task</th>\n",
       "    </tr>\n",
       "  </thead>\n",
       "  <tbody>\n",
       "    <tr>\n",
       "      <th>0</th>\n",
       "      <td>0</td>\n",
       "      <td>2</td>\n",
       "      <td>1</td>\n",
       "      <td>1</td>\n",
       "      <td>-0.442305</td>\n",
       "      <td>-1.614365</td>\n",
       "      <td>0.0</td>\n",
       "      <td>0.0</td>\n",
       "      <td>0.151539</td>\n",
       "      <td>-0.325901</td>\n",
       "      <td>...</td>\n",
       "      <td>0.0</td>\n",
       "      <td>0.459097</td>\n",
       "      <td>1.784513</td>\n",
       "      <td>1</td>\n",
       "      <td>1</td>\n",
       "      <td>2555</td>\n",
       "      <td>0</td>\n",
       "      <td>1</td>\n",
       "      <td>1</td>\n",
       "      <td>101</td>\n",
       "    </tr>\n",
       "    <tr>\n",
       "      <th>1</th>\n",
       "      <td>1</td>\n",
       "      <td>2</td>\n",
       "      <td>1</td>\n",
       "      <td>2</td>\n",
       "      <td>-0.442305</td>\n",
       "      <td>-1.614365</td>\n",
       "      <td>0.0</td>\n",
       "      <td>0.0</td>\n",
       "      <td>-1.500723</td>\n",
       "      <td>0.559236</td>\n",
       "      <td>...</td>\n",
       "      <td>0.0</td>\n",
       "      <td>-0.239034</td>\n",
       "      <td>-1.642405</td>\n",
       "      <td>1</td>\n",
       "      <td>1</td>\n",
       "      <td>1203</td>\n",
       "      <td>0</td>\n",
       "      <td>0</td>\n",
       "      <td>0</td>\n",
       "      <td>101</td>\n",
       "    </tr>\n",
       "    <tr>\n",
       "      <th>2</th>\n",
       "      <td>2</td>\n",
       "      <td>2</td>\n",
       "      <td>1</td>\n",
       "      <td>3</td>\n",
       "      <td>-0.442305</td>\n",
       "      <td>-1.614365</td>\n",
       "      <td>0.0</td>\n",
       "      <td>0.0</td>\n",
       "      <td>0.398691</td>\n",
       "      <td>0.523985</td>\n",
       "      <td>...</td>\n",
       "      <td>0.0</td>\n",
       "      <td>-1.022246</td>\n",
       "      <td>0.896446</td>\n",
       "      <td>1</td>\n",
       "      <td>1</td>\n",
       "      <td>813</td>\n",
       "      <td>0</td>\n",
       "      <td>1</td>\n",
       "      <td>1</td>\n",
       "      <td>101</td>\n",
       "    </tr>\n",
       "    <tr>\n",
       "      <th>3</th>\n",
       "      <td>3</td>\n",
       "      <td>2</td>\n",
       "      <td>1</td>\n",
       "      <td>4</td>\n",
       "      <td>-0.442305</td>\n",
       "      <td>-1.614365</td>\n",
       "      <td>0.0</td>\n",
       "      <td>0.0</td>\n",
       "      <td>0.715695</td>\n",
       "      <td>-0.925789</td>\n",
       "      <td>...</td>\n",
       "      <td>0.0</td>\n",
       "      <td>1.178006</td>\n",
       "      <td>4.049918</td>\n",
       "      <td>1</td>\n",
       "      <td>1</td>\n",
       "      <td>917</td>\n",
       "      <td>0</td>\n",
       "      <td>1</td>\n",
       "      <td>1</td>\n",
       "      <td>101</td>\n",
       "    </tr>\n",
       "    <tr>\n",
       "      <th>4</th>\n",
       "      <td>4</td>\n",
       "      <td>2</td>\n",
       "      <td>1</td>\n",
       "      <td>5</td>\n",
       "      <td>-0.442305</td>\n",
       "      <td>-1.614365</td>\n",
       "      <td>0.0</td>\n",
       "      <td>0.0</td>\n",
       "      <td>2.294209</td>\n",
       "      <td>1.454999</td>\n",
       "      <td>...</td>\n",
       "      <td>0.0</td>\n",
       "      <td>-3.363640</td>\n",
       "      <td>-2.712185</td>\n",
       "      <td>1</td>\n",
       "      <td>1</td>\n",
       "      <td>1278</td>\n",
       "      <td>0</td>\n",
       "      <td>1</td>\n",
       "      <td>1</td>\n",
       "      <td>101</td>\n",
       "    </tr>\n",
       "  </tbody>\n",
       "</table>\n",
       "<p>5 rows × 25 columns</p>\n",
       "</div>"
      ],
      "text/plain": [
       "   semi_global_trial  num_features  task  trial        w0        w1   w2   w3  \\\n",
       "0                  0             2     1      1 -0.442305 -1.614365  0.0  0.0   \n",
       "1                  1             2     1      2 -0.442305 -1.614365  0.0  0.0   \n",
       "2                  2             2     1      3 -0.442305 -1.614365  0.0  0.0   \n",
       "3                  3             2     1      4 -0.442305 -1.614365  0.0  0.0   \n",
       "4                  4             2     1      5 -0.442305 -1.614365  0.0  0.0   \n",
       "\n",
       "        xf0       xf1  ...  xj3        yf        yj  slow  J_pressed  \\\n",
       "0  0.151539 -0.325901  ...  0.0  0.459097  1.784513     1          1   \n",
       "1 -1.500723  0.559236  ...  0.0 -0.239034 -1.642405     1          1   \n",
       "2  0.398691  0.523985  ...  0.0 -1.022246  0.896446     1          1   \n",
       "3  0.715695 -0.925789  ...  0.0  1.178006  4.049918     1          1   \n",
       "4  2.294209  1.454999  ...  0.0 -3.363640 -2.712185     1          1   \n",
       "\n",
       "   decision_time  participant_id  J_correct  correct  global_task  \n",
       "0           2555               0          1        1          101  \n",
       "1           1203               0          0        0          101  \n",
       "2            813               0          1        1          101  \n",
       "3            917               0          1        1          101  \n",
       "4           1278               0          1        1          101  \n",
       "\n",
       "[5 rows x 25 columns]"
      ]
     },
     "execution_count": 337,
     "metadata": {},
     "output_type": "execute_result"
    }
   ],
   "source": [
    "data.head()"
   ]
  },
  {
   "cell_type": "markdown",
   "id": "9c2d547f-8bb8-4c9a-b4f6-65c2d046ae1a",
   "metadata": {
    "jp-MarkdownHeadingCollapsed": true,
    "tags": []
   },
   "source": [
    "## Global Constants"
   ]
  },
  {
   "cell_type": "code",
   "execution_count": 338,
   "id": "d9f33061-de8d-4454-8a35-c356dfa87fb3",
   "metadata": {},
   "outputs": [],
   "source": [
    "NUM_TRIALS = data['trial'].nunique()"
   ]
  },
  {
   "cell_type": "code",
   "execution_count": 339,
   "id": "f9f8689f-a249-4939-b5f3-0d4cad709e77",
   "metadata": {},
   "outputs": [],
   "source": [
    "NUM_PARTICIPANTS = data['participant_id'].nunique()\n",
    "PARTICIPANTS = data['participant_id'].unique().astype(int)"
   ]
  },
  {
   "cell_type": "markdown",
   "id": "daaec2cc-c9df-41d3-b06a-d0edf8e3a78b",
   "metadata": {},
   "source": [
    "---"
   ]
  },
  {
   "cell_type": "code",
   "execution_count": 340,
   "id": "1af9921e-3740-402c-b298-44cc8843c35a",
   "metadata": {},
   "outputs": [],
   "source": [
    "PRINT_ENABLE = False"
   ]
  },
  {
   "cell_type": "markdown",
   "id": "7171b5c4-cbfc-405f-9c0a-d5f4e00ab0f8",
   "metadata": {
    "jp-MarkdownHeadingCollapsed": true,
    "tags": []
   },
   "source": [
    "## Global Functions"
   ]
  },
  {
   "cell_type": "code",
   "execution_count": 341,
   "id": "af38450e-656f-48c1-90ae-873c79191712",
   "metadata": {},
   "outputs": [],
   "source": [
    "def detect_outliers(x):\n",
    "    q1 = np.quantile(x, 0.25) # Lower quartile\n",
    "    q3 = np.quantile(x, 0.75) # Upper quartile\n",
    "    \n",
    "    iqr = q3-q1 # Interquartile range\n",
    "    \n",
    "    iqr_bounds = [q1 - (1.5 * iqr), q3 + (1.5 * iqr)] # Bounds\n",
    "    \n",
    "    outliers = x[(x <= iqr_bounds[0]) | (x >= iqr_bounds[1])] # Selecting data beyond bounds\n",
    "    \n",
    "    return outliers"
   ]
  },
  {
   "cell_type": "code",
   "execution_count": 342,
   "id": "15d72c2b-d379-4286-8f33-e437113d7b5a",
   "metadata": {},
   "outputs": [],
   "source": [
    "def print_(*args, **kwargs):\n",
    "    if PRINT_ENABLE:\n",
    "        print(*args, **kwargs)"
   ]
  },
  {
   "cell_type": "markdown",
   "id": "4d279819-115a-4844-8ae8-d40cf4c53308",
   "metadata": {},
   "source": [
    "<div class=\"alert alert-success\">\n",
    "    Choosing BIC as performance measure because the aim is to have the best fitting model or highest posterior probability.\n",
    "</div>"
   ]
  },
  {
   "cell_type": "code",
   "execution_count": 343,
   "id": "4b31b92f-3e26-46a5-bf7e-28895e481094",
   "metadata": {},
   "outputs": [],
   "source": [
    "epsilon_greedy = lambda choice_function: lambda e: lambda *args, **kwargs: choice_function(*args, **kwargs) * (1 - e) + 0.5 * e"
   ]
  },
  {
   "cell_type": "code",
   "execution_count": 344,
   "id": "de91f670-f2ad-45ab-8414-c153084f8024",
   "metadata": {},
   "outputs": [],
   "source": [
    "@epsilon_greedy\n",
    "def softmax(s1, s2, *std): # Softmax Rule\n",
    "    return 1/(1 + np.e**(s1 - s2))"
   ]
  },
  {
   "cell_type": "code",
   "execution_count": 345,
   "id": "fc0ff62f-7bdc-4f62-97af-4268b794db9b",
   "metadata": {},
   "outputs": [],
   "source": [
    "@epsilon_greedy\n",
    "def am(s1, s2, *std): # Accuracy Maximization\n",
    "    return s1 < s2"
   ]
  },
  {
   "cell_type": "code",
   "execution_count": 346,
   "id": "2055b3e4-35cd-4c0b-a19b-b4fc67897d39",
   "metadata": {},
   "outputs": [],
   "source": [
    "@epsilon_greedy\n",
    "def pm(s1, s2, std1, std2):\n",
    "    return np.random.normal(s1, std1) < np.random.normal(s2, std2)"
   ]
  },
  {
   "cell_type": "code",
   "execution_count": 347,
   "id": "e08af4f6-0a95-4d55-b0ab-3d868ec82fda",
   "metadata": {},
   "outputs": [],
   "source": [
    "@epsilon_greedy\n",
    "def sb(s1, s2, std1, std2, n_samples=10):\n",
    "    return np.count_nonzero(np.random.normal(s1, std1, (1, n_samples)) > np.random.normal(s2, std2, (1, n_samples))) >= n_samples/2"
   ]
  },
  {
   "cell_type": "code",
   "execution_count": 348,
   "id": "da5fc90b-3a88-452a-a3e5-be645d1eaa5f",
   "metadata": {},
   "outputs": [],
   "source": [
    "def boxplot(a, b, box_labels, ax, point_labels=PARTICIPANTS):\n",
    "    df = pd.DataFrame(np.array([np.array(a).flatten(), np.array(b).flatten()]).T, columns=box_labels)\n",
    "    sns.boxplot(data=df, ax=ax, boxprops=dict(alpha=.3))\n",
    "    sns.swarmplot(data=df, ax=ax)\n",
    "\n",
    "    for i, k in enumerate(point_labels):\n",
    "        ax.text(0, a[i], k, alpha=0.8)\n",
    "        ax.text(1, b[i], k, alpha=0.8)"
   ]
  },
  {
   "cell_type": "code",
   "execution_count": 349,
   "id": "3f19209b-1b09-44e8-a77d-dc3825b24135",
   "metadata": {},
   "outputs": [],
   "source": [
    "## > BIC = p.(f.ln(t.k) - 2.LL)\n",
    "## >> LL = ln(1/2).t.k\n",
    "bic = lambda P, N, LL: P*np.log(N) - 2*LL"
   ]
  },
  {
   "cell_type": "code",
   "execution_count": 350,
   "id": "1f7085f9-c720-4e7a-a065-9ce89245254d",
   "metadata": {},
   "outputs": [],
   "source": [
    "# @lru_cache\n",
    "def fit_model(participant_id,\n",
    "              Model,\n",
    "              model_params,\n",
    "              choice_function=am(0),\n",
    "              conditions={},\n",
    "              feature_labels=[['xf0', 'xf1', 'xf2', 'xf3'], ['xj0', 'xj1', 'xj2', 'xj3']],\n",
    "              target_labels=[['yf'], ['yj']],\n",
    "              choice_label='J_pressed'):\n",
    "\n",
    "    data_participant = data[data['participant_id'] == participant_id]\n",
    "    if conditions:\n",
    "        for condition in conditions:\n",
    "            data_participant = data_participant[data_participant[condition] == conditions[condition]]\n",
    "\n",
    "    ## num_tasks = data_participant['global_task'].nunique() # Find number of tasks\n",
    "    tasks = data_participant['global_task'].unique() # Find the tasks that satisfy the conditions\n",
    "    if not len(tasks):\n",
    "        raise ValueError('No tasks with the given conditions.')\n",
    "\n",
    "    log_likelihoods = {} # [num_tasks]\n",
    "    for task in tasks: # For each task\n",
    "        data_participant_task = data_participant[data_participant['global_task'] == task] # Focus on that task data\n",
    "\n",
    "        num_features = int(data_participant_task['num_features'].unique()) # Find number of inputs for that task\n",
    "        \n",
    "        model = Model(num_features, *model_params) # Create Model instance with the number of inputs and passed model parameters\n",
    "\n",
    "        log_likelihood = []\n",
    "        for trial in data_participant_task['trial'].unique(): # For each trial\n",
    "            data_participant_task_trial = data_participant_task[data_participant_task['trial'] == trial] # Focus on that trial data\n",
    "\n",
    "            # Extract input and target arrays, and choice, using (default) labels passed in function call\n",
    "            inputs = [data_participant_task_trial[feature_labels_i[:num_features]].to_numpy().reshape((-1, 1)) for feature_labels_i in feature_labels]\n",
    "            targets = [data_participant_task_trial[target_labels_i].to_numpy().reshape((-1, 1)) for target_labels_i in target_labels]\n",
    "\n",
    "            # Make predictions\n",
    "            means, std = np.array([np.array(model.predict(inputs_i)).flatten() for inputs_i in inputs]).T\n",
    "\n",
    "            # Learn model\n",
    "            for inputs_i, target in zip(inputs, targets):\n",
    "                model.learn(inputs_i, target)\n",
    "\n",
    "            # Make decision\n",
    "            p_choice = choice_function(*means, *std)\n",
    "\n",
    "            likelihood = p_choice if int(data_participant_task_trial[choice_label]) == 1 else 1-p_choice\n",
    "            \n",
    "            # Calculate log-likelihood\n",
    "            log_likelihood.append(np.log(likelihood if likelihood else sys.float_info.min)) # corresponding to the lowest log(float) possible\n",
    "\n",
    "        log_likelihoods[task] = log_likelihood\n",
    "\n",
    "    return log_likelihoods"
   ]
  },
  {
   "cell_type": "code",
   "execution_count": 351,
   "id": "e91db702-35f4-4a98-8d78-b56dab633779",
   "metadata": {},
   "outputs": [],
   "source": [
    "def pick_tasks(participant_id, conditions={}): # {'num_features': 2}, {'num_features': 3}, {'num_features': 4}, {'slow': 1}, {'slow': 0}\n",
    "    # def create_condition(key, param):\n",
    "    #     if key == 'all':\n",
    "    #         return []\n",
    "    #     else:\n",
    "    #         try:\n",
    "    #             return {key: int(param)}\n",
    "    #         except ValueError:\n",
    "    #             raise ValueError('Invalid Condition!')\n",
    "\n",
    "    data_participant = data[data['participant_id'] == participant_id]\n",
    "    \n",
    "    if conditions: # If there are conditions\n",
    "        for condition in conditions: # Apply conditions iteratively\n",
    "            data_participant = data_participant[data_participant[condition] == conditions[condition]]\n",
    "    \n",
    "    tasks = data_participant['global_task'].unique() # Find the tasks that satisfy the conditions\n",
    "    \n",
    "    if not len(tasks):\n",
    "        raise ValueError('No tasks with the given conditions.')\n",
    "\n",
    "    return tasks"
   ]
  },
  {
   "cell_type": "code",
   "execution_count": 352,
   "id": "3e76939a-7ad8-42d3-9210-28ea0243f236",
   "metadata": {},
   "outputs": [],
   "source": [
    "def no_search(func, rrange):\n",
    "    return np.arange(*rrange[0])[0], func(np.arange(*rrange[0])[:1])"
   ]
  },
  {
   "cell_type": "code",
   "execution_count": 381,
   "id": "8ba6dde9-1e4b-4bf0-8b99-eeddd2cde497",
   "metadata": {},
   "outputs": [],
   "source": [
    "def optimise(Model,\n",
    "             model_search_space = (),\n",
    "             search_algorithm=lambda *args, **kwargs: optimize.brute(*args, **kwargs, full_output=True, finish=None),\n",
    "             error_search_space=(0, 1, 0.1),\n",
    "             choice_function=softmax,\n",
    "             conditions={}):\n",
    "    \n",
    "    if len(model_search_space) != Model._num_params:\n",
    "        raise ValueError(f'Not enough model search parameters specified. Required {Model._num_params} parameters.')\n",
    "    \n",
    "    bics = []\n",
    "    optimal_model_params = []\n",
    "    optimal_error = []\n",
    "        \n",
    "    for participant_id in tqdm(data['participant_id'].unique()):\n",
    "        tasks = pick_tasks(participant_id, conditions)\n",
    "\n",
    "        def llfunc(model_error_params):\n",
    "            log_likelihoods = fit_model(participant_id, Model, tuple(model_error_params)[:-1], choice_function(model_error_params[-1]) , conditions)\n",
    "            return -sum([sum(log_likelihoods[task]) for task in tasks])\n",
    "        \n",
    "        optimal_model_error_params, fval, *_ = search_algorithm(llfunc, model_search_space + (error_search_space,))\n",
    "\n",
    "        bics.append(bic(len(model_search_space)+1, len(tasks)*NUM_TRIALS, -fval))\n",
    "        optimal_model_params.append(optimal_model_error_params[:-1])\n",
    "        optimal_error.append(optimal_model_error_params[-1])\n",
    "    \n",
    "    return np.array(bics), np.array(optimal_model_params), np.array(optimal_error)"
   ]
  },
  {
   "cell_type": "markdown",
   "id": "f4163dc6-9e2b-4aa6-ac18-295a76c802a7",
   "metadata": {
    "jp-MarkdownHeadingCollapsed": true,
    "tags": []
   },
   "source": [
    "## Outlier Detection"
   ]
  },
  {
   "cell_type": "markdown",
   "id": "712642da-dc26-4eac-a817-c492042a8c15",
   "metadata": {},
   "source": [
    "The most important columns for analysis are participant accuracy and reaction time as these reflect performance in the experiment."
   ]
  },
  {
   "cell_type": "markdown",
   "id": "8c583e60-8154-4fba-98c5-a9475782b26c",
   "metadata": {
    "jp-MarkdownHeadingCollapsed": true,
    "tags": []
   },
   "source": [
    "### Outlier Detection (Accuracy)"
   ]
  },
  {
   "cell_type": "code",
   "execution_count": 354,
   "id": "ceadbaaa-3fad-4aa1-a5ba-026190997b51",
   "metadata": {},
   "outputs": [],
   "source": [
    "# Average accuracy\n",
    "avg_correct = data['correct'].mean()\n",
    "print_(f'Average accuracy: {avg_correct:.3f}')"
   ]
  },
  {
   "cell_type": "code",
   "execution_count": 355,
   "id": "c41a0ede-58e3-408d-a06e-1f1373fefd91",
   "metadata": {},
   "outputs": [],
   "source": [
    "# Participant accuracy\n",
    "par_correct = data.groupby('participant_id').correct.mean()\n",
    "print_(par_correct.to_frame())"
   ]
  },
  {
   "cell_type": "code",
   "execution_count": 356,
   "id": "a83209c8-cc01-431b-b0e8-ff4d5c572562",
   "metadata": {},
   "outputs": [
    {
     "data": {
      "image/png": "[encoded data removed]",
      "text/plain": [
       "<Figure size 200x200 with 1 Axes>"
      ]
     },
     "metadata": {},
     "output_type": "display_data"
    }
   ],
   "source": [
    "plt.figure(figsize=(2, 2))\n",
    "plt.boxplot(par_correct, notch=True);"
   ]
  },
  {
   "cell_type": "markdown",
   "id": "b3671a07-8543-47c3-a9f1-acd778aee315",
   "metadata": {},
   "source": [
    "After taking a look at the accuracy data we found one outlier performing well above others. We identify this as participant number 18."
   ]
  },
  {
   "cell_type": "code",
   "execution_count": 357,
   "id": "eaeced8c-a09c-40a1-b88f-f7ff783b493a",
   "metadata": {},
   "outputs": [],
   "source": [
    "print_(detect_outliers(par_correct))"
   ]
  },
  {
   "cell_type": "markdown",
   "id": "c626b8e7-9f40-43da-bf85-271050a8f4d4",
   "metadata": {
    "jp-MarkdownHeadingCollapsed": true,
    "tags": []
   },
   "source": [
    "### Outlier Detection (Reaction Time)"
   ]
  },
  {
   "cell_type": "code",
   "execution_count": 358,
   "id": "58e3a1a7-749c-4eb8-82e5-6547d01546ca",
   "metadata": {},
   "outputs": [],
   "source": [
    "par_RT = data.groupby('participant_id').decision_time.mean()\n",
    "print_(par_RT.to_frame())"
   ]
  },
  {
   "cell_type": "code",
   "execution_count": 359,
   "id": "13fb848b-e48a-4e25-a2a8-7c7b9755a929",
   "metadata": {},
   "outputs": [
    {
     "data": {
      "image/png": "[encoded data removed]",
      "text/plain": [
       "<Figure size 200x200 with 1 Axes>"
      ]
     },
     "metadata": {},
     "output_type": "display_data"
    }
   ],
   "source": [
    "plt.figure(figsize=(2, 2))\n",
    "RTBox = plt.boxplot(par_RT, notch=True)"
   ]
  },
  {
   "cell_type": "markdown",
   "id": "8d9f7774-e229-41b1-b20a-ff6ae91b9b77",
   "metadata": {},
   "source": [
    "We also note two outliers in reaction time data, with participants 18 and 11 having exceptionally fast and slow reaction times, respectively."
   ]
  },
  {
   "cell_type": "code",
   "execution_count": 360,
   "id": "6143be20-2ac1-4db3-a2eb-dc60f549a5c5",
   "metadata": {},
   "outputs": [],
   "source": [
    "print_(detect_outliers(par_RT));"
   ]
  },
  {
   "cell_type": "markdown",
   "id": "eec555c3-8c0d-4417-8aba-1b34fc603699",
   "metadata": {},
   "source": [
    "### Excluding Outliers"
   ]
  },
  {
   "cell_type": "markdown",
   "id": "f071c195-2ac4-418c-8448-08e5090bdcf9",
   "metadata": {},
   "source": [
    "We decided to exclude only participant 18 due to having both higher accuracy and lower RT than all other participants. However, we keep participant 11 in the data as despite their slow reaction times their performance was not exceptional."
   ]
  },
  {
   "cell_type": "code",
   "execution_count": 361,
   "id": "a657b306-b169-4e8f-9c4e-65335923c25e",
   "metadata": {},
   "outputs": [],
   "source": [
    "data_ = data[data['participant_id'] != 18] # Excluding participant 18"
   ]
  },
  {
   "cell_type": "code",
   "execution_count": 362,
   "id": "679b49ca-c8d9-487b-a63f-622e8dfd3f90",
   "metadata": {},
   "outputs": [],
   "source": [
    "# Computing new means after exclusion\n",
    "avg_correct = data_['correct'].mean()\n",
    "par_correct = data_.groupby('participant_id').correct.mean()\n",
    "par_RT = data_.groupby('participant_id').decision_time.mean()"
   ]
  },
  {
   "cell_type": "markdown",
   "id": "6e6f1443-1594-4cd2-a85d-3122c69cf9c4",
   "metadata": {
    "jp-MarkdownHeadingCollapsed": true,
    "tags": []
   },
   "source": [
    "## Behavioral Analysis"
   ]
  },
  {
   "cell_type": "markdown",
   "id": "9761a551-28c1-4676-842f-deb52fe9a484",
   "metadata": {},
   "source": [
    "#### Do participants perform better than chance?"
   ]
  },
  {
   "cell_type": "code",
   "execution_count": 363,
   "id": "1c933eb0-3d7f-48a3-a5f9-95461f2e1cbf",
   "metadata": {},
   "outputs": [],
   "source": [
    "print_(f'Average accuracy: {avg_correct}')\n",
    "t_par, p_par = st.ttest_1samp(par_correct, 0.5)\n",
    "print_(f't = {t_par} ; p = {p_par}')"
   ]
  },
  {
   "cell_type": "markdown",
   "id": "01a394ec-cedb-4dca-a853-c11cdb921fb0",
   "metadata": {},
   "source": [
    "A one-sample t-test against a 50% chance level (participants had two alternatives) reveals that participants performed statistically significantly above chance level ($t$ = 9.75, $p$ < 0.05) with an average accuracy of 63.3%."
   ]
  },
  {
   "cell_type": "markdown",
   "id": "52b2816d-8e0b-4427-a3b4-cb2dfa6bd15d",
   "metadata": {},
   "source": [
    "#### Do they improve over trials within each round?"
   ]
  },
  {
   "cell_type": "code",
   "execution_count": 364,
   "id": "157ecec0-a7fe-477b-99b6-70f0dd00c14a",
   "metadata": {},
   "outputs": [],
   "source": [
    "data_.groupby('trial').correct.mean();"
   ]
  },
  {
   "cell_type": "code",
   "execution_count": 365,
   "id": "8c98b256-2880-436e-8f02-048a1ff6e64f",
   "metadata": {},
   "outputs": [],
   "source": [
    "smf.ols(formula='correct ~ trial', data=data_).fit().summary();"
   ]
  },
  {
   "cell_type": "markdown",
   "id": "a14cdb50-f14d-41b1-b50f-0df2e8c28a3d",
   "metadata": {},
   "source": [
    "A linear regression analysis indicated that participants performed better trial-wise within blocks ($\\beta$ = 0.014, $R^2$ = 0.007, $p$ < 0.001), performing on average 1.4% better each trial after the first."
   ]
  },
  {
   "cell_type": "markdown",
   "id": "d623cd94-765e-434c-b03c-42f1f98da3bd",
   "metadata": {},
   "source": [
    "#### Do they improve over rounds?"
   ]
  },
  {
   "cell_type": "code",
   "execution_count": 366,
   "id": "d50aac0f-a4bf-4f02-b05b-bea55f668a07",
   "metadata": {},
   "outputs": [],
   "source": [
    "data_.groupby(['task', 'slow']).correct.mean();"
   ]
  },
  {
   "cell_type": "code",
   "execution_count": 367,
   "id": "023b1667-b475-423a-b809-a124763f6055",
   "metadata": {},
   "outputs": [],
   "source": [
    "smf.ols(formula='correct ~ task', data=data_).fit().summary();"
   ]
  },
  {
   "cell_type": "markdown",
   "id": "4786c626-d560-4ca8-a4fa-a02868acfbb7",
   "metadata": {},
   "source": [
    "We also performed a linear regression analysis to test whether participants performed better at the start of the experiment but found no statistically significant influence of task ($p$ = 0.242)."
   ]
  },
  {
   "cell_type": "markdown",
   "id": "fd0f2684-f1b9-4621-9a9e-2fa69b9548de",
   "metadata": {},
   "source": [
    "#### How does the number of observed features affect performance?"
   ]
  },
  {
   "cell_type": "code",
   "execution_count": 368,
   "id": "4192aae7-11ce-4b53-8721-e49ae9190d3c",
   "metadata": {},
   "outputs": [],
   "source": [
    "data_.groupby('num_features').correct.mean();"
   ]
  },
  {
   "cell_type": "code",
   "execution_count": 369,
   "id": "5b0687a9-6930-4fb4-97b7-964edb6530fd",
   "metadata": {},
   "outputs": [],
   "source": [
    "smf.ols(formula='correct ~ num_features', data=data_).fit().summary();"
   ]
  },
  {
   "cell_type": "markdown",
   "id": "07dbf515-399f-4a91-8c32-b6595aa23edc",
   "metadata": {},
   "source": [
    "We found that the number of features has a statistically significant influence on participant accuracy ($\\beta$ = -0.043, $R^2$ = 0.005, $p$ < 0.001), with the addition of each feature decreasing accuracy on average by 4.3%."
   ]
  },
  {
   "cell_type": "markdown",
   "id": "1db05f56-949b-4935-b74c-a082c0e02119",
   "metadata": {},
   "source": [
    "#### How does time pressure affect performance?"
   ]
  },
  {
   "cell_type": "code",
   "execution_count": 370,
   "id": "e9557de6-253b-4c1d-a2e0-7667bc8eb606",
   "metadata": {},
   "outputs": [],
   "source": [
    "data_.groupby('slow').correct.mean();"
   ]
  },
  {
   "cell_type": "code",
   "execution_count": 371,
   "id": "73adb92b-1b6d-4539-b09c-b25d6078fa13",
   "metadata": {},
   "outputs": [],
   "source": [
    "t_slow_fast, p_slow_fast = st.ttest_rel(data_[data_['slow'] == 0].correct, data_[data_['slow'] == 1].correct)\n",
    "print_(f't = {t_slow_fast}, p = {p_slow_fast}')"
   ]
  },
  {
   "cell_type": "markdown",
   "id": "461b001c-93ac-40e7-8cfe-cf3d64be8306",
   "metadata": {},
   "source": [
    "Participants also had better accuracy in slow trials over regular trials as indicated by an independent samples t-test ($df$ = 17, $t$ = -3.5, $p$ < 0.001), performing on average 4.5% better in slow trials."
   ]
  },
  {
   "cell_type": "markdown",
   "id": "11760658-2605-4c0c-bc69-902acbe93895",
   "metadata": {},
   "source": [
    "### Does RT affect performnce?"
   ]
  },
  {
   "cell_type": "code",
   "execution_count": 372,
   "id": "a1ae3561-7dda-4d1a-9ea8-04f98246f36e",
   "metadata": {},
   "outputs": [],
   "source": [
    "data_.groupby('participant_id')[['decision_time', 'correct']].mean();"
   ]
  },
  {
   "cell_type": "code",
   "execution_count": 373,
   "id": "95fcdcd0-9517-4e15-8b58-e11165498593",
   "metadata": {},
   "outputs": [],
   "source": [
    "st.pearsonr(par_correct, par_RT);"
   ]
  },
  {
   "cell_type": "code",
   "execution_count": 374,
   "id": "91c2dbe8-5235-488e-95c2-83146dce5f46",
   "metadata": {},
   "outputs": [],
   "source": [
    "smf.ols(formula='correct ~ num_features * C(slow) * decision_time', data=data_).fit().summary();"
   ]
  },
  {
   "cell_type": "markdown",
   "id": "79a5fd14-fee3-4e5d-a08e-54287dc2625c",
   "metadata": {},
   "source": [
    "We found a significant negative relationship between accuracy and reaction time."
   ]
  },
  {
   "cell_type": "markdown",
   "id": "1086d38d-18a0-4d88-86a2-bbcb0ba68dcc",
   "metadata": {},
   "source": [
    "### Bigression"
   ]
  },
  {
   "cell_type": "code",
   "execution_count": 375,
   "id": "ca78bd8d-c762-4e79-89ab-70ab9649423d",
   "metadata": {},
   "outputs": [],
   "source": [
    "smf.ols(formula='correct ~ num_features * C(slow) * decision_time', data=data_).fit().summary();"
   ]
  },
  {
   "cell_type": "markdown",
   "id": "d40f408a-09e3-43b9-b6f9-f316ca4dd9d9",
   "metadata": {
    "tags": []
   },
   "source": [
    "## Parameter Fitting"
   ]
  },
  {
   "cell_type": "markdown",
   "id": "41351c19-583c-4a72-a68f-76585d0e67d1",
   "metadata": {},
   "source": [
    "`Look at the resulting parameters and try to answer the following questions`"
   ]
  },
  {
   "cell_type": "markdown",
   "id": "4dba5b04-b818-45dd-9a75-e19ad1349a90",
   "metadata": {
    "jp-MarkdownHeadingCollapsed": true,
    "tags": []
   },
   "source": [
    "### Random Model"
   ]
  },
  {
   "cell_type": "code",
   "execution_count": null,
   "id": "527b942d-ec0f-4312-87c8-299d1dc07a42",
   "metadata": {},
   "outputs": [],
   "source": [
    "# bics_rm = np.array([bic(0, NUM_TRIALS*data['global_task'].nunique(), NUM_TRIALS*data['global_task'].nunique()*np.log(0.5))] * NUM_PARTICIPANTS)"
   ]
  },
  {
   "cell_type": "code",
   "execution_count": 376,
   "id": "3f9ec116-51a1-4cc2-8b7b-3aa61445f717",
   "metadata": {},
   "outputs": [],
   "source": [
    "bics_rm_slow = np.array([bic(0, NUM_TRIALS*data[data['slow'] == 1]['global_task'].nunique(), NUM_TRIALS*data[data['slow'] == 1]['global_task'].nunique()*np.log(0.5))] * NUM_PARTICIPANTS)"
   ]
  },
  {
   "cell_type": "code",
   "execution_count": 377,
   "id": "5359fb86-31cc-4957-ac86-a41561f80c61",
   "metadata": {},
   "outputs": [],
   "source": [
    "bics_rm_fast = np.array([bic(0, NUM_TRIALS*data[data['slow'] == 0]['global_task'].nunique(), NUM_TRIALS*data[data['slow'] == 0]['global_task'].nunique()*np.log(0.5))] * NUM_PARTICIPANTS)"
   ]
  },
  {
   "cell_type": "markdown",
   "id": "590ff42e-0afe-4693-8a88-621f17e89f61",
   "metadata": {
    "tags": []
   },
   "source": [
    "### Rescorla-Wagner"
   ]
  },
  {
   "cell_type": "code",
   "execution_count": 378,
   "id": "9ab47ac5-ba2a-454e-8e2f-2a2bbefb4873",
   "metadata": {},
   "outputs": [],
   "source": [
    "class RescorlaWagner():\n",
    "    _num_params = 1\n",
    "\n",
    "    def __init__(self, num_features, learning_rate):\n",
    "        self.num_features = num_features\n",
    "        self.learning_rate = learning_rate\n",
    "        \n",
    "        self.weights = np.zeros((num_features, 1))\n",
    "        \n",
    "    def predict(self, inputs):\n",
    "        mean = self.weights.T @ inputs\n",
    "        return mean, [[0]]\n",
    "        \n",
    "    def learn(self, inputs, targets):\n",
    "        self.weights = self.weights + self.learning_rate * (targets - self.weights.T @ inputs) * inputs"
   ]
  },
  {
   "cell_type": "code",
   "execution_count": null,
   "id": "4a6ab67f-58a0-43c4-90e6-8655ac3f8e7e",
   "metadata": {},
   "outputs": [],
   "source": [
    "# bics_rw, optimal_model_params_rw, optimal_error_rw = optimise(RescorlaWagner, ((0, 1, 0.1),))"
   ]
  },
  {
   "cell_type": "code",
   "execution_count": 382,
   "id": "09f73d03-4256-4d95-898e-f8a11dc42960",
   "metadata": {},
   "outputs": [
    {
     "name": "stderr",
     "output_type": "stream",
     "text": [
      "100%|█████████████████████████████████████████████████████████████████████████████████████████████████████████████| 19/19 [10:58<00:00, 34.67s/it]\n"
     ]
    }
   ],
   "source": [
    "bics_rw_slow, optimal_model_params_rw_slow, optimal_error_rw_slow = optimise(RescorlaWagner, ((0, 1, 0.1),), conditions={'slow': 1})"
   ]
  },
  {
   "cell_type": "code",
   "execution_count": 383,
   "id": "e7a67e86-07a6-4ec5-b85d-26069aa8c4c8",
   "metadata": {},
   "outputs": [
    {
     "name": "stderr",
     "output_type": "stream",
     "text": [
      "100%|█████████████████████████████████████████████████████████████████████████████████████████████████████████████| 19/19 [10:37<00:00, 33.55s/it]\n"
     ]
    }
   ],
   "source": [
    "bics_rw_fast, optimal_model_params_rw_fast, optimal_error_rw_fast = optimise(RescorlaWagner, ((0, 1, 0.1),), conditions={'slow': 0})"
   ]
  },
  {
   "cell_type": "markdown",
   "id": "af22b0b0-9e8b-4d1d-8ae3-3ad3002fa60d",
   "metadata": {},
   "source": [
    "#### Does time pressure lead to slower learning?"
   ]
  },
  {
   "cell_type": "markdown",
   "id": "30844316-eec9-49ca-a891-09607683cda8",
   "metadata": {},
   "source": [
    "Compare learning rate in slow vs fast tasks."
   ]
  },
  {
   "cell_type": "code",
   "execution_count": 384,
   "id": "867bfe12-c811-4eaa-9e96-03a334d446f5",
   "metadata": {},
   "outputs": [
    {
     "data": {
      "image/png": "[encoded data removed]",
      "text/plain": [
       "<Figure size 1600x400 with 2 Axes>"
      ]
     },
     "metadata": {},
     "output_type": "display_data"
    }
   ],
   "source": [
    "fig, ax = plt.subplots(1,2, figsize=(16, 4), sharey=True)\n",
    "\n",
    "fig.suptitle(r'Optimal Learning Rate Across Participants')\n",
    "ax[0].bar(PARTICIPANTS - 0.175, optimal_model_params_rw_slow[:, 0], 0.35, label='Slow', alpha=0.8)\n",
    "ax[0].bar(PARTICIPANTS + 0.175, optimal_model_params_rw_fast[:, 0], 0.35, label='Fast', alpha=0.8)\n",
    "ax[0].set_xticks(PARTICIPANTS)\n",
    "ax[0].legend();\n",
    "\n",
    "boxplot(optimal_model_params_rw_slow, optimal_model_params_rw_fast, ('Slow', 'Fast'), ax[1])"
   ]
  },
  {
   "cell_type": "code",
   "execution_count": 385,
   "id": "e4baa717-573d-431f-80f2-44d69f05ec65",
   "metadata": {},
   "outputs": [
    {
     "data": {
      "text/plain": [
       "Ttest_relResult(statistic=-0.08778086039709782, pvalue=0.9310200641355209)"
      ]
     },
     "execution_count": 385,
     "metadata": {},
     "output_type": "execute_result"
    }
   ],
   "source": [
    "st.ttest_rel(optimal_model_params_rw_slow[:, 0], optimal_model_params_rw_fast[:, 0])"
   ]
  },
  {
   "cell_type": "markdown",
   "id": "0a30f3c7-9a0d-4156-9f8e-8fd02e733e4d",
   "metadata": {},
   "source": [
    "#### Does time pressure lead to more noisy decisions?"
   ]
  },
  {
   "cell_type": "markdown",
   "id": "6bae43e0-2a50-4aba-a34d-b540788484e7",
   "metadata": {},
   "source": [
    "Compare $\\epsilon$-error parameter in slow vs fast tasks."
   ]
  },
  {
   "cell_type": "code",
   "execution_count": 386,
   "id": "51829485-f04b-4867-8520-e00751007555",
   "metadata": {},
   "outputs": [
    {
     "data": {
      "image/png": "[encoded data removed]",
      "text/plain": [
       "<Figure size 1600x400 with 2 Axes>"
      ]
     },
     "metadata": {},
     "output_type": "display_data"
    }
   ],
   "source": [
    "fig, ax = plt.subplots(1,2, figsize=(16, 4), sharey=True)\n",
    "\n",
    "fig.suptitle(r'Optimal Error Weight in $\\epsilon$-Greedy Error Model Across Participants')\n",
    "ax[0].bar(PARTICIPANTS - 0.175, optimal_error_rw_slow, 0.35, label='Slow', alpha=0.8)\n",
    "ax[0].bar(PARTICIPANTS + 0.175, optimal_error_rw_fast, 0.35, label='Fast', alpha=0.8)\n",
    "ax[0].set_xticks(PARTICIPANTS)\n",
    "ax[0].legend();\n",
    "\n",
    "boxplot(optimal_error_rw_slow, optimal_error_rw_fast, ('Slow', 'Fast'), ax[1])"
   ]
  },
  {
   "cell_type": "code",
   "execution_count": 387,
   "id": "c962ee42-6a27-43ba-9293-865778bbdec5",
   "metadata": {},
   "outputs": [
    {
     "data": {
      "text/plain": [
       "Ttest_relResult(statistic=-1.228304149082893, pvalue=0.23515194023543776)"
      ]
     },
     "execution_count": 387,
     "metadata": {},
     "output_type": "execute_result"
    }
   ],
   "source": [
    "st.ttest_rel(optimal_error_rw_slow, optimal_error_rw_fast)"
   ]
  },
  {
   "cell_type": "markdown",
   "id": "f4d1ffc4-6668-4010-885e-90c6b0207642",
   "metadata": {
    "tags": []
   },
   "source": [
    "### Kalman Filter"
   ]
  },
  {
   "cell_type": "code",
   "execution_count": 158,
   "id": "ac952a66-3cc5-486d-98ae-ade86ce19924",
   "metadata": {},
   "outputs": [],
   "source": [
    "class KalmanFilter():\n",
    "    _num_params = 2 \n",
    "    \n",
    "    def __init__(self, num_features, sigma_y, sigma_w):\n",
    "        self.num_features = num_features\n",
    "        self.sigma_y = sigma_y\n",
    "        self.sigma_w = sigma_w\n",
    "        \n",
    "        self.weights = np.zeros((num_features, 1))\n",
    "        self.covariance = sigma_w * np.eye(num_features)\n",
    "        \n",
    "    def predict(self, inputs):\n",
    "        mean = self.weights.T @ inputs\n",
    "        std = np.sqrt(inputs.T @ self.covariance @ inputs + self.sigma_y ** 2)\n",
    "        return mean, std\n",
    "\n",
    "    def learn(self, inputs, targets):\n",
    "        kalman_numerator = self.covariance @ inputs\n",
    "        kalman_denominator = inputs.T @ self.covariance @ inputs + self.sigma_y ** 2\n",
    "        kalman_gain = kalman_numerator / kalman_denominator\n",
    "        \n",
    "        self.weights = self.weights + kalman_gain * (targets - self.weights.T @ inputs)\n",
    "        self.covariance = self.covariance - kalman_gain @ inputs.T @ self.covariance"
   ]
  },
  {
   "cell_type": "code",
   "execution_count": null,
   "id": "72115cc3-fac5-4b7f-8b2d-4d7966652d93",
   "metadata": {},
   "outputs": [],
   "source": [
    "# bics_kf, optimal_model_params_kf, optimal_error_kf = optimise(KalmanFilter, ((0.1, 1, 0.1), (0.1, 1, 0.1)))"
   ]
  },
  {
   "cell_type": "code",
   "execution_count": 167,
   "id": "59c550e6-70fe-4749-aac1-599bc8f16e9f",
   "metadata": {},
   "outputs": [
    {
     "name": "stderr",
     "output_type": "stream",
     "text": [
      "100%|██████████████████████████████████████████████████████████████████████████████████████████████████████████| 19/19 [1:31:06<00:00, 287.74s/it]\n"
     ]
    }
   ],
   "source": [
    "bics_kf_slow, optimal_model_params_kf_slow, optimal_error_kf_slow = optimise(KalmanFilter, ((0.1, 1, 0.1), (0.1, 1, 0.1)), conditions={'slow': 1})"
   ]
  },
  {
   "cell_type": "code",
   "execution_count": 168,
   "id": "e2c2072d-3c98-44e0-a607-fc58aa9c1d6b",
   "metadata": {},
   "outputs": [
    {
     "name": "stderr",
     "output_type": "stream",
     "text": [
      "100%|██████████████████████████████████████████████████████████████████████████████████████████████████████████| 19/19 [1:27:09<00:00, 275.21s/it]\n"
     ]
    }
   ],
   "source": [
    "bics_kf_fast, optimal_model_params_kf_fast, optimal_error_kf_fast = optimise(KalmanFilter, ((0.1, 1, 0.1), (0.1, 1, 0.1)), conditions={'slow': 0})"
   ]
  },
  {
   "cell_type": "markdown",
   "id": "b909d301-4217-451b-b62a-5f86221704ec",
   "metadata": {
    "tags": []
   },
   "source": [
    "#### Does time pressure lead to slower learning?"
   ]
  },
  {
   "cell_type": "markdown",
   "id": "1e51ec10-1e17-41c5-906e-76fe5e4e07d8",
   "metadata": {},
   "source": [
    "Compare $\\sigma_y$ in slow vs fast tasks."
   ]
  },
  {
   "cell_type": "code",
   "execution_count": 289,
   "id": "efe97aff-1cfc-4a68-95b9-a247daaae4c1",
   "metadata": {},
   "outputs": [
    {
     "data": {
      "image/png": "[encoded data removed]",
      "text/plain": [
       "<Figure size 1600x400 with 2 Axes>"
      ]
     },
     "metadata": {},
     "output_type": "display_data"
    }
   ],
   "source": [
    "fig, ax = plt.subplots(1,2, figsize=(16, 4), sharey=True)\n",
    "\n",
    "fig.suptitle(r'Optimal $\\sigma_y$ Across Participants')\n",
    "ax[0].bar(PARTICIPANTS - 0.175, optimal_model_params_kf_slow[:, 0], 0.35, label='Slow', alpha=0.8)\n",
    "ax[0].bar(PARTICIPANTS + 0.175, optimal_model_params_kf_fast[:, 0], 0.35, label='Fast', alpha=0.8)\n",
    "ax[0].set_xticks(PARTICIPANTS)\n",
    "ax[0].legend();\n",
    "\n",
    "boxplot(optimal_model_params_kf_slow[:, 0], optimal_model_params_kf_fast[:, 0], ('Slow', 'Fast'), ax[1])"
   ]
  },
  {
   "cell_type": "code",
   "execution_count": 296,
   "id": "f7fdb62b-02e5-4c0b-9501-0886b672ac8b",
   "metadata": {},
   "outputs": [
    {
     "data": {
      "text/plain": [
       "Ttest_relResult(statistic=1.3277716193177278, pvalue=0.20084696514267514)"
      ]
     },
     "execution_count": 296,
     "metadata": {},
     "output_type": "execute_result"
    }
   ],
   "source": [
    "st.ttest_rel(optimal_model_params_kf_slow[:, 0], optimal_model_params_kf_fast[:, 0])"
   ]
  },
  {
   "cell_type": "markdown",
   "id": "6bd7f8f8-5b0a-481c-a25e-1605164b4b24",
   "metadata": {},
   "source": [
    "#### Does time pressure lead to more noisy decisions?"
   ]
  },
  {
   "cell_type": "markdown",
   "id": "425be828-4b53-4f86-ae6e-f41c4b73c504",
   "metadata": {},
   "source": [
    "Compare $\\epsilon$-error parameter in slow vs fast tasks."
   ]
  },
  {
   "cell_type": "code",
   "execution_count": 298,
   "id": "823a4655-5f79-4b35-aa2f-0440efbad5b7",
   "metadata": {},
   "outputs": [
    {
     "data": {
      "image/png": "[encoded data removed]",
      "text/plain": [
       "<Figure size 1600x400 with 2 Axes>"
      ]
     },
     "metadata": {},
     "output_type": "display_data"
    }
   ],
   "source": [
    "fig, ax = plt.subplots(1,2, figsize=(16, 4), sharey=True)\n",
    "\n",
    "fig.suptitle(r'Optimal Error Weight in $\\epsilon$-Greedy Error Model Across Participants')\n",
    "ax[0].bar(PARTICIPANTS - 0.175, np.array(optimal_error_kf_slow).squeeze(), 0.35, label='Slow', alpha=0.8)\n",
    "ax[0].bar(PARTICIPANTS + 0.175, np.array(optimal_error_kf_fast).squeeze(), 0.35, label='Fast', alpha=0.8)\n",
    "ax[0].set_xticks(PARTICIPANTS)\n",
    "ax[0].legend();\n",
    "\n",
    "boxplot(optimal_error_kf_slow, optimal_error_kf_fast, ('Slow', 'Fast'), ax[1])"
   ]
  },
  {
   "cell_type": "code",
   "execution_count": null,
   "id": "d58317ab-9108-4614-a480-28baf54d9b5e",
   "metadata": {},
   "outputs": [],
   "source": [
    "st.ttest_rel(optimal_error_kf_slow, optimal_error_kf_fast)"
   ]
  },
  {
   "cell_type": "markdown",
   "id": "b335d834-01c6-4955-aa56-46128ff48812",
   "metadata": {
    "tags": []
   },
   "source": [
    "## Model Comparison"
   ]
  },
  {
   "cell_type": "code",
   "execution_count": 407,
   "id": "91b03b9f-494b-4c58-8872-29ecb9a0b54d",
   "metadata": {},
   "outputs": [],
   "source": [
    "bics_slow = pd.DataFrame({'RW_SLOW': bics_rw_slow, 'KF_SLOW': bics_kf_slow, 'RM_SLOW': bics_rm_slow}).applymap(round)\n",
    "bics_fast = pd.DataFrame({'RW_FAST': bics_rw_fast, 'KF_FAST': bics_kf_fast, 'RM_FAST': bics_rm_fast}).applymap(round)"
   ]
  },
  {
   "cell_type": "code",
   "execution_count": 389,
   "id": "f5fc061d-6d8f-41f2-8047-8d0fdd643a2a",
   "metadata": {},
   "outputs": [],
   "source": [
    "counts_slow = {'RW_SLOW': 0, 'KF_SLOW': 0, 'RM_SLOW': 0}\n",
    "for key, val in zip(*np.unique(bics_slow.columns[np.argmin(np.array(bics_slow), axis=1)], return_counts=True)):\n",
    "    counts_slow[key] = val\n",
    "\n",
    "counts_fast = {'RW_FAST': 0, 'KF_FAST': 0, 'RM_FAST': 0}\n",
    "for key, val in zip(*np.unique(bics_fast.columns[np.argmin(np.array(bics_fast), axis=1)], return_counts=True)):\n",
    "    counts_fast[key] = val"
   ]
  },
  {
   "cell_type": "markdown",
   "id": "745c2e51-72b4-491c-bdf8-fe473c6f21dc",
   "metadata": {},
   "source": [
    "#### Which model explains the human data best?"
   ]
  },
  {
   "cell_type": "markdown",
   "id": "30cdc7b0-4964-4347-abef-1c8d6b206bde",
   "metadata": {},
   "source": [
    "Compare BIC scores for all models in slow and fast tasks."
   ]
  },
  {
   "cell_type": "code",
   "execution_count": 408,
   "id": "bc412f39-fcce-453a-8f92-7e63d6030e54",
   "metadata": {},
   "outputs": [
    {
     "data": {
      "image/png": "[encoded data removed]",
      "text/plain": [
       "<Figure size 1800x300 with 4 Axes>"
      ]
     },
     "metadata": {},
     "output_type": "display_data"
    }
   ],
   "source": [
    "fig, axs = plt.subplots(2, 1, figsize=(18, 3), sharex=True)\n",
    "\n",
    "sns.heatmap(bics_slow[['RW_SLOW', 'KF_SLOW']].T, cmap='RdBu_r', annot=True, fmt='g', ax=axs[0])\n",
    "# axs[0].set_title('BIC (Slow Tasks)')\n",
    "# axs[0].set_xlabel('Participant')\n",
    "axs[0].set_ylabel('Model')\n",
    "\n",
    "sns.heatmap(bics_fast[['RW_FAST', 'KF_FAST', 'RM_FAST']].T, cmap='RdBu_r', annot=True, fmt='g', ax=axs[1])\n",
    "# axs[1].set_title('BIC (Fast Tasks)')\n",
    "axs[1].set_xlabel('Participant')\n",
    "axs[1].set_ylabel('Model')\n",
    "\n",
    "fig.suptitle('Comparison of BIC Scores Between Fast and Slow Tasks Across Models')\n",
    "\n",
    "plt.tight_layout()"
   ]
  },
  {
   "cell_type": "markdown",
   "id": "d683b1f8-0e5c-4485-9f27-3357a7720928",
   "metadata": {},
   "source": [
    "#### Does time pressure lead to simpler learning strategies?"
   ]
  },
  {
   "cell_type": "markdown",
   "id": "7ceb28b5-5d0c-4d5d-8108-7896dafbf7fe",
   "metadata": {},
   "source": [
    "Compare the complexity of models based on percentage of wins in slow vs fast tasks."
   ]
  },
  {
   "cell_type": "code",
   "execution_count": 391,
   "id": "63788b20-d034-483e-916b-98db6eaea2a7",
   "metadata": {},
   "outputs": [
    {
     "data": {
      "image/png": "[encoded data removed]",
      "text/plain": [
       "<Figure size 800x400 with 1 Axes>"
      ]
     },
     "metadata": {},
     "output_type": "display_data"
    }
   ],
   "source": [
    "plt.figure(figsize=(8, 4))\n",
    "\n",
    "plt.bar(np.arange(len(counts_slow)) - 0.175, list(counts_slow.values())/sum(list(counts_slow.values())), 0.35, tick_label=list(counts_slow.keys()))\n",
    "plt.bar(np.arange(len(counts_fast)) + 0.175, list(counts_fast.values())/sum(list(counts_fast.values())), 0.35, tick_label=list(counts_fast.keys()))\n",
    "plt.xlabel('Model')\n",
    "plt.ylabel('% Wins', fontsize=15);"
   ]
  },
  {
   "cell_type": "markdown",
   "id": "0c3016a4-c6fb-4056-9f71-5aae0822d898",
   "metadata": {
    "jp-MarkdownHeadingCollapsed": true,
    "tags": []
   },
   "source": [
    "# Methods"
   ]
  },
  {
   "cell_type": "markdown",
   "id": "23d6a1f8-7161-4eb4-bdbc-2bb2da270c21",
   "metadata": {},
   "source": []
  },
  {
   "cell_type": "markdown",
   "id": "d7e18076-25bc-4c74-9436-ab01afe9a055",
   "metadata": {
    "jp-MarkdownHeadingCollapsed": true,
    "tags": []
   },
   "source": [
    "# Results"
   ]
  },
  {
   "cell_type": "markdown",
   "id": "ee40a98a-3929-47d2-aeca-40681ca50627",
   "metadata": {},
   "source": []
  },
  {
   "cell_type": "markdown",
   "id": "76c96ea5-b80d-446a-9129-e058c37aab97",
   "metadata": {
    "jp-MarkdownHeadingCollapsed": true,
    "tags": []
   },
   "source": [
    "# Discussion"
   ]
  },
  {
   "cell_type": "markdown",
   "id": "10da9ff8-bc90-465f-83a4-71c81dd61c00",
   "metadata": {},
   "source": []
  },
  {
   "cell_type": "markdown",
   "id": "06545e73-4895-4d04-974e-0c30037038dd",
   "metadata": {
    "jp-MarkdownHeadingCollapsed": true,
    "tags": []
   },
   "source": [
    "# References"
   ]
  },
  {
   "cell_type": "markdown",
   "id": "7a477eb1-51d2-49a4-92af-d1a90392a895",
   "metadata": {},
   "source": []
  }
 ],
 "metadata": {
  "kernelspec": {
   "display_name": "Python 3 (ipykernel)",
   "language": "python",
   "name": "python3"
  },
  "language_info": {
   "codemirror_mode": {
    "name": "ipython",
    "version": 3
   },
   "file_extension": ".py",
   "mimetype": "text/x-python",
   "name": "python",
   "nbconvert_exporter": "python",
   "pygments_lexer": "ipython3",
   "version": "3.9.13"
  }
 },
 "nbformat": 4,
 "nbformat_minor": 5
}
