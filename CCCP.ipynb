{
 "cells": [
  {
   "cell_type": "markdown",
   "id": "d2c0eb6b-3cfc-4d1f-a1af-7254aeebec63",
   "metadata": {},
   "source": [
    "<div class=\"alert alert-success\">\n",
    "    -----\n",
    "</div>"
   ]
  },
  {
   "cell_type": "markdown",
   "id": "81960b53-06e8-4051-84d0-4e779c9642c2",
   "metadata": {},
   "source": [
    "# Abstract"
   ]
  },
  {
   "cell_type": "markdown",
   "id": "982f8a25-bae4-49b3-8f03-20a0d1e86649",
   "metadata": {},
   "source": []
  },
  {
   "cell_type": "markdown",
   "id": "1e5c0486-35a2-4e62-a14b-8b9e149f29cc",
   "metadata": {
    "tags": []
   },
   "source": [
    "# Introduction"
   ]
  },
  {
   "cell_type": "markdown",
   "id": "7d482d1a-c370-4d3f-865b-ace5ae5d0698",
   "metadata": {},
   "source": []
  },
  {
   "cell_type": "markdown",
   "id": "65b33856-859b-4dca-a213-cd8f46a0d428",
   "metadata": {
    "tags": []
   },
   "source": [
    "# `Analysis`"
   ]
  },
  {
   "cell_type": "markdown",
   "id": "c8a3af29-9246-4880-9b2a-4b052207e4c4",
   "metadata": {
    "jp-MarkdownHeadingCollapsed": true,
    "tags": []
   },
   "source": [
    "## Imports"
   ]
  },
  {
   "cell_type": "code",
   "execution_count": 117,
   "id": "0d865538-12b6-4f79-9c52-f3adf2cf3eaf",
   "metadata": {},
   "outputs": [],
   "source": [
    "import numpy as np\n",
    "import pandas as pd\n",
    "from scipy import stats as stats\n",
    "import statsmodels.api as sm"
   ]
  },
  {
   "cell_type": "code",
   "execution_count": 121,
   "id": "dc5bafc5-4280-42fb-b93e-f23b12c403c0",
   "metadata": {},
   "outputs": [],
   "source": [
    "import statsmodels.formula.api as smf"
   ]
  },
  {
   "cell_type": "code",
   "execution_count": 2,
   "id": "f9a96dbc-dae2-4659-aa48-51675a5e57f4",
   "metadata": {},
   "outputs": [],
   "source": [
    "data = pd.read_csv('ccs2022.csv')"
   ]
  },
  {
   "cell_type": "markdown",
   "id": "6e6f1443-1594-4cd2-a85d-3122c69cf9c4",
   "metadata": {
    "jp-MarkdownHeadingCollapsed": true,
    "tags": []
   },
   "source": [
    "## Behavioral Analysis"
   ]
  },
  {
   "cell_type": "code",
   "execution_count": 70,
   "id": "2c084348-a4af-4ca7-9fdd-93cdce5e61b1",
   "metadata": {},
   "outputs": [
    {
     "data": {
      "text/html": [
       "<div>\n",
       "<style scoped>\n",
       "    .dataframe tbody tr th:only-of-type {\n",
       "        vertical-align: middle;\n",
       "    }\n",
       "\n",
       "    .dataframe tbody tr th {\n",
       "        vertical-align: top;\n",
       "    }\n",
       "\n",
       "    .dataframe thead th {\n",
       "        text-align: right;\n",
       "    }\n",
       "</style>\n",
       "<table border=\"1\" class=\"dataframe\">\n",
       "  <thead>\n",
       "    <tr style=\"text-align: right;\">\n",
       "      <th></th>\n",
       "      <th>Unnamed: 0</th>\n",
       "      <th>num_features</th>\n",
       "      <th>task</th>\n",
       "      <th>trial</th>\n",
       "      <th>w0</th>\n",
       "      <th>w1</th>\n",
       "      <th>w2</th>\n",
       "      <th>w3</th>\n",
       "      <th>xf0</th>\n",
       "      <th>xf1</th>\n",
       "      <th>...</th>\n",
       "      <th>xj1</th>\n",
       "      <th>xj2</th>\n",
       "      <th>xj3</th>\n",
       "      <th>yf</th>\n",
       "      <th>yj</th>\n",
       "      <th>slow</th>\n",
       "      <th>J_pressed</th>\n",
       "      <th>decision_time</th>\n",
       "      <th>participant_id</th>\n",
       "      <th>correct</th>\n",
       "    </tr>\n",
       "  </thead>\n",
       "  <tbody>\n",
       "    <tr>\n",
       "      <th>2976</th>\n",
       "      <td>126</td>\n",
       "      <td>3</td>\n",
       "      <td>13</td>\n",
       "      <td>7</td>\n",
       "      <td>-0.817476</td>\n",
       "      <td>2.381334</td>\n",
       "      <td>2.565472</td>\n",
       "      <td>0.000000</td>\n",
       "      <td>-0.860451</td>\n",
       "      <td>-0.841202</td>\n",
       "      <td>...</td>\n",
       "      <td>0.258156</td>\n",
       "      <td>0.080594</td>\n",
       "      <td>0.000000</td>\n",
       "      <td>-4.504076</td>\n",
       "      <td>0.793123</td>\n",
       "      <td>1</td>\n",
       "      <td>0</td>\n",
       "      <td>1429</td>\n",
       "      <td>9</td>\n",
       "      <td>False</td>\n",
       "    </tr>\n",
       "    <tr>\n",
       "      <th>1527</th>\n",
       "      <td>27</td>\n",
       "      <td>3</td>\n",
       "      <td>3</td>\n",
       "      <td>8</td>\n",
       "      <td>-0.929635</td>\n",
       "      <td>-2.519837</td>\n",
       "      <td>-1.044835</td>\n",
       "      <td>0.000000</td>\n",
       "      <td>0.483507</td>\n",
       "      <td>1.310395</td>\n",
       "      <td>...</td>\n",
       "      <td>0.327652</td>\n",
       "      <td>-0.693266</td>\n",
       "      <td>0.000000</td>\n",
       "      <td>-2.764936</td>\n",
       "      <td>-0.231598</td>\n",
       "      <td>1</td>\n",
       "      <td>1</td>\n",
       "      <td>1955</td>\n",
       "      <td>5</td>\n",
       "      <td>True</td>\n",
       "    </tr>\n",
       "    <tr>\n",
       "      <th>4609</th>\n",
       "      <td>109</td>\n",
       "      <td>4</td>\n",
       "      <td>11</td>\n",
       "      <td>10</td>\n",
       "      <td>-1.422340</td>\n",
       "      <td>-0.500906</td>\n",
       "      <td>0.330440</td>\n",
       "      <td>-1.954409</td>\n",
       "      <td>0.470052</td>\n",
       "      <td>-0.310823</td>\n",
       "      <td>...</td>\n",
       "      <td>0.597143</td>\n",
       "      <td>1.437437</td>\n",
       "      <td>0.666574</td>\n",
       "      <td>0.698580</td>\n",
       "      <td>-2.453261</td>\n",
       "      <td>1</td>\n",
       "      <td>0</td>\n",
       "      <td>3645</td>\n",
       "      <td>15</td>\n",
       "      <td>True</td>\n",
       "    </tr>\n",
       "    <tr>\n",
       "      <th>4892</th>\n",
       "      <td>92</td>\n",
       "      <td>2</td>\n",
       "      <td>10</td>\n",
       "      <td>3</td>\n",
       "      <td>0.486796</td>\n",
       "      <td>-0.771627</td>\n",
       "      <td>0.000000</td>\n",
       "      <td>0.000000</td>\n",
       "      <td>0.214811</td>\n",
       "      <td>-0.923671</td>\n",
       "      <td>...</td>\n",
       "      <td>0.264917</td>\n",
       "      <td>0.000000</td>\n",
       "      <td>0.000000</td>\n",
       "      <td>0.817299</td>\n",
       "      <td>0.270638</td>\n",
       "      <td>1</td>\n",
       "      <td>1</td>\n",
       "      <td>1837</td>\n",
       "      <td>16</td>\n",
       "      <td>False</td>\n",
       "    </tr>\n",
       "    <tr>\n",
       "      <th>4579</th>\n",
       "      <td>79</td>\n",
       "      <td>3</td>\n",
       "      <td>8</td>\n",
       "      <td>10</td>\n",
       "      <td>-0.172756</td>\n",
       "      <td>-1.969124</td>\n",
       "      <td>0.002377</td>\n",
       "      <td>0.000000</td>\n",
       "      <td>0.581663</td>\n",
       "      <td>-0.066937</td>\n",
       "      <td>...</td>\n",
       "      <td>0.755554</td>\n",
       "      <td>1.436835</td>\n",
       "      <td>0.000000</td>\n",
       "      <td>0.027226</td>\n",
       "      <td>-1.779444</td>\n",
       "      <td>1</td>\n",
       "      <td>0</td>\n",
       "      <td>973</td>\n",
       "      <td>15</td>\n",
       "      <td>True</td>\n",
       "    </tr>\n",
       "  </tbody>\n",
       "</table>\n",
       "<p>5 rows × 23 columns</p>\n",
       "</div>"
      ],
      "text/plain": [
       "      Unnamed: 0  num_features  task  trial        w0        w1        w2  \\\n",
       "2976         126             3    13      7 -0.817476  2.381334  2.565472   \n",
       "1527          27             3     3      8 -0.929635 -2.519837 -1.044835   \n",
       "4609         109             4    11     10 -1.422340 -0.500906  0.330440   \n",
       "4892          92             2    10      3  0.486796 -0.771627  0.000000   \n",
       "4579          79             3     8     10 -0.172756 -1.969124  0.002377   \n",
       "\n",
       "            w3       xf0       xf1  ...       xj1       xj2       xj3  \\\n",
       "2976  0.000000 -0.860451 -0.841202  ...  0.258156  0.080594  0.000000   \n",
       "1527  0.000000  0.483507  1.310395  ...  0.327652 -0.693266  0.000000   \n",
       "4609 -1.954409  0.470052 -0.310823  ...  0.597143  1.437437  0.666574   \n",
       "4892  0.000000  0.214811 -0.923671  ...  0.264917  0.000000  0.000000   \n",
       "4579  0.000000  0.581663 -0.066937  ...  0.755554  1.436835  0.000000   \n",
       "\n",
       "            yf        yj  slow  J_pressed  decision_time  participant_id  \\\n",
       "2976 -4.504076  0.793123     1          0           1429               9   \n",
       "1527 -2.764936 -0.231598     1          1           1955               5   \n",
       "4609  0.698580 -2.453261     1          0           3645              15   \n",
       "4892  0.817299  0.270638     1          1           1837              16   \n",
       "4579  0.027226 -1.779444     1          0            973              15   \n",
       "\n",
       "      correct  \n",
       "2976    False  \n",
       "1527     True  \n",
       "4609     True  \n",
       "4892    False  \n",
       "4579     True  \n",
       "\n",
       "[5 rows x 23 columns]"
      ]
     },
     "execution_count": 70,
     "metadata": {},
     "output_type": "execute_result"
    }
   ],
   "source": [
    "data.sample(5)"
   ]
  },
  {
   "cell_type": "code",
   "execution_count": 93,
   "id": "30601482-c3f9-4185-9f1b-28c5899ff908",
   "metadata": {},
   "outputs": [
    {
     "data": {
      "text/html": [
       "<div>\n",
       "<style scoped>\n",
       "    .dataframe tbody tr th:only-of-type {\n",
       "        vertical-align: middle;\n",
       "    }\n",
       "\n",
       "    .dataframe tbody tr th {\n",
       "        vertical-align: top;\n",
       "    }\n",
       "\n",
       "    .dataframe thead th {\n",
       "        text-align: right;\n",
       "    }\n",
       "</style>\n",
       "<table border=\"1\" class=\"dataframe\">\n",
       "  <thead>\n",
       "    <tr style=\"text-align: right;\">\n",
       "      <th></th>\n",
       "      <th>Unnamed: 0</th>\n",
       "      <th>num_features</th>\n",
       "      <th>task</th>\n",
       "      <th>trial</th>\n",
       "      <th>w0</th>\n",
       "      <th>w1</th>\n",
       "      <th>w2</th>\n",
       "      <th>w3</th>\n",
       "      <th>xf0</th>\n",
       "      <th>xf1</th>\n",
       "      <th>...</th>\n",
       "      <th>xj0</th>\n",
       "      <th>xj1</th>\n",
       "      <th>xj2</th>\n",
       "      <th>xj3</th>\n",
       "      <th>yf</th>\n",
       "      <th>yj</th>\n",
       "      <th>slow</th>\n",
       "      <th>J_pressed</th>\n",
       "      <th>decision_time</th>\n",
       "      <th>participant_id</th>\n",
       "    </tr>\n",
       "  </thead>\n",
       "  <tbody>\n",
       "    <tr>\n",
       "      <th>count</th>\n",
       "      <td>5700.000000</td>\n",
       "      <td>5700.000000</td>\n",
       "      <td>5700.000000</td>\n",
       "      <td>5700.000000</td>\n",
       "      <td>5700.000000</td>\n",
       "      <td>5700.000000</td>\n",
       "      <td>5700.000000</td>\n",
       "      <td>5700.000000</td>\n",
       "      <td>5700.000000</td>\n",
       "      <td>5700.000000</td>\n",
       "      <td>...</td>\n",
       "      <td>5700.000000</td>\n",
       "      <td>5700.000000</td>\n",
       "      <td>5700.000000</td>\n",
       "      <td>5700.000000</td>\n",
       "      <td>5700.000000</td>\n",
       "      <td>5700.000000</td>\n",
       "      <td>5700.000000</td>\n",
       "      <td>5700.000000</td>\n",
       "      <td>5700.000000</td>\n",
       "      <td>5700.000000</td>\n",
       "    </tr>\n",
       "    <tr>\n",
       "      <th>mean</th>\n",
       "      <td>74.500000</td>\n",
       "      <td>3.000000</td>\n",
       "      <td>8.000000</td>\n",
       "      <td>5.500000</td>\n",
       "      <td>-0.016511</td>\n",
       "      <td>-0.016877</td>\n",
       "      <td>-0.016098</td>\n",
       "      <td>-0.035328</td>\n",
       "      <td>0.006198</td>\n",
       "      <td>-0.003110</td>\n",
       "      <td>...</td>\n",
       "      <td>-0.007707</td>\n",
       "      <td>-0.001109</td>\n",
       "      <td>0.019604</td>\n",
       "      <td>-0.013696</td>\n",
       "      <td>0.038916</td>\n",
       "      <td>-0.018640</td>\n",
       "      <td>0.500000</td>\n",
       "      <td>0.476491</td>\n",
       "      <td>2054.558772</td>\n",
       "      <td>9.000000</td>\n",
       "    </tr>\n",
       "    <tr>\n",
       "      <th>std</th>\n",
       "      <td>43.304107</td>\n",
       "      <td>0.816568</td>\n",
       "      <td>4.320873</td>\n",
       "      <td>2.872533</td>\n",
       "      <td>0.992393</td>\n",
       "      <td>0.990125</td>\n",
       "      <td>0.768731</td>\n",
       "      <td>0.554574</td>\n",
       "      <td>0.993333</td>\n",
       "      <td>1.003533</td>\n",
       "      <td>...</td>\n",
       "      <td>1.019498</td>\n",
       "      <td>0.993289</td>\n",
       "      <td>0.818886</td>\n",
       "      <td>0.595088</td>\n",
       "      <td>1.682371</td>\n",
       "      <td>1.701435</td>\n",
       "      <td>0.500044</td>\n",
       "      <td>0.520479</td>\n",
       "      <td>1130.131513</td>\n",
       "      <td>5.477706</td>\n",
       "    </tr>\n",
       "    <tr>\n",
       "      <th>min</th>\n",
       "      <td>0.000000</td>\n",
       "      <td>2.000000</td>\n",
       "      <td>1.000000</td>\n",
       "      <td>1.000000</td>\n",
       "      <td>-3.262599</td>\n",
       "      <td>-2.813150</td>\n",
       "      <td>-2.982507</td>\n",
       "      <td>-1.989362</td>\n",
       "      <td>-3.082612</td>\n",
       "      <td>-3.659075</td>\n",
       "      <td>...</td>\n",
       "      <td>-3.645617</td>\n",
       "      <td>-3.127707</td>\n",
       "      <td>-3.436430</td>\n",
       "      <td>-3.585286</td>\n",
       "      <td>-8.417751</td>\n",
       "      <td>-8.328136</td>\n",
       "      <td>0.000000</td>\n",
       "      <td>-1.000000</td>\n",
       "      <td>16.000000</td>\n",
       "      <td>0.000000</td>\n",
       "    </tr>\n",
       "    <tr>\n",
       "      <th>25%</th>\n",
       "      <td>37.000000</td>\n",
       "      <td>2.000000</td>\n",
       "      <td>4.000000</td>\n",
       "      <td>3.000000</td>\n",
       "      <td>-0.669580</td>\n",
       "      <td>-0.725099</td>\n",
       "      <td>-0.258416</td>\n",
       "      <td>0.000000</td>\n",
       "      <td>-0.657658</td>\n",
       "      <td>-0.670997</td>\n",
       "      <td>...</td>\n",
       "      <td>-0.683343</td>\n",
       "      <td>-0.662367</td>\n",
       "      <td>-0.265064</td>\n",
       "      <td>0.000000</td>\n",
       "      <td>-0.834921</td>\n",
       "      <td>-0.907908</td>\n",
       "      <td>0.000000</td>\n",
       "      <td>0.000000</td>\n",
       "      <td>1207.750000</td>\n",
       "      <td>4.000000</td>\n",
       "    </tr>\n",
       "    <tr>\n",
       "      <th>50%</th>\n",
       "      <td>74.500000</td>\n",
       "      <td>3.000000</td>\n",
       "      <td>8.000000</td>\n",
       "      <td>5.500000</td>\n",
       "      <td>0.017558</td>\n",
       "      <td>0.034409</td>\n",
       "      <td>0.000000</td>\n",
       "      <td>0.000000</td>\n",
       "      <td>0.014775</td>\n",
       "      <td>0.002226</td>\n",
       "      <td>...</td>\n",
       "      <td>-0.009705</td>\n",
       "      <td>-0.000105</td>\n",
       "      <td>0.000000</td>\n",
       "      <td>0.000000</td>\n",
       "      <td>0.005886</td>\n",
       "      <td>-0.011790</td>\n",
       "      <td>0.500000</td>\n",
       "      <td>0.000000</td>\n",
       "      <td>1823.500000</td>\n",
       "      <td>9.000000</td>\n",
       "    </tr>\n",
       "    <tr>\n",
       "      <th>75%</th>\n",
       "      <td>112.000000</td>\n",
       "      <td>4.000000</td>\n",
       "      <td>12.000000</td>\n",
       "      <td>8.000000</td>\n",
       "      <td>0.687299</td>\n",
       "      <td>0.609194</td>\n",
       "      <td>0.225453</td>\n",
       "      <td>0.000000</td>\n",
       "      <td>0.683212</td>\n",
       "      <td>0.674014</td>\n",
       "      <td>...</td>\n",
       "      <td>0.642543</td>\n",
       "      <td>0.662876</td>\n",
       "      <td>0.352336</td>\n",
       "      <td>0.000000</td>\n",
       "      <td>0.933715</td>\n",
       "      <td>0.910058</td>\n",
       "      <td>1.000000</td>\n",
       "      <td>1.000000</td>\n",
       "      <td>2612.250000</td>\n",
       "      <td>14.000000</td>\n",
       "    </tr>\n",
       "    <tr>\n",
       "      <th>max</th>\n",
       "      <td>149.000000</td>\n",
       "      <td>4.000000</td>\n",
       "      <td>15.000000</td>\n",
       "      <td>10.000000</td>\n",
       "      <td>3.382819</td>\n",
       "      <td>3.359570</td>\n",
       "      <td>2.605430</td>\n",
       "      <td>2.748867</td>\n",
       "      <td>3.530859</td>\n",
       "      <td>3.502766</td>\n",
       "      <td>...</td>\n",
       "      <td>3.699052</td>\n",
       "      <td>3.708791</td>\n",
       "      <td>4.113881</td>\n",
       "      <td>3.156384</td>\n",
       "      <td>9.815997</td>\n",
       "      <td>7.631615</td>\n",
       "      <td>1.000000</td>\n",
       "      <td>1.000000</td>\n",
       "      <td>6125.000000</td>\n",
       "      <td>18.000000</td>\n",
       "    </tr>\n",
       "  </tbody>\n",
       "</table>\n",
       "<p>8 rows × 22 columns</p>\n",
       "</div>"
      ],
      "text/plain": [
       "        Unnamed: 0  num_features         task        trial           w0  \\\n",
       "count  5700.000000   5700.000000  5700.000000  5700.000000  5700.000000   \n",
       "mean     74.500000      3.000000     8.000000     5.500000    -0.016511   \n",
       "std      43.304107      0.816568     4.320873     2.872533     0.992393   \n",
       "min       0.000000      2.000000     1.000000     1.000000    -3.262599   \n",
       "25%      37.000000      2.000000     4.000000     3.000000    -0.669580   \n",
       "50%      74.500000      3.000000     8.000000     5.500000     0.017558   \n",
       "75%     112.000000      4.000000    12.000000     8.000000     0.687299   \n",
       "max     149.000000      4.000000    15.000000    10.000000     3.382819   \n",
       "\n",
       "                w1           w2           w3          xf0          xf1  ...  \\\n",
       "count  5700.000000  5700.000000  5700.000000  5700.000000  5700.000000  ...   \n",
       "mean     -0.016877    -0.016098    -0.035328     0.006198    -0.003110  ...   \n",
       "std       0.990125     0.768731     0.554574     0.993333     1.003533  ...   \n",
       "min      -2.813150    -2.982507    -1.989362    -3.082612    -3.659075  ...   \n",
       "25%      -0.725099    -0.258416     0.000000    -0.657658    -0.670997  ...   \n",
       "50%       0.034409     0.000000     0.000000     0.014775     0.002226  ...   \n",
       "75%       0.609194     0.225453     0.000000     0.683212     0.674014  ...   \n",
       "max       3.359570     2.605430     2.748867     3.530859     3.502766  ...   \n",
       "\n",
       "               xj0          xj1          xj2          xj3           yf  \\\n",
       "count  5700.000000  5700.000000  5700.000000  5700.000000  5700.000000   \n",
       "mean     -0.007707    -0.001109     0.019604    -0.013696     0.038916   \n",
       "std       1.019498     0.993289     0.818886     0.595088     1.682371   \n",
       "min      -3.645617    -3.127707    -3.436430    -3.585286    -8.417751   \n",
       "25%      -0.683343    -0.662367    -0.265064     0.000000    -0.834921   \n",
       "50%      -0.009705    -0.000105     0.000000     0.000000     0.005886   \n",
       "75%       0.642543     0.662876     0.352336     0.000000     0.933715   \n",
       "max       3.699052     3.708791     4.113881     3.156384     9.815997   \n",
       "\n",
       "                yj         slow    J_pressed  decision_time  participant_id  \n",
       "count  5700.000000  5700.000000  5700.000000    5700.000000     5700.000000  \n",
       "mean     -0.018640     0.500000     0.476491    2054.558772        9.000000  \n",
       "std       1.701435     0.500044     0.520479    1130.131513        5.477706  \n",
       "min      -8.328136     0.000000    -1.000000      16.000000        0.000000  \n",
       "25%      -0.907908     0.000000     0.000000    1207.750000        4.000000  \n",
       "50%      -0.011790     0.500000     0.000000    1823.500000        9.000000  \n",
       "75%       0.910058     1.000000     1.000000    2612.250000       14.000000  \n",
       "max       7.631615     1.000000     1.000000    6125.000000       18.000000  \n",
       "\n",
       "[8 rows x 22 columns]"
      ]
     },
     "execution_count": 93,
     "metadata": {},
     "output_type": "execute_result"
    }
   ],
   "source": [
    "data.describe()"
   ]
  },
  {
   "cell_type": "code",
   "execution_count": 81,
   "id": "01b2e996-99d8-4479-82d9-19e435ecd12d",
   "metadata": {},
   "outputs": [
    {
     "data": {
      "text/plain": [
       "Index(['Unnamed: 0', 'num_features', 'task', 'trial', 'w0', 'w1', 'w2', 'w3',\n",
       "       'xf0', 'xf1', 'xf2', 'xf3', 'xj0', 'xj1', 'xj2', 'xj3', 'yf', 'yj',\n",
       "       'slow', 'J_pressed', 'decision_time', 'participant_id', 'correct'],\n",
       "      dtype='object')"
      ]
     },
     "execution_count": 81,
     "metadata": {},
     "output_type": "execute_result"
    }
   ],
   "source": [
    "data.columns"
   ]
  },
  {
   "cell_type": "markdown",
   "id": "9761a551-28c1-4676-842f-deb52fe9a484",
   "metadata": {},
   "source": [
    " >• Do participants perform better than chance?"
   ]
  },
  {
   "cell_type": "code",
   "execution_count": 108,
   "id": "1c933eb0-3d7f-48a3-a5f9-95461f2e1cbf",
   "metadata": {},
   "outputs": [
    {
     "name": "stdout",
     "output_type": "stream",
     "text": [
      "0.6464912280701754 \n",
      "\n",
      " participant_id\n",
      "0     0.693333\n",
      "1     0.623333\n",
      "2     0.530000\n",
      "3     0.676667\n",
      "4     0.610000\n",
      "5     0.603333\n",
      "6     0.653333\n",
      "7     0.650000\n",
      "8     0.583333\n",
      "9     0.580000\n",
      "10    0.596667\n",
      "11    0.570000\n",
      "12    0.603333\n",
      "13    0.600000\n",
      "14    0.706667\n",
      "15    0.763333\n",
      "16    0.676667\n",
      "17    0.673333\n",
      "18    0.890000\n",
      "Name: correct, dtype: float64\n"
     ]
    }
   ],
   "source": [
    "data['correctBool'] = (data['J_pressed'] == (data['yj'] > data['yf']))\n",
    "data['correct'] = data['correctBool'] * 1\n",
    "per_correct = data['correct'].mean()\n",
    "par_correct = data.groupby('participant_id').correct.mean()\n",
    "print(per_correct, \"\\n\\n\", par_correct)"
   ]
  },
  {
   "cell_type": "code",
   "execution_count": 68,
   "id": "73a5474d-3bb5-4c55-a0dc-5c8844907425",
   "metadata": {},
   "outputs": [
    {
     "name": "stdout",
     "output_type": "stream",
     "text": [
      "0.6464912280701754\n",
      "t = 7.839041423241336 p = 3.2694556196426246e-07\n"
     ]
    }
   ],
   "source": [
    "print(per_correct)\n",
    "t_par, p_par = stats.ttest_1samp(par_correct, 0.5)\n",
    "print(\"t =\", t_par, \"p =\", p_par)"
   ]
  },
  {
   "cell_type": "markdown",
   "id": "52b2816d-8e0b-4427-a3b4-cb2dfa6bd15d",
   "metadata": {},
   "source": [
    "> • Do they improve over trials within each round?"
   ]
  },
  {
   "cell_type": "code",
   "execution_count": 109,
   "id": "2704cbf2-b773-40e1-bdd7-29876924257c",
   "metadata": {},
   "outputs": [
    {
     "data": {
      "text/plain": [
       "task  trial\n",
       "1     1        0.394737\n",
       "      2        0.578947\n",
       "      3        0.552632\n",
       "      4        0.605263\n",
       "      5        0.605263\n",
       "                 ...   \n",
       "15    6        0.631579\n",
       "      7        0.710526\n",
       "      8        0.736842\n",
       "      9        0.605263\n",
       "      10       0.657895\n",
       "Name: correct, Length: 150, dtype: float64"
      ]
     },
     "execution_count": 109,
     "metadata": {},
     "output_type": "execute_result"
    }
   ],
   "source": [
    "trial_correct = data.groupby(['task', 'trial']).correct.mean()\n",
    "trial_correct"
   ]
  },
  {
   "cell_type": "code",
   "execution_count": 128,
   "id": "553440cd-d108-4c93-906b-5f751dd3c944",
   "metadata": {},
   "outputs": [
    {
     "name": "stdout",
     "output_type": "stream",
     "text": [
      "                            OLS Regression Results                            \n",
      "==============================================================================\n",
      "Dep. Variable:                correct   R-squared:                       0.007\n",
      "Model:                            OLS   Adj. R-squared:                  0.007\n",
      "Method:                 Least Squares   F-statistic:                     41.37\n",
      "Date:                Tue, 27 Sep 2022   Prob (F-statistic):           1.36e-10\n",
      "Time:                        17:32:37   Log-Likelihood:                -3860.6\n",
      "No. Observations:                5700   AIC:                             7725.\n",
      "Df Residuals:                    5698   BIC:                             7739.\n",
      "Df Model:                           1                                         \n",
      "Covariance Type:            nonrobust                                         \n",
      "==============================================================================\n",
      "                 coef    std err          t      P>|t|      [0.025      0.975]\n",
      "------------------------------------------------------------------------------\n",
      "Intercept      0.5688      0.014     41.724      0.000       0.542       0.595\n",
      "trial          0.0141      0.002      6.432      0.000       0.010       0.018\n",
      "==============================================================================\n",
      "Omnibus:                    28873.030   Durbin-Watson:                   1.813\n",
      "Prob(Omnibus):                  0.000   Jarque-Bera (JB):              958.002\n",
      "Skew:                          -0.607   Prob(JB):                    9.38e-209\n",
      "Kurtosis:                       1.400   Cond. No.                         13.7\n",
      "==============================================================================\n",
      "\n",
      "Notes:\n",
      "[1] Standard Errors assume that the covariance matrix of the errors is correctly specified.\n"
     ]
    }
   ],
   "source": [
    "trial_mod = smf.ols(formula=\"correct ~ trial\", data=data).fit()\n",
    "print(trial_mod.summary())"
   ]
  },
  {
   "cell_type": "markdown",
   "id": "d623cd94-765e-434c-b03c-42f1f98da3bd",
   "metadata": {},
   "source": [
    "> • Do they improve over rounds?"
   ]
  },
  {
   "cell_type": "code",
   "execution_count": 111,
   "id": "d50aac0f-a4bf-4f02-b05b-bea55f668a07",
   "metadata": {},
   "outputs": [
    {
     "data": {
      "text/plain": [
       "task\n",
       "1     0.597368\n",
       "2     0.610526\n",
       "3     0.650000\n",
       "4     0.673684\n",
       "5     0.644737\n",
       "6     0.647368\n",
       "7     0.628947\n",
       "8     0.684211\n",
       "9     0.694737\n",
       "10    0.615789\n",
       "11    0.663158\n",
       "12    0.631579\n",
       "13    0.652632\n",
       "14    0.668421\n",
       "15    0.634211\n",
       "Name: correct, dtype: float64"
      ]
     },
     "execution_count": 111,
     "metadata": {},
     "output_type": "execute_result"
    }
   ],
   "source": [
    "task_correct = data.groupby('task').correct.mean()\n",
    "task_correct"
   ]
  },
  {
   "cell_type": "code",
   "execution_count": 124,
   "id": "99924b10-1f18-4843-816c-10532844ec92",
   "metadata": {},
   "outputs": [
    {
     "name": "stdout",
     "output_type": "stream",
     "text": [
      "                            OLS Regression Results                            \n",
      "==============================================================================\n",
      "Dep. Variable:                correct   R-squared:                       0.000\n",
      "Model:                            OLS   Adj. R-squared:                  0.000\n",
      "Method:                 Least Squares   F-statistic:                     1.532\n",
      "Date:                Tue, 27 Sep 2022   Prob (F-statistic):              0.216\n",
      "Time:                        17:23:15   Log-Likelihood:                -3880.5\n",
      "No. Observations:                5700   AIC:                             7765.\n",
      "Df Residuals:                    5698   BIC:                             7778.\n",
      "Df Model:                           1                                         \n",
      "Covariance Type:            nonrobust                                         \n",
      "==============================================================================\n",
      "                 coef    std err          t      P>|t|      [0.025      0.975]\n",
      "------------------------------------------------------------------------------\n",
      "Intercept      0.6320      0.013     47.425      0.000       0.606       0.658\n",
      "task           0.0018      0.001      1.238      0.216      -0.001       0.005\n",
      "==============================================================================\n",
      "Omnibus:                    27876.451   Durbin-Watson:                   1.820\n",
      "Prob(Omnibus):                  0.000   Jarque-Bera (JB):              982.548\n",
      "Skew:                          -0.613   Prob(JB):                    4.39e-214\n",
      "Kurtosis:                       1.376   Cond. No.                         19.3\n",
      "==============================================================================\n",
      "\n",
      "Notes:\n",
      "[1] Standard Errors assume that the covariance matrix of the errors is correctly specified.\n"
     ]
    }
   ],
   "source": [
    "task_mod = smf.ols(formula=\"correct ~ task\", data=data).fit()\n",
    "print(task_mod.summary())"
   ]
  },
  {
   "cell_type": "markdown",
   "id": "fd0f2684-f1b9-4621-9a9e-2fa69b9548de",
   "metadata": {},
   "source": [
    "> • How does the number of observed features affect performance?"
   ]
  },
  {
   "cell_type": "code",
   "execution_count": 41,
   "id": "4192aae7-11ce-4b53-8721-e49ae9190d3c",
   "metadata": {},
   "outputs": [],
   "source": [
    "feat_correct = data.groupby('num_features').correct.mean()\n",
    "feat_correct"
   ]
  },
  {
   "cell_type": "code",
   "execution_count": 88,
   "id": "b617823b-d819-4d53-b03b-a09301203864",
   "metadata": {},
   "outputs": [
    {
     "name": "stdout",
     "output_type": "stream",
     "text": [
      "Slope = -0.12282373380110476 Int. = 3.0794044665012406 R = -0.07191332028025633 p = 5.4740027909724884e-08 SE = 0.02256762392754805\n"
     ]
    }
   ],
   "source": [
    "feat_slope, feat_int, feat_r, feat_p, feat_SE = stats.linregress(data['correct'], data['num_features'])\n",
    "print(\"Slope =\", feat_slope, \"Int. =\", feat_int, \"R =\", feat_r, \"p =\", feat_p, \"SE =\", feat_SE)"
   ]
  },
  {
   "cell_type": "code",
   "execution_count": 127,
   "id": "593de3dc-a16a-4c23-b096-b5cd6f5a9639",
   "metadata": {},
   "outputs": [
    {
     "name": "stdout",
     "output_type": "stream",
     "text": [
      "                            OLS Regression Results                            \n",
      "==============================================================================\n",
      "Dep. Variable:                correct   R-squared:                       0.005\n",
      "Model:                            OLS   Adj. R-squared:                  0.005\n",
      "Method:                 Least Squares   F-statistic:                     29.62\n",
      "Date:                Tue, 27 Sep 2022   Prob (F-statistic):           5.47e-08\n",
      "Time:                        17:32:21   Log-Likelihood:                -3866.5\n",
      "No. Observations:                5700   AIC:                             7737.\n",
      "Df Residuals:                    5698   BIC:                             7750.\n",
      "Df Model:                           1                                         \n",
      "Covariance Type:            nonrobust                                         \n",
      "================================================================================\n",
      "                   coef    std err          t      P>|t|      [0.025      0.975]\n",
      "--------------------------------------------------------------------------------\n",
      "Intercept        0.7728      0.024     32.129      0.000       0.726       0.820\n",
      "num_features    -0.0421      0.008     -5.442      0.000      -0.057      -0.027\n",
      "==============================================================================\n",
      "Omnibus:                    28531.322   Durbin-Watson:                   1.827\n",
      "Prob(Omnibus):                  0.000   Jarque-Bera (JB):              964.973\n",
      "Skew:                          -0.608   Prob(JB):                    2.88e-210\n",
      "Kurtosis:                       1.392   Cond. No.                         13.0\n",
      "==============================================================================\n",
      "\n",
      "Notes:\n",
      "[1] Standard Errors assume that the covariance matrix of the errors is correctly specified.\n"
     ]
    }
   ],
   "source": [
    "feat_mod = smf.ols(formula=\"correct ~ num_features\", data=data).fit()\n",
    "print(feat_mod.summary())"
   ]
  },
  {
   "cell_type": "markdown",
   "id": "1db05f56-949b-4935-b74c-a082c0e02119",
   "metadata": {},
   "source": [
    "> • How does time pressure affect performance?"
   ]
  },
  {
   "cell_type": "code",
   "execution_count": 83,
   "id": "5b0687a9-6930-4fb4-97b7-964edb6530fd",
   "metadata": {},
   "outputs": [
    {
     "data": {
      "text/plain": [
       "slow\n",
       "0    0.623860\n",
       "1    0.669123\n",
       "Name: correct, dtype: float64"
      ]
     },
     "execution_count": 83,
     "metadata": {},
     "output_type": "execute_result"
    }
   ],
   "source": [
    "slow_correct = data.groupby('slow').correct.mean()\n",
    "slow_correct"
   ]
  },
  {
   "cell_type": "code",
   "execution_count": 61,
   "id": "680b661d-2688-4f39-91a8-df613b0d2808",
   "metadata": {},
   "outputs": [
    {
     "name": "stdout",
     "output_type": "stream",
     "text": [
      "t = -3.577518288378416 p = 0.0003497530303665774\n"
     ]
    }
   ],
   "source": [
    "t_slow, p_slow = stats.ttest_ind(data[data['slow'] == 0].correct, data[data['slow'] == 1].correct)\n",
    "print(\"t =\", t_slow, \"p =\", p_slow)"
   ]
  },
  {
   "cell_type": "markdown",
   "id": "0703f888-bbc7-4a16-87e8-20e74938fde1",
   "metadata": {},
   "source": [
    "> • How does time pressure affect performance?"
   ]
  },
  {
   "cell_type": "markdown",
   "id": "c6de5760-f0b4-4ede-a094-df445c401169",
   "metadata": {},
   "source": [
    "RT Correlation"
   ]
  },
  {
   "cell_type": "code",
   "execution_count": 80,
   "id": "0a8eabbc-0758-4ff8-bfcb-bb41d7926d0a",
   "metadata": {},
   "outputs": [
    {
     "name": "stdout",
     "output_type": "stream",
     "text": [
      "r = -0.6944759559268175 p = 0.000969078886315903\n"
     ]
    }
   ],
   "source": [
    "mean_par_rt = data.groupby('participant_id').decision_time.mean()\n",
    "r_rt, p_rt = stats.pearsonr(par_correct, mean_par_rt)\n",
    "print(\"r =\", r_rt, \"p =\", p_rt)"
   ]
  },
  {
   "cell_type": "code",
   "execution_count": 82,
   "id": "7b402fe0-ecc2-43c2-8fa9-8af885327e00",
   "metadata": {},
   "outputs": [
    {
     "name": "stdout",
     "output_type": "stream",
     "text": [
      "Slope = -5.664245114099242e-05 Int. = 0.7628664729255079 R = -0.13389103815716782 p = 3.2439452721936086e-24 SE = 5.553940654480303e-06\n"
     ]
    }
   ],
   "source": [
    "rt_slope, rt_int, rt_r, rt_p, rt_SE = stats.linregress(data['decision_time'], data['correct'])\n",
    "print(\"Slope =\", rt_slope, \"Int. =\", rt_int, \"R =\", rt_r, \"p =\", rt_p, \"SE =\", rt_SE)"
   ]
  },
  {
   "cell_type": "markdown",
   "id": "9ddcf941-fe71-479b-8b28-cd58a4cc6464",
   "metadata": {},
   "source": [
    "Bigression"
   ]
  },
  {
   "cell_type": "code",
   "execution_count": 130,
   "id": "b00e0752-833c-42a4-9d18-2ce6730d2156",
   "metadata": {},
   "outputs": [
    {
     "name": "stdout",
     "output_type": "stream",
     "text": [
      "                            OLS Regression Results                            \n",
      "==============================================================================\n",
      "Dep. Variable:                correct   R-squared:                       0.035\n",
      "Model:                            OLS   Adj. R-squared:                  0.035\n",
      "Method:                 Least Squares   F-statistic:                     69.45\n",
      "Date:                Tue, 27 Sep 2022   Prob (F-statistic):           4.16e-44\n",
      "Time:                        17:34:03   Log-Likelihood:                -3778.8\n",
      "No. Observations:                5700   AIC:                             7566.\n",
      "Df Residuals:                    5696   BIC:                             7592.\n",
      "Df Model:                           3                                         \n",
      "Covariance Type:            nonrobust                                         \n",
      "=================================================================================\n",
      "                    coef    std err          t      P>|t|      [0.025      0.975]\n",
      "---------------------------------------------------------------------------------\n",
      "Intercept         0.8663      0.026     33.175      0.000       0.815       0.918\n",
      "C(slow)[T.1]      0.1179      0.014      8.625      0.000       0.091       0.145\n",
      "num_features     -0.0398      0.008     -5.218      0.000      -0.055      -0.025\n",
      "decision_time -7.762e-05   6.05e-06    -12.829      0.000   -8.95e-05   -6.58e-05\n",
      "==============================================================================\n",
      "Omnibus:                    34146.512   Durbin-Watson:                   1.844\n",
      "Prob(Omnibus):                  0.000   Jarque-Bera (JB):              862.276\n",
      "Skew:                          -0.578   Prob(JB):                    5.74e-188\n",
      "Kurtosis:                       1.485   Cond. No.                     1.02e+04\n",
      "==============================================================================\n",
      "\n",
      "Notes:\n",
      "[1] Standard Errors assume that the covariance matrix of the errors is correctly specified.\n",
      "[2] The condition number is large, 1.02e+04. This might indicate that there are\n",
      "strong multicollinearity or other numerical problems.\n"
     ]
    }
   ],
   "source": [
    "big_mod = smf.ols(formula=\"correct ~ num_features + C(slow) + decision_time\", data=data).fit()\n",
    "print(big_mod.summary())"
   ]
  },
  {
   "cell_type": "markdown",
   "id": "d40f408a-09e3-43b9-b6f9-f316ca4dd9d9",
   "metadata": {
    "jp-MarkdownHeadingCollapsed": true,
    "tags": []
   },
   "source": [
    "## Parameter Fitting"
   ]
  },
  {
   "cell_type": "markdown",
   "id": "41351c19-583c-4a72-a68f-76585d0e67d1",
   "metadata": {},
   "source": [
    "`Look at the resulting parameters and try to answer the following questions`"
   ]
  },
  {
   "cell_type": "markdown",
   "id": "590ff42e-0afe-4693-8a88-621f17e89f61",
   "metadata": {},
   "source": [
    "### Recorla-Wagner"
   ]
  },
  {
   "cell_type": "code",
   "execution_count": null,
   "id": "845fdf3a-c29e-4c15-887c-d1bdd7993e39",
   "metadata": {},
   "outputs": [],
   "source": []
  },
  {
   "cell_type": "markdown",
   "id": "af22b0b0-9e8b-4d1d-8ae3-3ad3002fa60d",
   "metadata": {},
   "source": [
    "> • Does time pressure lead to slower learning?"
   ]
  },
  {
   "cell_type": "code",
   "execution_count": null,
   "id": "ece2804a-c313-4884-844e-2c99032618fd",
   "metadata": {},
   "outputs": [],
   "source": []
  },
  {
   "cell_type": "markdown",
   "id": "0a30f3c7-9a0d-4156-9f8e-8fd02e733e4d",
   "metadata": {},
   "source": [
    "> • Does time pressure lead to more noisy decisions?"
   ]
  },
  {
   "cell_type": "code",
   "execution_count": null,
   "id": "51829485-f04b-4867-8520-e00751007555",
   "metadata": {},
   "outputs": [],
   "source": []
  },
  {
   "cell_type": "markdown",
   "id": "f4d1ffc4-6668-4010-885e-90c6b0207642",
   "metadata": {},
   "source": [
    "### Kalman Filter"
   ]
  },
  {
   "cell_type": "code",
   "execution_count": null,
   "id": "93e794dd-1fbd-4bb5-9469-092bbf02e088",
   "metadata": {},
   "outputs": [],
   "source": []
  },
  {
   "cell_type": "markdown",
   "id": "b909d301-4217-451b-b62a-5f86221704ec",
   "metadata": {},
   "source": [
    "> • Does time pressure lead to slower learning?"
   ]
  },
  {
   "cell_type": "code",
   "execution_count": null,
   "id": "f7fdb62b-02e5-4c0b-9501-0886b672ac8b",
   "metadata": {},
   "outputs": [],
   "source": []
  },
  {
   "cell_type": "markdown",
   "id": "6bd7f8f8-5b0a-481c-a25e-1605164b4b24",
   "metadata": {},
   "source": [
    "> • Does time pressure lead to more noisy decisions?"
   ]
  },
  {
   "cell_type": "code",
   "execution_count": null,
   "id": "823a4655-5f79-4b35-aa2f-0440efbad5b7",
   "metadata": {},
   "outputs": [],
   "source": []
  },
  {
   "cell_type": "markdown",
   "id": "f57d4951-19fc-4cb6-8d42-2ccdd9aa5d80",
   "metadata": {
    "tags": []
   },
   "source": [
    "### Error Model"
   ]
  },
  {
   "cell_type": "code",
   "execution_count": null,
   "id": "4f504f17-53fe-4d85-b27d-13e386d065f9",
   "metadata": {},
   "outputs": [],
   "source": []
  },
  {
   "cell_type": "markdown",
   "id": "6a1d7074-cd54-4640-9704-4d9cbbd64846",
   "metadata": {},
   "source": [
    "> • Does time pressure lead to slower learning?"
   ]
  },
  {
   "cell_type": "code",
   "execution_count": null,
   "id": "5287793c-dd5e-4a19-b752-74955f40357a",
   "metadata": {},
   "outputs": [],
   "source": []
  },
  {
   "cell_type": "markdown",
   "id": "65cfc535-7310-4552-9534-257eb2eae111",
   "metadata": {},
   "source": [
    "> • Does time pressure lead to more noisy decisions?"
   ]
  },
  {
   "cell_type": "code",
   "execution_count": null,
   "id": "98231200-a49d-446e-8338-9f6c27e269e6",
   "metadata": {},
   "outputs": [],
   "source": []
  },
  {
   "cell_type": "markdown",
   "id": "65f3cbcb-e336-49f5-9afb-81f2f0522366",
   "metadata": {},
   "source": [
    "### <.....> Model"
   ]
  },
  {
   "cell_type": "code",
   "execution_count": null,
   "id": "d3d11131-3455-4555-8dd8-4eec7ce35cd9",
   "metadata": {},
   "outputs": [],
   "source": []
  },
  {
   "cell_type": "markdown",
   "id": "518cb8a0-f9ca-4ef6-a061-deb7f90b5d21",
   "metadata": {},
   "source": [
    "> • Does time pressure lead to slower learning?"
   ]
  },
  {
   "cell_type": "code",
   "execution_count": null,
   "id": "13506cb3-ad62-41fe-8545-67b62cc78595",
   "metadata": {},
   "outputs": [],
   "source": []
  },
  {
   "cell_type": "markdown",
   "id": "a59b8999-1d3b-40ff-9f00-ff07d12893af",
   "metadata": {},
   "source": [
    "> • Does time pressure lead to more noisy decisions?"
   ]
  },
  {
   "cell_type": "code",
   "execution_count": null,
   "id": "2a0a1cac-36b8-4d4e-89e9-6e399ccb33d4",
   "metadata": {},
   "outputs": [],
   "source": []
  },
  {
   "cell_type": "markdown",
   "id": "b335d834-01c6-4955-aa56-46128ff48812",
   "metadata": {
    "jp-MarkdownHeadingCollapsed": true,
    "tags": []
   },
   "source": [
    "## Model Comparison"
   ]
  },
  {
   "cell_type": "markdown",
   "id": "745c2e51-72b4-491c-bdf8-fe473c6f21dc",
   "metadata": {},
   "source": [
    "> •  Which model explains the human data best?"
   ]
  },
  {
   "cell_type": "code",
   "execution_count": null,
   "id": "a564b199-3e3d-428b-8f96-1dbaba93fb38",
   "metadata": {},
   "outputs": [],
   "source": []
  },
  {
   "cell_type": "markdown",
   "id": "d683b1f8-0e5c-4485-9f27-3357a7720928",
   "metadata": {},
   "source": [
    "> • Does time pressure lead to simpler learning strategies?"
   ]
  },
  {
   "cell_type": "code",
   "execution_count": null,
   "id": "498529ff-97bb-49fb-a304-e82a82df6376",
   "metadata": {},
   "outputs": [],
   "source": []
  },
  {
   "cell_type": "markdown",
   "id": "0c3016a4-c6fb-4056-9f71-5aae0822d898",
   "metadata": {},
   "source": [
    "# Methods"
   ]
  },
  {
   "cell_type": "markdown",
   "id": "23d6a1f8-7161-4eb4-bdbc-2bb2da270c21",
   "metadata": {},
   "source": []
  },
  {
   "cell_type": "markdown",
   "id": "d7e18076-25bc-4c74-9436-ab01afe9a055",
   "metadata": {},
   "source": [
    "# Results"
   ]
  },
  {
   "cell_type": "markdown",
   "id": "ee40a98a-3929-47d2-aeca-40681ca50627",
   "metadata": {},
   "source": []
  },
  {
   "cell_type": "markdown",
   "id": "76c96ea5-b80d-446a-9129-e058c37aab97",
   "metadata": {},
   "source": [
    "# Discussion"
   ]
  },
  {
   "cell_type": "markdown",
   "id": "10da9ff8-bc90-465f-83a4-71c81dd61c00",
   "metadata": {},
   "source": []
  },
  {
   "cell_type": "markdown",
   "id": "06545e73-4895-4d04-974e-0c30037038dd",
   "metadata": {},
   "source": [
    "# References"
   ]
  },
  {
   "cell_type": "markdown",
   "id": "7a477eb1-51d2-49a4-92af-d1a90392a895",
   "metadata": {},
   "source": []
  }
 ],
 "metadata": {
  "kernelspec": {
   "display_name": "Python 3",
   "language": "python",
   "name": "python3"
  },
  "language_info": {
   "codemirror_mode": {
    "name": "ipython",
    "version": 3
   },
   "file_extension": ".py",
   "mimetype": "text/x-python",
   "name": "python",
   "nbconvert_exporter": "python",
   "pygments_lexer": "ipython3",
   "version": "3.8.8"
  }
 },
 "nbformat": 4,
 "nbformat_minor": 5
}
