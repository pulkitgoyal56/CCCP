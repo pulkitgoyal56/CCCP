{
 "cells": [
  {
   "cell_type": "markdown",
   "id": "d2c0eb6b-3cfc-4d1f-a1af-7254aeebec63",
   "metadata": {},
   "source": [
    "<div class=\"alert alert-success\">\n",
    "    -----\n",
    "</div>"
   ]
  },
  {
   "cell_type": "markdown",
   "id": "81960b53-06e8-4051-84d0-4e779c9642c2",
   "metadata": {},
   "source": [
    "# Abstract"
   ]
  },
  {
   "cell_type": "markdown",
   "id": "982f8a25-bae4-49b3-8f03-20a0d1e86649",
   "metadata": {},
   "source": []
  },
  {
   "cell_type": "markdown",
   "id": "1e5c0486-35a2-4e62-a14b-8b9e149f29cc",
   "metadata": {
    "tags": []
   },
   "source": [
    "# Introduction"
   ]
  },
  {
   "cell_type": "markdown",
   "id": "7d482d1a-c370-4d3f-865b-ace5ae5d0698",
   "metadata": {},
   "source": []
  },
  {
   "cell_type": "markdown",
   "id": "65b33856-859b-4dca-a213-cd8f46a0d428",
   "metadata": {
    "tags": []
   },
   "source": [
    "# `Analysis`"
   ]
  },
  {
   "cell_type": "markdown",
   "id": "c8a3af29-9246-4880-9b2a-4b052207e4c4",
   "metadata": {
    "tags": []
   },
   "source": [
    "## Imports"
   ]
  },
  {
   "cell_type": "code",
   "execution_count": 1,
   "id": "0d865538-12b6-4f79-9c52-f3adf2cf3eaf",
   "metadata": {},
   "outputs": [],
   "source": [
    "import numpy as np"
   ]
  },
  {
   "cell_type": "code",
   "execution_count": 2,
   "id": "8fb341c8-c31e-4a8b-8f82-28ecbb117fc7",
   "metadata": {},
   "outputs": [],
   "source": [
    "import pandas as pd"
   ]
  },
  {
   "cell_type": "code",
   "execution_count": 3,
   "id": "7b315672-51a3-4767-ba1c-de0656ecf059",
   "metadata": {},
   "outputs": [],
   "source": [
    "from scipy import stats as stats"
   ]
  },
  {
   "cell_type": "code",
   "execution_count": 4,
   "id": "d7efee5d-0c04-4157-9847-b48acc57d08e",
   "metadata": {},
   "outputs": [],
   "source": [
    "import matplotlib.pyplot as plt"
   ]
  },
  {
   "cell_type": "code",
   "execution_count": 5,
   "id": "b6e053a0-f81b-433b-8128-8982e6215a92",
   "metadata": {},
   "outputs": [],
   "source": [
    "import seaborn as sns"
   ]
  },
  {
   "cell_type": "code",
   "execution_count": 6,
   "id": "19fa436b-c1b8-43fd-a95d-92a3f294a752",
   "metadata": {},
   "outputs": [],
   "source": [
    "import statsmodels.api as sm"
   ]
  },
  {
   "cell_type": "code",
   "execution_count": 7,
   "id": "7a13d369-964a-4d29-81f8-e770d7d44df0",
   "metadata": {},
   "outputs": [],
   "source": [
    "import statsmodels.formula.api as smf"
   ]
  },
  {
   "cell_type": "code",
   "execution_count": 8,
   "id": "f9a96dbc-dae2-4659-aa48-51675a5e57f4",
   "metadata": {},
   "outputs": [],
   "source": [
    "data = pd.read_csv('ccs2022.csv')"
   ]
  },
  {
   "cell_type": "markdown",
   "id": "121ff701-4a93-4f16-867a-17c1456465d7",
   "metadata": {
    "tags": []
   },
   "source": [
    "## Helper functions"
   ]
  },
  {
   "cell_type": "code",
   "execution_count": 9,
   "id": "61e6801c-a5e9-4f2d-a382-54a9e7e52982",
   "metadata": {},
   "outputs": [],
   "source": [
    "def outlierFunc(x):\n",
    "    q1 = np.quantile(x, 0.25)\n",
    "    q3 = np.quantile(x, 0.75)\n",
    "    \n",
    "    iqr = q3-q1\n",
    "    \n",
    "    iqr_bounds = [q1 - (1.5 * iqr), q3 + (1.5 * iqr)]\n",
    "    \n",
    "    outliers = x[(x <= iqr_bounds[0]) | (x >= iqr_bounds[1])]\n",
    "    \n",
    "    return outliers"
   ]
  },
  {
   "cell_type": "markdown",
   "id": "6e6f1443-1594-4cd2-a85d-3122c69cf9c4",
   "metadata": {
    "tags": []
   },
   "source": [
    "## Behavioral Analysis"
   ]
  },
  {
   "cell_type": "markdown",
   "id": "739aaf79-a3ec-4c49-accd-1ecdcf4cf1f2",
   "metadata": {},
   "source": [
    "#### First looks at data"
   ]
  },
  {
   "cell_type": "code",
   "execution_count": 10,
   "id": "2c084348-a4af-4ca7-9fdd-93cdce5e61b1",
   "metadata": {},
   "outputs": [
    {
     "data": {
      "text/html": [
       "<div>\n",
       "<style scoped>\n",
       "    .dataframe tbody tr th:only-of-type {\n",
       "        vertical-align: middle;\n",
       "    }\n",
       "\n",
       "    .dataframe tbody tr th {\n",
       "        vertical-align: top;\n",
       "    }\n",
       "\n",
       "    .dataframe thead th {\n",
       "        text-align: right;\n",
       "    }\n",
       "</style>\n",
       "<table border=\"1\" class=\"dataframe\">\n",
       "  <thead>\n",
       "    <tr style=\"text-align: right;\">\n",
       "      <th></th>\n",
       "      <th>Unnamed: 0</th>\n",
       "      <th>num_features</th>\n",
       "      <th>task</th>\n",
       "      <th>trial</th>\n",
       "      <th>w0</th>\n",
       "      <th>w1</th>\n",
       "      <th>w2</th>\n",
       "      <th>w3</th>\n",
       "      <th>xf0</th>\n",
       "      <th>xf1</th>\n",
       "      <th>...</th>\n",
       "      <th>xj0</th>\n",
       "      <th>xj1</th>\n",
       "      <th>xj2</th>\n",
       "      <th>xj3</th>\n",
       "      <th>yf</th>\n",
       "      <th>yj</th>\n",
       "      <th>slow</th>\n",
       "      <th>J_pressed</th>\n",
       "      <th>decision_time</th>\n",
       "      <th>participant_id</th>\n",
       "    </tr>\n",
       "  </thead>\n",
       "  <tbody>\n",
       "    <tr>\n",
       "      <th>2045</th>\n",
       "      <td>95</td>\n",
       "      <td>4</td>\n",
       "      <td>10</td>\n",
       "      <td>6</td>\n",
       "      <td>-0.364971</td>\n",
       "      <td>2.076510</td>\n",
       "      <td>-0.866252</td>\n",
       "      <td>0.029280</td>\n",
       "      <td>1.561284</td>\n",
       "      <td>-0.632310</td>\n",
       "      <td>...</td>\n",
       "      <td>0.435815</td>\n",
       "      <td>-0.672818</td>\n",
       "      <td>1.417237</td>\n",
       "      <td>0.223344</td>\n",
       "      <td>-3.040208</td>\n",
       "      <td>-2.777319</td>\n",
       "      <td>0</td>\n",
       "      <td>0</td>\n",
       "      <td>2209</td>\n",
       "      <td>6</td>\n",
       "    </tr>\n",
       "    <tr>\n",
       "      <th>3055</th>\n",
       "      <td>55</td>\n",
       "      <td>4</td>\n",
       "      <td>6</td>\n",
       "      <td>6</td>\n",
       "      <td>1.084871</td>\n",
       "      <td>0.155168</td>\n",
       "      <td>0.662582</td>\n",
       "      <td>-0.070925</td>\n",
       "      <td>-0.222060</td>\n",
       "      <td>-2.008312</td>\n",
       "      <td>...</td>\n",
       "      <td>3.699052</td>\n",
       "      <td>0.042297</td>\n",
       "      <td>0.101859</td>\n",
       "      <td>-0.146464</td>\n",
       "      <td>-0.199397</td>\n",
       "      <td>4.097436</td>\n",
       "      <td>1</td>\n",
       "      <td>0</td>\n",
       "      <td>3396</td>\n",
       "      <td>10</td>\n",
       "    </tr>\n",
       "    <tr>\n",
       "      <th>2016</th>\n",
       "      <td>66</td>\n",
       "      <td>3</td>\n",
       "      <td>7</td>\n",
       "      <td>7</td>\n",
       "      <td>0.190100</td>\n",
       "      <td>-0.482306</td>\n",
       "      <td>-0.175807</td>\n",
       "      <td>0.000000</td>\n",
       "      <td>-0.073376</td>\n",
       "      <td>0.152933</td>\n",
       "      <td>...</td>\n",
       "      <td>0.840285</td>\n",
       "      <td>-0.926768</td>\n",
       "      <td>0.142659</td>\n",
       "      <td>0.000000</td>\n",
       "      <td>-0.028298</td>\n",
       "      <td>0.581643</td>\n",
       "      <td>0</td>\n",
       "      <td>1</td>\n",
       "      <td>1557</td>\n",
       "      <td>6</td>\n",
       "    </tr>\n",
       "    <tr>\n",
       "      <th>292</th>\n",
       "      <td>142</td>\n",
       "      <td>2</td>\n",
       "      <td>15</td>\n",
       "      <td>3</td>\n",
       "      <td>-1.117463</td>\n",
       "      <td>-1.311147</td>\n",
       "      <td>0.000000</td>\n",
       "      <td>0.000000</td>\n",
       "      <td>0.234839</td>\n",
       "      <td>0.234668</td>\n",
       "      <td>...</td>\n",
       "      <td>0.516557</td>\n",
       "      <td>-1.282192</td>\n",
       "      <td>0.000000</td>\n",
       "      <td>0.000000</td>\n",
       "      <td>-0.570107</td>\n",
       "      <td>1.103908</td>\n",
       "      <td>0</td>\n",
       "      <td>1</td>\n",
       "      <td>1041</td>\n",
       "      <td>0</td>\n",
       "    </tr>\n",
       "    <tr>\n",
       "      <th>5266</th>\n",
       "      <td>16</td>\n",
       "      <td>2</td>\n",
       "      <td>2</td>\n",
       "      <td>7</td>\n",
       "      <td>1.016316</td>\n",
       "      <td>0.566453</td>\n",
       "      <td>0.000000</td>\n",
       "      <td>0.000000</td>\n",
       "      <td>0.746932</td>\n",
       "      <td>-0.990561</td>\n",
       "      <td>...</td>\n",
       "      <td>-2.199403</td>\n",
       "      <td>1.850506</td>\n",
       "      <td>0.000000</td>\n",
       "      <td>0.000000</td>\n",
       "      <td>0.198013</td>\n",
       "      <td>-1.187063</td>\n",
       "      <td>1</td>\n",
       "      <td>0</td>\n",
       "      <td>1453</td>\n",
       "      <td>17</td>\n",
       "    </tr>\n",
       "  </tbody>\n",
       "</table>\n",
       "<p>5 rows × 22 columns</p>\n",
       "</div>"
      ],
      "text/plain": [
       "      Unnamed: 0  num_features  task  trial        w0        w1        w2  \\\n",
       "2045          95             4    10      6 -0.364971  2.076510 -0.866252   \n",
       "3055          55             4     6      6  1.084871  0.155168  0.662582   \n",
       "2016          66             3     7      7  0.190100 -0.482306 -0.175807   \n",
       "292          142             2    15      3 -1.117463 -1.311147  0.000000   \n",
       "5266          16             2     2      7  1.016316  0.566453  0.000000   \n",
       "\n",
       "            w3       xf0       xf1  ...       xj0       xj1       xj2  \\\n",
       "2045  0.029280  1.561284 -0.632310  ...  0.435815 -0.672818  1.417237   \n",
       "3055 -0.070925 -0.222060 -2.008312  ...  3.699052  0.042297  0.101859   \n",
       "2016  0.000000 -0.073376  0.152933  ...  0.840285 -0.926768  0.142659   \n",
       "292   0.000000  0.234839  0.234668  ...  0.516557 -1.282192  0.000000   \n",
       "5266  0.000000  0.746932 -0.990561  ... -2.199403  1.850506  0.000000   \n",
       "\n",
       "           xj3        yf        yj  slow  J_pressed  decision_time  \\\n",
       "2045  0.223344 -3.040208 -2.777319     0          0           2209   \n",
       "3055 -0.146464 -0.199397  4.097436     1          0           3396   \n",
       "2016  0.000000 -0.028298  0.581643     0          1           1557   \n",
       "292   0.000000 -0.570107  1.103908     0          1           1041   \n",
       "5266  0.000000  0.198013 -1.187063     1          0           1453   \n",
       "\n",
       "      participant_id  \n",
       "2045               6  \n",
       "3055              10  \n",
       "2016               6  \n",
       "292                0  \n",
       "5266              17  \n",
       "\n",
       "[5 rows x 22 columns]"
      ]
     },
     "execution_count": 10,
     "metadata": {},
     "output_type": "execute_result"
    }
   ],
   "source": [
    "data.sample(5)"
   ]
  },
  {
   "cell_type": "code",
   "execution_count": 11,
   "id": "f9b7bd9d-bbfb-45c3-9807-6733559a1115",
   "metadata": {},
   "outputs": [
    {
     "data": {
      "text/plain": [
       "['Unnamed: 0',\n",
       " 'num_features',\n",
       " 'task',\n",
       " 'trial',\n",
       " 'w0',\n",
       " 'w1',\n",
       " 'w2',\n",
       " 'w3',\n",
       " 'xf0',\n",
       " 'xf1',\n",
       " 'xf2',\n",
       " 'xf3',\n",
       " 'xj0',\n",
       " 'xj1',\n",
       " 'xj2',\n",
       " 'xj3',\n",
       " 'yf',\n",
       " 'yj',\n",
       " 'slow',\n",
       " 'J_pressed',\n",
       " 'decision_time',\n",
       " 'participant_id']"
      ]
     },
     "execution_count": 11,
     "metadata": {},
     "output_type": "execute_result"
    }
   ],
   "source": [
    "list(data.columns)"
   ]
  },
  {
   "cell_type": "markdown",
   "id": "93a556c4-85b5-4ef4-96aa-3d96041313da",
   "metadata": {},
   "source": [
    "#### Data preprocessing"
   ]
  },
  {
   "cell_type": "markdown",
   "id": "99f816d6-2de5-4cc5-8476-6f24ea9a9f15",
   "metadata": {},
   "source": [
    "Checking for empty values"
   ]
  },
  {
   "cell_type": "code",
   "execution_count": 12,
   "id": "a9314368-645c-4f00-9d90-c06a339b1fc2",
   "metadata": {},
   "outputs": [
    {
     "data": {
      "text/plain": [
       "Unnamed: 0        False\n",
       "num_features      False\n",
       "task              False\n",
       "trial             False\n",
       "w0                False\n",
       "w1                False\n",
       "w2                False\n",
       "w3                False\n",
       "xf0               False\n",
       "xf1               False\n",
       "xf2               False\n",
       "xf3               False\n",
       "xj0               False\n",
       "xj1               False\n",
       "xj2               False\n",
       "xj3               False\n",
       "yf                False\n",
       "yj                False\n",
       "slow              False\n",
       "J_pressed         False\n",
       "decision_time     False\n",
       "participant_id    False\n",
       "dtype: bool"
      ]
     },
     "execution_count": 12,
     "metadata": {},
     "output_type": "execute_result"
    }
   ],
   "source": [
    "data.isna().any()"
   ]
  },
  {
   "cell_type": "markdown",
   "id": "a27bd82f-d6fa-400e-8b02-a0c80c3e75c8",
   "metadata": {},
   "source": [
    "Adding columns for a global trial counter and participant accuracy "
   ]
  },
  {
   "cell_type": "code",
   "execution_count": 13,
   "id": "739a6283-777d-4c14-8bfc-b88a8e9cac5f",
   "metadata": {},
   "outputs": [],
   "source": [
    "data.rename(columns={'Unnamed: 0':'global_trial'}, inplace=True)\n",
    "data['correct'] = (data['J_pressed'] == (data['yj'] > data['yf'])).map(int)"
   ]
  },
  {
   "cell_type": "markdown",
   "id": "340d497e-0abf-402b-9155-2290aca3768e",
   "metadata": {},
   "source": [
    "#### Outliers"
   ]
  },
  {
   "cell_type": "markdown",
   "id": "fc9fae95-5dad-42c6-bd6f-7abb3f36d84a",
   "metadata": {},
   "source": [
    "The most important columns for analysis are participant accuracy and reaction time as these reflect performance in the experiment."
   ]
  },
  {
   "cell_type": "code",
   "execution_count": 14,
   "id": "8ccdef32-be4d-4230-a2ef-98b70d06f6d8",
   "metadata": {},
   "outputs": [],
   "source": [
    "per_correct = data['correct'].mean()\n",
    "par_correct = data.groupby('participant_id').correct.mean()"
   ]
  },
  {
   "cell_type": "code",
   "execution_count": 15,
   "id": "1c933eb0-3d7f-48a3-a5f9-95461f2e1cbf",
   "metadata": {},
   "outputs": [
    {
     "name": "stdout",
     "output_type": "stream",
     "text": [
      "Average accuracy: 0.6464912280701754 \n",
      "\n",
      "                 correct\n",
      "participant_id          \n",
      "0               0.693333\n",
      "1               0.623333\n",
      "2               0.530000\n",
      "3               0.676667\n",
      "4               0.610000\n",
      "5               0.603333\n",
      "6               0.653333\n",
      "7               0.650000\n",
      "8               0.583333\n",
      "9               0.580000\n",
      "10              0.596667\n",
      "11              0.570000\n",
      "12              0.603333\n",
      "13              0.600000\n",
      "14              0.706667\n",
      "15              0.763333\n",
      "16              0.676667\n",
      "17              0.673333\n",
      "18              0.890000 \n",
      "\n"
     ]
    },
    {
     "data": {
      "image/png": "[encoded data removed]",
      "text/plain": [
       "<Figure size 640x480 with 1 Axes>"
      ]
     },
     "metadata": {},
     "output_type": "display_data"
    }
   ],
   "source": [
    "print(\"Average accuracy:\", per_correct, \"\\n\")\n",
    "print(par_correct.to_frame(), \"\\n\")\n",
    "\n",
    "corrextBox = plt.boxplot(par_correct, notch=True)\n",
    "corrextBox;"
   ]
  },
  {
   "cell_type": "markdown",
   "id": "d9e8b7a6-5b31-4fd0-96a5-c84113c3577e",
   "metadata": {},
   "source": [
    "After taking a look at the accuracy data we found one outlier performing well above others. We identify this as participant number 18."
   ]
  },
  {
   "cell_type": "code",
   "execution_count": 16,
   "id": "cff58b3d-b4a9-41a0-b34e-a07f40434f8f",
   "metadata": {},
   "outputs": [
    {
     "data": {
      "text/plain": [
       "participant_id\n",
       "18    0.89\n",
       "Name: correct, dtype: float64"
      ]
     },
     "execution_count": 16,
     "metadata": {},
     "output_type": "execute_result"
    }
   ],
   "source": [
    "outlierFunc(par_correct)"
   ]
  },
  {
   "cell_type": "code",
   "execution_count": 17,
   "id": "dee9dab8-7b2d-469b-b663-1cd67965a810",
   "metadata": {},
   "outputs": [],
   "source": [
    "par_RT = data.groupby('participant_id').decision_time.mean()"
   ]
  },
  {
   "cell_type": "code",
   "execution_count": 18,
   "id": "1d5852a2-7789-44e9-9902-750daed84bdf",
   "metadata": {},
   "outputs": [
    {
     "name": "stdout",
     "output_type": "stream",
     "text": [
      "                decision_time\n",
      "participant_id               \n",
      "0                 1368.210000\n",
      "1                 1875.830000\n",
      "2                 1958.940000\n",
      "3                 1801.540000\n",
      "4                 2566.550000\n",
      "5                 2101.280000\n",
      "6                 2321.813333\n",
      "7                 2517.000000\n",
      "8                 2316.123333\n",
      "9                 1808.473333\n",
      "10                2284.053333\n",
      "11                3072.210000\n",
      "12                2444.743333\n",
      "13                1985.430000\n",
      "14                2341.020000\n",
      "15                1511.383333\n",
      "16                2189.913333\n",
      "17                1896.943333\n",
      "18                 675.160000 \n",
      "\n"
     ]
    },
    {
     "data": {
      "image/png": "[encoded data removed]",
      "text/plain": [
       "<Figure size 640x480 with 1 Axes>"
      ]
     },
     "metadata": {},
     "output_type": "display_data"
    }
   ],
   "source": [
    "print(par_RT.to_frame(), \"\\n\")\n",
    "RTBox = plt.boxplot(par_RT, notch=True)\n",
    "RTBox;"
   ]
  },
  {
   "cell_type": "markdown",
   "id": "dedf8ba9-de0a-4024-851c-cba351096191",
   "metadata": {},
   "source": [
    "After reviewing reaction time data we noticed two participants who had reaction times noticeably beyond others. We identified these as participants 18 and 11 with exceptionally low and high reaction times, respectively."
   ]
  },
  {
   "cell_type": "code",
   "execution_count": 19,
   "id": "30e0d2f4-2096-4534-9ca1-4afc85316073",
   "metadata": {},
   "outputs": [
    {
     "data": {
      "text/plain": [
       "participant_id\n",
       "11    3072.21\n",
       "18     675.16\n",
       "Name: decision_time, dtype: float64"
      ]
     },
     "execution_count": 19,
     "metadata": {},
     "output_type": "execute_result"
    }
   ],
   "source": [
    "outlierFunc(par_RT)"
   ]
  },
  {
   "cell_type": "markdown",
   "id": "01bbdbab-c583-4ba7-b18f-cfa0ef8a2e2d",
   "metadata": {},
   "source": [
    "#### Excluding outliers"
   ]
  },
  {
   "cell_type": "markdown",
   "id": "ccadeb3b-e08e-454b-a8e7-8996b83dfa4e",
   "metadata": {},
   "source": [
    "We exclude participant 18 due to having both higher accuracy and lower RT than all other participants. We decided to keep participant 11 in the data as despite their slow reaction times their performance was not exceptional."
   ]
  },
  {
   "cell_type": "code",
   "execution_count": 20,
   "id": "833f2e2c-5bd0-4b9d-81a7-10c131a8b94f",
   "metadata": {},
   "outputs": [],
   "source": [
    "data = data[data['participant_id'] != 18]\n",
    "per_correct = data['correct'].mean()\n",
    "par_correct = data.groupby('participant_id').correct.mean()\n",
    "par_RT = data.groupby('participant_id').decision_time.mean()"
   ]
  },
  {
   "cell_type": "markdown",
   "id": "bdf83004-c4dd-4737-b2f6-f86bed49d12e",
   "metadata": {},
   "source": [
    "#### Do participants perform better than chance?"
   ]
  },
  {
   "cell_type": "code",
   "execution_count": 21,
   "id": "73a5474d-3bb5-4c55-a0dc-5c8844907425",
   "metadata": {},
   "outputs": [
    {
     "name": "stdout",
     "output_type": "stream",
     "text": [
      "Average accuracy: 0.632962962962963 \n",
      "\n",
      "t = 9.755663611634345 p = 2.2222087595716773e-08\n"
     ]
    }
   ],
   "source": [
    "print(\"Average accuracy:\", per_correct, \"\\n\")\n",
    "t_par, p_par = stats.ttest_1samp(par_correct, 0.5)\n",
    "print(\"t =\", t_par, \"p =\", p_par)"
   ]
  },
  {
   "cell_type": "markdown",
   "id": "52b2816d-8e0b-4427-a3b4-cb2dfa6bd15d",
   "metadata": {},
   "source": [
    "#### Do they improve over trials within each round?"
   ]
  },
  {
   "cell_type": "code",
   "execution_count": 22,
   "id": "2704cbf2-b773-40e1-bdd7-29876924257c",
   "metadata": {},
   "outputs": [
    {
     "data": {
      "text/plain": [
       "trial\n",
       "1     0.487037\n",
       "2     0.659259\n",
       "3     0.614815\n",
       "4     0.600000\n",
       "5     0.640741\n",
       "6     0.659259\n",
       "7     0.651852\n",
       "8     0.651852\n",
       "9     0.661111\n",
       "10    0.703704\n",
       "Name: correct, dtype: float64"
      ]
     },
     "execution_count": 22,
     "metadata": {},
     "output_type": "execute_result"
    }
   ],
   "source": [
    "trial_correct = data.groupby('trial').correct.mean()\n",
    "trial_correct"
   ]
  },
  {
   "cell_type": "code",
   "execution_count": 23,
   "id": "553440cd-d108-4c93-906b-5f751dd3c944",
   "metadata": {},
   "outputs": [
    {
     "name": "stdout",
     "output_type": "stream",
     "text": [
      "                            OLS Regression Results                            \n",
      "==============================================================================\n",
      "Dep. Variable:                correct   R-squared:                       0.007\n",
      "Model:                            OLS   Adj. R-squared:                  0.007\n",
      "Method:                 Least Squares   F-statistic:                     38.24\n",
      "Date:                Sun, 02 Oct 2022   Prob (F-statistic):           6.72e-10\n",
      "Time:                        15:31:29   Log-Likelihood:                -3702.2\n",
      "No. Observations:                5400   AIC:                             7408.\n",
      "Df Residuals:                    5398   BIC:                             7422.\n",
      "Df Model:                           1                                         \n",
      "Covariance Type:            nonrobust                                         \n",
      "==============================================================================\n",
      "                 coef    std err          t      P>|t|      [0.025      0.975]\n",
      "------------------------------------------------------------------------------\n",
      "Intercept      0.5556      0.014     39.340      0.000       0.528       0.583\n",
      "trial          0.0141      0.002      6.184      0.000       0.010       0.019\n",
      "==============================================================================\n",
      "Omnibus:                    24761.560   Durbin-Watson:                   1.834\n",
      "Prob(Omnibus):                  0.000   Jarque-Bera (JB):              897.074\n",
      "Skew:                          -0.546   Prob(JB):                    1.60e-195\n",
      "Kurtosis:                       1.329   Cond. No.                         13.7\n",
      "==============================================================================\n",
      "\n",
      "Notes:\n",
      "[1] Standard Errors assume that the covariance matrix of the errors is correctly specified.\n"
     ]
    }
   ],
   "source": [
    "trial_mod = smf.ols(formula=\"correct ~ trial\", data=data).fit()\n",
    "print(trial_mod.summary())"
   ]
  },
  {
   "cell_type": "markdown",
   "id": "d623cd94-765e-434c-b03c-42f1f98da3bd",
   "metadata": {},
   "source": [
    "#### Do they improve over rounds?"
   ]
  },
  {
   "cell_type": "code",
   "execution_count": 24,
   "id": "d50aac0f-a4bf-4f02-b05b-bea55f668a07",
   "metadata": {},
   "outputs": [
    {
     "data": {
      "text/plain": [
       "task\n",
       "1     0.580556\n",
       "2     0.594444\n",
       "3     0.638889\n",
       "4     0.663889\n",
       "5     0.630556\n",
       "6     0.633333\n",
       "7     0.611111\n",
       "8     0.680556\n",
       "9     0.686111\n",
       "10    0.597222\n",
       "11    0.650000\n",
       "12    0.616667\n",
       "13    0.636111\n",
       "14    0.655556\n",
       "15    0.619444\n",
       "Name: correct, dtype: float64"
      ]
     },
     "execution_count": 24,
     "metadata": {},
     "output_type": "execute_result"
    }
   ],
   "source": [
    "task_correct = data.groupby('task').correct.mean()\n",
    "task_correct"
   ]
  },
  {
   "cell_type": "code",
   "execution_count": 25,
   "id": "99924b10-1f18-4843-816c-10532844ec92",
   "metadata": {},
   "outputs": [
    {
     "name": "stdout",
     "output_type": "stream",
     "text": [
      "                            OLS Regression Results                            \n",
      "==============================================================================\n",
      "Dep. Variable:                correct   R-squared:                       0.000\n",
      "Model:                            OLS   Adj. R-squared:                  0.000\n",
      "Method:                 Least Squares   F-statistic:                     1.368\n",
      "Date:                Sun, 02 Oct 2022   Prob (F-statistic):              0.242\n",
      "Time:                        15:31:29   Log-Likelihood:                -3720.6\n",
      "No. Observations:                5400   AIC:                             7445.\n",
      "Df Residuals:                    5398   BIC:                             7458.\n",
      "Df Model:                           1                                         \n",
      "Covariance Type:            nonrobust                                         \n",
      "==============================================================================\n",
      "                 coef    std err          t      P>|t|      [0.025      0.975]\n",
      "------------------------------------------------------------------------------\n",
      "Intercept      0.6188      0.014     44.824      0.000       0.592       0.646\n",
      "task           0.0018      0.002      1.170      0.242      -0.001       0.005\n",
      "==============================================================================\n",
      "Omnibus:                    24093.155   Durbin-Watson:                   1.840\n",
      "Prob(Omnibus):                  0.000   Jarque-Bera (JB):              919.986\n",
      "Skew:                          -0.552   Prob(JB):                    1.69e-200\n",
      "Kurtosis:                       1.305   Cond. No.                         19.3\n",
      "==============================================================================\n",
      "\n",
      "Notes:\n",
      "[1] Standard Errors assume that the covariance matrix of the errors is correctly specified.\n"
     ]
    }
   ],
   "source": [
    "task_mod = smf.ols(formula=\"correct ~ task\", data=data).fit()\n",
    "print(task_mod.summary())"
   ]
  },
  {
   "cell_type": "markdown",
   "id": "fd0f2684-f1b9-4621-9a9e-2fa69b9548de",
   "metadata": {},
   "source": [
    "#### How does the number of observed features affect performance?"
   ]
  },
  {
   "cell_type": "code",
   "execution_count": 26,
   "id": "4192aae7-11ce-4b53-8721-e49ae9190d3c",
   "metadata": {},
   "outputs": [
    {
     "data": {
      "text/plain": [
       "num_features\n",
       "2    0.684444\n",
       "3    0.616111\n",
       "4    0.598333\n",
       "Name: correct, dtype: float64"
      ]
     },
     "execution_count": 26,
     "metadata": {},
     "output_type": "execute_result"
    }
   ],
   "source": [
    "feat_correct = data.groupby('num_features').correct.mean()\n",
    "feat_correct"
   ]
  },
  {
   "cell_type": "code",
   "execution_count": 27,
   "id": "593de3dc-a16a-4c23-b096-b5cd6f5a9639",
   "metadata": {},
   "outputs": [
    {
     "name": "stdout",
     "output_type": "stream",
     "text": [
      "                            OLS Regression Results                            \n",
      "==============================================================================\n",
      "Dep. Variable:                correct   R-squared:                       0.005\n",
      "Model:                            OLS   Adj. R-squared:                  0.005\n",
      "Method:                 Least Squares   F-statistic:                     28.87\n",
      "Date:                Sun, 02 Oct 2022   Prob (F-statistic):           8.07e-08\n",
      "Time:                        15:31:29   Log-Likelihood:                -3706.8\n",
      "No. Observations:                5400   AIC:                             7418.\n",
      "Df Residuals:                    5398   BIC:                             7431.\n",
      "Df Model:                           1                                         \n",
      "Covariance Type:            nonrobust                                         \n",
      "================================================================================\n",
      "                   coef    std err          t      P>|t|      [0.025      0.975]\n",
      "--------------------------------------------------------------------------------\n",
      "Intercept        0.7621      0.025     30.590      0.000       0.713       0.811\n",
      "num_features    -0.0431      0.008     -5.373      0.000      -0.059      -0.027\n",
      "==============================================================================\n",
      "Omnibus:                    24566.928   Durbin-Watson:                   1.849\n",
      "Prob(Omnibus):                  0.000   Jarque-Bera (JB):              902.698\n",
      "Skew:                          -0.547   Prob(JB):                    9.59e-197\n",
      "Kurtosis:                       1.322   Cond. No.                         13.0\n",
      "==============================================================================\n",
      "\n",
      "Notes:\n",
      "[1] Standard Errors assume that the covariance matrix of the errors is correctly specified.\n"
     ]
    }
   ],
   "source": [
    "feat_mod = smf.ols(formula=\"correct ~ num_features\", data=data).fit()\n",
    "print(feat_mod.summary())"
   ]
  },
  {
   "cell_type": "markdown",
   "id": "1db05f56-949b-4935-b74c-a082c0e02119",
   "metadata": {},
   "source": [
    "#### How does time pressure affect performance?"
   ]
  },
  {
   "cell_type": "code",
   "execution_count": 28,
   "id": "5b0687a9-6930-4fb4-97b7-964edb6530fd",
   "metadata": {},
   "outputs": [
    {
     "data": {
      "text/plain": [
       "slow\n",
       "0    0.610000\n",
       "1    0.655926\n",
       "Name: correct, dtype: float64"
      ]
     },
     "execution_count": 28,
     "metadata": {},
     "output_type": "execute_result"
    }
   ],
   "source": [
    "slow_correct = data.groupby('slow').correct.mean()\n",
    "slow_correct"
   ]
  },
  {
   "cell_type": "code",
   "execution_count": 29,
   "id": "680b661d-2688-4f39-91a8-df613b0d2808",
   "metadata": {},
   "outputs": [
    {
     "name": "stdout",
     "output_type": "stream",
     "text": [
      "t = -3.5042387629481064 p = 0.00046163035172905114\n"
     ]
    }
   ],
   "source": [
    "t_slow, p_slow = stats.ttest_ind(data[data['slow'] == 0].correct, data[data['slow'] == 1].correct)\n",
    "print(\"t =\", t_slow, \"p =\", p_slow)"
   ]
  },
  {
   "cell_type": "markdown",
   "id": "c6de5760-f0b4-4ede-a094-df445c401169",
   "metadata": {},
   "source": [
    "#### RT Correlation"
   ]
  },
  {
   "cell_type": "code",
   "execution_count": 30,
   "id": "4007b3a5-4a89-4800-a02b-d623ab4b643f",
   "metadata": {},
   "outputs": [
    {
     "data": {
      "text/html": [
       "<div>\n",
       "<style scoped>\n",
       "    .dataframe tbody tr th:only-of-type {\n",
       "        vertical-align: middle;\n",
       "    }\n",
       "\n",
       "    .dataframe tbody tr th {\n",
       "        vertical-align: top;\n",
       "    }\n",
       "\n",
       "    .dataframe thead th {\n",
       "        text-align: right;\n",
       "    }\n",
       "</style>\n",
       "<table border=\"1\" class=\"dataframe\">\n",
       "  <thead>\n",
       "    <tr style=\"text-align: right;\">\n",
       "      <th></th>\n",
       "      <th>decision_time</th>\n",
       "      <th>correct</th>\n",
       "    </tr>\n",
       "    <tr>\n",
       "      <th>participant_id</th>\n",
       "      <th></th>\n",
       "      <th></th>\n",
       "    </tr>\n",
       "  </thead>\n",
       "  <tbody>\n",
       "    <tr>\n",
       "      <th>0</th>\n",
       "      <td>1368.210000</td>\n",
       "      <td>0.693333</td>\n",
       "    </tr>\n",
       "    <tr>\n",
       "      <th>1</th>\n",
       "      <td>1875.830000</td>\n",
       "      <td>0.623333</td>\n",
       "    </tr>\n",
       "    <tr>\n",
       "      <th>2</th>\n",
       "      <td>1958.940000</td>\n",
       "      <td>0.530000</td>\n",
       "    </tr>\n",
       "    <tr>\n",
       "      <th>3</th>\n",
       "      <td>1801.540000</td>\n",
       "      <td>0.676667</td>\n",
       "    </tr>\n",
       "    <tr>\n",
       "      <th>4</th>\n",
       "      <td>2566.550000</td>\n",
       "      <td>0.610000</td>\n",
       "    </tr>\n",
       "    <tr>\n",
       "      <th>5</th>\n",
       "      <td>2101.280000</td>\n",
       "      <td>0.603333</td>\n",
       "    </tr>\n",
       "    <tr>\n",
       "      <th>6</th>\n",
       "      <td>2321.813333</td>\n",
       "      <td>0.653333</td>\n",
       "    </tr>\n",
       "    <tr>\n",
       "      <th>7</th>\n",
       "      <td>2517.000000</td>\n",
       "      <td>0.650000</td>\n",
       "    </tr>\n",
       "    <tr>\n",
       "      <th>8</th>\n",
       "      <td>2316.123333</td>\n",
       "      <td>0.583333</td>\n",
       "    </tr>\n",
       "    <tr>\n",
       "      <th>9</th>\n",
       "      <td>1808.473333</td>\n",
       "      <td>0.580000</td>\n",
       "    </tr>\n",
       "    <tr>\n",
       "      <th>10</th>\n",
       "      <td>2284.053333</td>\n",
       "      <td>0.596667</td>\n",
       "    </tr>\n",
       "    <tr>\n",
       "      <th>11</th>\n",
       "      <td>3072.210000</td>\n",
       "      <td>0.570000</td>\n",
       "    </tr>\n",
       "    <tr>\n",
       "      <th>12</th>\n",
       "      <td>2444.743333</td>\n",
       "      <td>0.603333</td>\n",
       "    </tr>\n",
       "    <tr>\n",
       "      <th>13</th>\n",
       "      <td>1985.430000</td>\n",
       "      <td>0.600000</td>\n",
       "    </tr>\n",
       "    <tr>\n",
       "      <th>14</th>\n",
       "      <td>2341.020000</td>\n",
       "      <td>0.706667</td>\n",
       "    </tr>\n",
       "    <tr>\n",
       "      <th>15</th>\n",
       "      <td>1511.383333</td>\n",
       "      <td>0.763333</td>\n",
       "    </tr>\n",
       "    <tr>\n",
       "      <th>16</th>\n",
       "      <td>2189.913333</td>\n",
       "      <td>0.676667</td>\n",
       "    </tr>\n",
       "    <tr>\n",
       "      <th>17</th>\n",
       "      <td>1896.943333</td>\n",
       "      <td>0.673333</td>\n",
       "    </tr>\n",
       "  </tbody>\n",
       "</table>\n",
       "</div>"
      ],
      "text/plain": [
       "                decision_time   correct\n",
       "participant_id                         \n",
       "0                 1368.210000  0.693333\n",
       "1                 1875.830000  0.623333\n",
       "2                 1958.940000  0.530000\n",
       "3                 1801.540000  0.676667\n",
       "4                 2566.550000  0.610000\n",
       "5                 2101.280000  0.603333\n",
       "6                 2321.813333  0.653333\n",
       "7                 2517.000000  0.650000\n",
       "8                 2316.123333  0.583333\n",
       "9                 1808.473333  0.580000\n",
       "10                2284.053333  0.596667\n",
       "11                3072.210000  0.570000\n",
       "12                2444.743333  0.603333\n",
       "13                1985.430000  0.600000\n",
       "14                2341.020000  0.706667\n",
       "15                1511.383333  0.763333\n",
       "16                2189.913333  0.676667\n",
       "17                1896.943333  0.673333"
      ]
     },
     "execution_count": 30,
     "metadata": {},
     "output_type": "execute_result"
    }
   ],
   "source": [
    "data.groupby('participant_id')[['decision_time', 'correct']].mean()"
   ]
  },
  {
   "cell_type": "code",
   "execution_count": 32,
   "id": "3358a641-a113-49cb-8ec3-a5952fef57b6",
   "metadata": {},
   "outputs": [
    {
     "data": {
      "text/plain": [
       "(-0.4313358070848609, 0.07389986782594637)"
      ]
     },
     "execution_count": 32,
     "metadata": {},
     "output_type": "execute_result"
    }
   ],
   "source": [
    "stats.pearsonr(par_correct, par_RT)"
   ]
  },
  {
   "cell_type": "code",
   "execution_count": 33,
   "id": "0a8eabbc-0758-4ff8-bfcb-bb41d7926d0a",
   "metadata": {},
   "outputs": [
    {
     "name": "stdout",
     "output_type": "stream",
     "text": [
      "                            OLS Regression Results                            \n",
      "==============================================================================\n",
      "Dep. Variable:                correct   R-squared:                       0.011\n",
      "Model:                            OLS   Adj. R-squared:                  0.011\n",
      "Method:                 Least Squares   F-statistic:                     62.03\n",
      "Date:                Sun, 02 Oct 2022   Prob (F-statistic):           4.06e-15\n",
      "Time:                        15:32:01   Log-Likelihood:                -3690.4\n",
      "No. Observations:                5400   AIC:                             7385.\n",
      "Df Residuals:                    5398   BIC:                             7398.\n",
      "Df Model:                           1                                         \n",
      "Covariance Type:            nonrobust                                         \n",
      "=================================================================================\n",
      "                    coef    std err          t      P>|t|      [0.025      0.975]\n",
      "---------------------------------------------------------------------------------\n",
      "Intercept         0.7315      0.014     51.839      0.000       0.704       0.759\n",
      "decision_time -4.624e-05   5.87e-06     -7.876      0.000   -5.78e-05   -3.47e-05\n",
      "==============================================================================\n",
      "Omnibus:                    25311.718   Durbin-Watson:                   1.828\n",
      "Prob(Omnibus):                  0.000   Jarque-Bera (JB):              882.246\n",
      "Skew:                          -0.545   Prob(JB):                    2.65e-192\n",
      "Kurtosis:                       1.346   Cond. No.                     5.20e+03\n",
      "==============================================================================\n",
      "\n",
      "Notes:\n",
      "[1] Standard Errors assume that the covariance matrix of the errors is correctly specified.\n",
      "[2] The condition number is large, 5.2e+03. This might indicate that there are\n",
      "strong multicollinearity or other numerical problems.\n"
     ]
    }
   ],
   "source": [
    "RT_mod = smf.ols(formula=\"correct ~ decision_time\", data=data).fit()\n",
    "print(RT_mod.summary())"
   ]
  },
  {
   "cell_type": "markdown",
   "id": "9868251d-c19a-4e91-83e1-679946561ff0",
   "metadata": {},
   "source": [
    "We found a significant negative relationship between accuracy and decision time ("
   ]
  },
  {
   "cell_type": "markdown",
   "id": "9ddcf941-fe71-479b-8b28-cd58a4cc6464",
   "metadata": {},
   "source": [
    "#### Bigression"
   ]
  },
  {
   "cell_type": "code",
   "execution_count": 34,
   "id": "b00e0752-833c-42a4-9d18-2ce6730d2156",
   "metadata": {},
   "outputs": [
    {
     "name": "stdout",
     "output_type": "stream",
     "text": [
      "                            OLS Regression Results                            \n",
      "==============================================================================\n",
      "Dep. Variable:                correct   R-squared:                       0.029\n",
      "Model:                            OLS   Adj. R-squared:                  0.028\n",
      "Method:                 Least Squares   F-statistic:                     23.05\n",
      "Date:                Sun, 02 Oct 2022   Prob (F-statistic):           5.06e-31\n",
      "Time:                        15:32:01   Log-Likelihood:                -3641.6\n",
      "No. Observations:                5400   AIC:                             7299.\n",
      "Df Residuals:                    5392   BIC:                             7352.\n",
      "Df Model:                           7                                         \n",
      "Covariance Type:            nonrobust                                         \n",
      "===========================================================================================================\n",
      "                                              coef    std err          t      P>|t|      [0.025      0.975]\n",
      "-----------------------------------------------------------------------------------------------------------\n",
      "Intercept                                   0.9527      0.102      9.363      0.000       0.753       1.152\n",
      "C(slow)[T.1]                                0.1006      0.130      0.772      0.440      -0.155       0.356\n",
      "num_features                               -0.0620      0.032     -1.911      0.056      -0.126       0.002\n",
      "num_features:C(slow)[T.1]                  -0.0154      0.042     -0.369      0.712      -0.097       0.066\n",
      "decision_time                              -0.0001   5.82e-05     -2.131      0.033      -0.000   -9.94e-06\n",
      "C(slow)[T.1]:decision_time               1.344e-05   6.48e-05      0.207      0.836      -0.000       0.000\n",
      "num_features:decision_time               9.362e-06   1.86e-05      0.503      0.615   -2.71e-05    4.58e-05\n",
      "num_features:C(slow)[T.1]:decision_time  6.502e-06   2.07e-05      0.314      0.753    -3.4e-05     4.7e-05\n",
      "==============================================================================\n",
      "Omnibus:                    27382.082   Durbin-Watson:                   1.851\n",
      "Prob(Omnibus):                  0.000   Jarque-Bera (JB):              826.085\n",
      "Skew:                          -0.528   Prob(JB):                    4.15e-180\n",
      "Kurtosis:                       1.401   Cond. No.                     2.55e+05\n",
      "==============================================================================\n",
      "\n",
      "Notes:\n",
      "[1] Standard Errors assume that the covariance matrix of the errors is correctly specified.\n",
      "[2] The condition number is large, 2.55e+05. This might indicate that there are\n",
      "strong multicollinearity or other numerical problems.\n"
     ]
    }
   ],
   "source": [
    "big_mod = smf.ols(formula=\"correct ~ num_features * C(slow) * decision_time\", data=data).fit()\n",
    "print(big_mod.summary())"
   ]
  },
  {
   "cell_type": "markdown",
   "id": "d40f408a-09e3-43b9-b6f9-f316ca4dd9d9",
   "metadata": {
    "tags": []
   },
   "source": [
    "## Parameter Fitting"
   ]
  },
  {
   "cell_type": "markdown",
   "id": "41351c19-583c-4a72-a68f-76585d0e67d1",
   "metadata": {},
   "source": [
    "`Look at the resulting parameters and try to answer the following questions`"
   ]
  },
  {
   "cell_type": "markdown",
   "id": "590ff42e-0afe-4693-8a88-621f17e89f61",
   "metadata": {},
   "source": [
    "### Recorla-Wagner"
   ]
  },
  {
   "cell_type": "markdown",
   "id": "af22b0b0-9e8b-4d1d-8ae3-3ad3002fa60d",
   "metadata": {},
   "source": [
    "> • Does time pressure lead to slower learning?"
   ]
  },
  {
   "cell_type": "code",
   "execution_count": null,
   "id": "ece2804a-c313-4884-844e-2c99032618fd",
   "metadata": {},
   "outputs": [],
   "source": []
  },
  {
   "cell_type": "markdown",
   "id": "0a30f3c7-9a0d-4156-9f8e-8fd02e733e4d",
   "metadata": {},
   "source": [
    "> • Does time pressure lead to more noisy decisions?"
   ]
  },
  {
   "cell_type": "code",
   "execution_count": null,
   "id": "51829485-f04b-4867-8520-e00751007555",
   "metadata": {},
   "outputs": [],
   "source": []
  },
  {
   "cell_type": "markdown",
   "id": "f4d1ffc4-6668-4010-885e-90c6b0207642",
   "metadata": {},
   "source": [
    "### Kalman Filter"
   ]
  },
  {
   "cell_type": "code",
   "execution_count": null,
   "id": "93e794dd-1fbd-4bb5-9469-092bbf02e088",
   "metadata": {},
   "outputs": [],
   "source": []
  },
  {
   "cell_type": "markdown",
   "id": "b909d301-4217-451b-b62a-5f86221704ec",
   "metadata": {
    "tags": []
   },
   "source": [
    "> • Does time pressure lead to slower learning?"
   ]
  },
  {
   "cell_type": "code",
   "execution_count": null,
   "id": "f7fdb62b-02e5-4c0b-9501-0886b672ac8b",
   "metadata": {},
   "outputs": [],
   "source": []
  },
  {
   "cell_type": "markdown",
   "id": "6bd7f8f8-5b0a-481c-a25e-1605164b4b24",
   "metadata": {},
   "source": [
    "> • Does time pressure lead to more noisy decisions?"
   ]
  },
  {
   "cell_type": "code",
   "execution_count": null,
   "id": "823a4655-5f79-4b35-aa2f-0440efbad5b7",
   "metadata": {},
   "outputs": [],
   "source": []
  },
  {
   "cell_type": "markdown",
   "id": "f57d4951-19fc-4cb6-8d42-2ccdd9aa5d80",
   "metadata": {
    "tags": []
   },
   "source": [
    "### Error Model"
   ]
  },
  {
   "cell_type": "code",
   "execution_count": null,
   "id": "4f504f17-53fe-4d85-b27d-13e386d065f9",
   "metadata": {},
   "outputs": [],
   "source": []
  },
  {
   "cell_type": "markdown",
   "id": "6a1d7074-cd54-4640-9704-4d9cbbd64846",
   "metadata": {},
   "source": [
    "> • Does time pressure lead to slower learning?"
   ]
  },
  {
   "cell_type": "code",
   "execution_count": null,
   "id": "5287793c-dd5e-4a19-b752-74955f40357a",
   "metadata": {},
   "outputs": [],
   "source": []
  },
  {
   "cell_type": "markdown",
   "id": "65cfc535-7310-4552-9534-257eb2eae111",
   "metadata": {},
   "source": [
    "> • Does time pressure lead to more noisy decisions?"
   ]
  },
  {
   "cell_type": "code",
   "execution_count": null,
   "id": "98231200-a49d-446e-8338-9f6c27e269e6",
   "metadata": {},
   "outputs": [],
   "source": []
  },
  {
   "cell_type": "markdown",
   "id": "65f3cbcb-e336-49f5-9afb-81f2f0522366",
   "metadata": {},
   "source": [
    "### <.....> Model"
   ]
  },
  {
   "cell_type": "code",
   "execution_count": null,
   "id": "d3d11131-3455-4555-8dd8-4eec7ce35cd9",
   "metadata": {},
   "outputs": [],
   "source": []
  },
  {
   "cell_type": "markdown",
   "id": "518cb8a0-f9ca-4ef6-a061-deb7f90b5d21",
   "metadata": {},
   "source": [
    "> • Does time pressure lead to slower learning?"
   ]
  },
  {
   "cell_type": "code",
   "execution_count": null,
   "id": "13506cb3-ad62-41fe-8545-67b62cc78595",
   "metadata": {},
   "outputs": [],
   "source": []
  },
  {
   "cell_type": "markdown",
   "id": "a59b8999-1d3b-40ff-9f00-ff07d12893af",
   "metadata": {},
   "source": [
    "> • Does time pressure lead to more noisy decisions?"
   ]
  },
  {
   "cell_type": "code",
   "execution_count": null,
   "id": "2a0a1cac-36b8-4d4e-89e9-6e399ccb33d4",
   "metadata": {},
   "outputs": [],
   "source": []
  },
  {
   "cell_type": "markdown",
   "id": "46c7d7da-81ac-4f92-96b5-e8cc0f6154dd",
   "metadata": {},
   "source": [
    "#### Random policy"
   ]
  },
  {
   "cell_type": "code",
   "execution_count": 35,
   "id": "abd1b177-7e14-4e4c-aced-9091402b6647",
   "metadata": {},
   "outputs": [],
   "source": [
    "N = len(pd.unique(data['participant_id']))"
   ]
  },
  {
   "cell_type": "code",
   "execution_count": 36,
   "id": "25f78092-f7ea-4ccd-9f4f-245308b2878d",
   "metadata": {},
   "outputs": [
    {
     "data": {
      "text/plain": [
       "array([415.88830834, 415.88830834, 415.88830834, 415.88830834,\n",
       "       415.88830834, 415.88830834, 415.88830834, 415.88830834,\n",
       "       415.88830834, 415.88830834, 415.88830834, 415.88830834,\n",
       "       415.88830834, 415.88830834, 415.88830834, 415.88830834,\n",
       "       415.88830834, 415.88830834])"
      ]
     },
     "execution_count": 36,
     "metadata": {},
     "output_type": "execute_result"
    }
   ],
   "source": [
    "RP_BIC = np.full(N, 0 - 2 * 300 * np.log(0.5))\n",
    "RP_BIC"
   ]
  },
  {
   "cell_type": "markdown",
   "id": "b335d834-01c6-4955-aa56-46128ff48812",
   "metadata": {
    "tags": []
   },
   "source": [
    "## Model Comparison"
   ]
  },
  {
   "cell_type": "markdown",
   "id": "745c2e51-72b4-491c-bdf8-fe473c6f21dc",
   "metadata": {},
   "source": [
    "> •  Which model explains the human data best?"
   ]
  },
  {
   "cell_type": "code",
   "execution_count": 37,
   "id": "2520b381-786b-494f-a8aa-d338bfeac30f",
   "metadata": {},
   "outputs": [],
   "source": [
    "RW_BIC = np.random.rand(N) * 1000\n",
    "KF_BIC = np.random.rand(N) * 1000"
   ]
  },
  {
   "cell_type": "code",
   "execution_count": 38,
   "id": "a564b199-3e3d-428b-8f96-1dbaba93fb38",
   "metadata": {},
   "outputs": [],
   "source": [
    "all_BIC = np.array([RW_BIC, KF_BIC, RP_BIC])"
   ]
  },
  {
   "cell_type": "code",
   "execution_count": 39,
   "id": "3fae1798-ce57-464b-b0d8-4ed6574c8ff0",
   "metadata": {},
   "outputs": [
    {
     "data": {
      "image/png": "[encoded data removed]",
      "text/plain": [
       "<Figure size 1800x250 with 2 Axes>"
      ]
     },
     "metadata": {},
     "output_type": "display_data"
    }
   ],
   "source": [
    "all_BICr = [np.around(num,2) for num in all_BIC]\n",
    "\n",
    "f, (ax, cbar_ax) = plt.subplots(1,2, gridspec_kw = {'width_ratios': [0.95, 0.05]}, figsize = (18,2))\n",
    "f.set_figheight(2.5)\n",
    "\n",
    "sns.heatmap(all_BICr, cmap = 'coolwarm', linewidths = 0.5, square = True, annot = True, fmt = 'g',\n",
    "            ax = ax, cbar_ax = cbar_ax)\n",
    "\n",
    "ax.set_xticklabels(np.arange(N) + 1, fontsize = 15);\n",
    "ax.set_yticklabels(['RW', 'KF', 'RP'], fontsize = 15);\n",
    "ax.set_xlabel('Participant', labelpad = 20, fontsize = 20);\n",
    "ax.set_title('BIC', pad = 20, fontsize = 20);"
   ]
  },
  {
   "cell_type": "code",
   "execution_count": 40,
   "id": "9a7115da-ba1f-42cf-ac3f-e587c86a2e17",
   "metadata": {},
   "outputs": [
    {
     "data": {
      "image/png": "[encoded data removed]",
      "text/plain": [
       "<Figure size 1000x500 with 1 Axes>"
      ]
     },
     "metadata": {},
     "output_type": "display_data"
    }
   ],
   "source": [
    "model_wins = np.argmin(all_BIC, 0)\n",
    "model_plot = np.histogram(model_wins, [0, 1, 2, 3])[0] / N\n",
    "\n",
    "plt.figure(figsize=(10,5))\n",
    "\n",
    "plt.bar(['RW','KF','RP'], model_plot);\n",
    "plt.xticks(fontsize = 15);\n",
    "plt.xlabel('Model', labelpad = 20, fontsize = 15);\n",
    "plt.ylabel('% Wins', fontsize=15);"
   ]
  },
  {
   "cell_type": "markdown",
   "id": "d683b1f8-0e5c-4485-9f27-3357a7720928",
   "metadata": {},
   "source": [
    "> • Does time pressure lead to simpler learning strategies?"
   ]
  },
  {
   "cell_type": "code",
   "execution_count": null,
   "id": "498529ff-97bb-49fb-a304-e82a82df6376",
   "metadata": {},
   "outputs": [],
   "source": []
  },
  {
   "cell_type": "markdown",
   "id": "0c3016a4-c6fb-4056-9f71-5aae0822d898",
   "metadata": {},
   "source": [
    "# Methods"
   ]
  },
  {
   "cell_type": "markdown",
   "id": "23d6a1f8-7161-4eb4-bdbc-2bb2da270c21",
   "metadata": {},
   "source": []
  },
  {
   "cell_type": "markdown",
   "id": "d7e18076-25bc-4c74-9436-ab01afe9a055",
   "metadata": {},
   "source": [
    "# Results"
   ]
  },
  {
   "cell_type": "markdown",
   "id": "ee40a98a-3929-47d2-aeca-40681ca50627",
   "metadata": {},
   "source": []
  },
  {
   "cell_type": "markdown",
   "id": "76c96ea5-b80d-446a-9129-e058c37aab97",
   "metadata": {},
   "source": [
    "# Discussion"
   ]
  },
  {
   "cell_type": "markdown",
   "id": "10da9ff8-bc90-465f-83a4-71c81dd61c00",
   "metadata": {},
   "source": []
  },
  {
   "cell_type": "markdown",
   "id": "06545e73-4895-4d04-974e-0c30037038dd",
   "metadata": {},
   "source": [
    "# References"
   ]
  },
  {
   "cell_type": "markdown",
   "id": "7a477eb1-51d2-49a4-92af-d1a90392a895",
   "metadata": {},
   "source": []
  }
 ],
 "metadata": {
  "kernelspec": {
   "display_name": "Python 3 (ipykernel)",
   "language": "python",
   "name": "python3"
  },
  "language_info": {
   "codemirror_mode": {
    "name": "ipython",
    "version": 3
   },
   "file_extension": ".py",
   "mimetype": "text/x-python",
   "name": "python",
   "nbconvert_exporter": "python",
   "pygments_lexer": "ipython3",
   "version": "3.8.13"
  }
 },
 "nbformat": 4,
 "nbformat_minor": 5
}
