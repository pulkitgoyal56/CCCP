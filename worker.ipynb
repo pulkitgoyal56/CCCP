{
 "cells": [
  {
   "cell_type": "code",
   "execution_count": 1,
   "id": "a4312437-f7fb-4f74-9ebe-40251c167cd8",
   "metadata": {},
   "outputs": [],
   "source": [
    "import numpy as np"
   ]
  },
  {
   "cell_type": "code",
   "execution_count": 2,
   "id": "2d1b03f6-8651-4df8-9b9f-4807eeb7439d",
   "metadata": {},
   "outputs": [],
   "source": [
    "import time"
   ]
  },
  {
   "cell_type": "code",
   "execution_count": 3,
   "id": "d194f88b-23f3-4a2c-9db3-d91effc1335e",
   "metadata": {},
   "outputs": [],
   "source": [
    "from selenium import webdriver\n",
    "from selenium.webdriver.chrome.service import Service\n",
    "from selenium.webdriver.common.action_chains import ActionChains\n",
    "from selenium.webdriver.support.ui import WebDriverWait\n",
    "from selenium.webdriver.support import expected_conditions as EC\n",
    "\n",
    "from webdriver_manager.chrome import ChromeDriverManager"
   ]
  },
  {
   "cell_type": "code",
   "execution_count": 4,
   "id": "bdf737ab-2c20-475f-8110-36eecbb1a0a0",
   "metadata": {},
   "outputs": [],
   "source": [
    "from tqdm.notebook import tqdm\n",
    "import winsound"
   ]
  },
  {
   "cell_type": "code",
   "execution_count": 5,
   "id": "5567cd63-2bca-4c05-bdb3-210370a8194c",
   "metadata": {},
   "outputs": [
    {
     "name": "stdout",
     "output_type": "stream",
     "text": [
      "\n"
     ]
    },
    {
     "name": "stderr",
     "output_type": "stream",
     "text": [
      "[WDM] - ====== WebDriver manager ======\n",
      "[WDM] - Current google-chrome version is 102.0.5005\n",
      "[WDM] - Get LATEST chromedriver version for 102.0.5005 google-chrome\n",
      "[WDM] - Driver [C:\\Users\\pulkit\\.wdm\\drivers\\chromedriver\\win32\\102.0.5005.61\\chromedriver.exe] found in cache\n"
     ]
    }
   ],
   "source": [
    "driver = webdriver.Chrome(service=Service(ChromeDriverManager().install()))\n",
    "actions = ActionChains(driver)"
   ]
  },
  {
   "cell_type": "code",
   "execution_count": 6,
   "id": "afd02156-1932-44ea-bfcf-12b70ce637be",
   "metadata": {},
   "outputs": [],
   "source": [
    "driver.get(\"https://kyblab.tuebingen.mpg.de/experiment_ccs2022/banditexperiment/\")"
   ]
  },
  {
   "cell_type": "code",
   "execution_count": 7,
   "id": "702877c4-6c61-4243-b164-c51974c7b888",
   "metadata": {},
   "outputs": [],
   "source": [
    "act = lambda x: ActionChains(driver).key_down('j' if x else 'f').pause(0.2).key_up('j' if x else 'f').perform() # driver.execute_script(f\"returnpressed=1; timeInMs=Date.now()-timeInMs; myfunc({int(x)});\")"
   ]
  },
  {
   "cell_type": "code",
   "execution_count": 8,
   "id": "44ec04fc-9d7f-4dfe-af83-4d0b0b18bf2a",
   "metadata": {},
   "outputs": [],
   "source": [
    "start = lambda: driver.execute_script(\"begintrial(); clickStart('page1', 'page8')\")"
   ]
  },
  {
   "cell_type": "code",
   "execution_count": 9,
   "id": "267b0867-8efe-4b42-866e-b59b2f3d2010",
   "metadata": {},
   "outputs": [],
   "source": [
    "score = lambda: driver.execute_script(\"console.log(totalscore)\")"
   ]
  },
  {
   "cell_type": "code",
   "execution_count": 10,
   "id": "dfb11faa-9fbe-4d12-9cf3-969d14b054fa",
   "metadata": {},
   "outputs": [],
   "source": [
    "log = lambda t: driver.execute_script(f\"console.log({t})\")"
   ]
  },
  {
   "cell_type": "code",
   "execution_count": 11,
   "id": "d4659b7c-c1c6-4356-8f4f-bb16098fd070",
   "metadata": {},
   "outputs": [],
   "source": [
    "beep = lambda: winsound.PlaySound('sound.wav', winsound.SND_FILENAME)"
   ]
  },
  {
   "cell_type": "raw",
   "id": "aae66717-3b70-4f51-85f7-fc4f20d6922f",
   "metadata": {},
   "source": [
    "clean = lambda: driver.execute_script(\"$('#progressBarLearn').hide(); $('#progressBarPredict').hide()\")"
   ]
  },
  {
   "cell_type": "code",
   "execution_count": 12,
   "id": "b56da208-8418-4507-855d-0f68e65eea59",
   "metadata": {},
   "outputs": [],
   "source": [
    "getX = lambda: np.array([[float(driver.find_element(\"id\", f\"featues{i+1}{j+1}\").get_attribute('innerHTML')) for j in range(4)] for i in range(2)])"
   ]
  },
  {
   "cell_type": "code",
   "execution_count": 13,
   "id": "55c50290-f490-44d2-a9a6-5b7aaf6fc421",
   "metadata": {},
   "outputs": [],
   "source": [
    "getY = lambda: np.array([float(driver.find_element(\"id\", f\"outcome{i+1}\").get_attribute('innerHTML')) for i in range(2)])"
   ]
  },
  {
   "cell_type": "code",
   "execution_count": 14,
   "id": "d11938ef-8109-43b5-9da4-a6619cb4fb97",
   "metadata": {},
   "outputs": [],
   "source": [
    "alert = lambda: driver.switch_to.alert.accept()"
   ]
  },
  {
   "cell_type": "code",
   "execution_count": 15,
   "id": "13a7c89c-e9da-47c3-bd7e-b58ccd38fd88",
   "metadata": {},
   "outputs": [],
   "source": [
    "class RescorlaWagner():\n",
    "    def __init__(self, num_inputs, sigma_y=0.1, learning_rate=0.2):\n",
    "        self.num_inputs = num_inputs\n",
    "        self.sigma_y = sigma_y\n",
    "        self.learning_rate = learning_rate\n",
    "        \n",
    "        self.weights = np.zeros((num_inputs, 1))\n",
    "        \n",
    "    # TODO implement this function\n",
    "    def predict(self, inputs):\n",
    "        return self.weights.T @ inputs\n",
    "        \n",
    "    # TODO implement this function\n",
    "    def learn(self, inputs, targets):\n",
    "        self.weights += self.learning_rate * (targets - self.predict(inputs)) * inputs"
   ]
  },
  {
   "cell_type": "code",
   "execution_count": 16,
   "id": "0543328c-71b4-4dbe-9365-a86f965fdd52",
   "metadata": {},
   "outputs": [],
   "source": [
    "class KalmanFilter():\n",
    "    def __init__(self, num_inputs, sigma_y=0.1, sigma_w=1):\n",
    "        self.num_inputs = num_inputs\n",
    "        self.sigma_y = sigma_y\n",
    "        self.sigma_w = sigma_w\n",
    "        \n",
    "        self.weights = np.zeros((num_inputs, 1))\n",
    "        self.covariance = sigma_w * np.eye(num_inputs)\n",
    "        \n",
    "    def predict(self, inputs):\n",
    "        mean = self.weights.T @ inputs\n",
    "        std = np.sqrt(inputs.T @ self.covariance @ inputs + self.sigma_y ** 2)\n",
    "        return mean, std\n",
    "        \n",
    "    def learn(self, inputs, targets):\n",
    "        kalman_numerator = self.covariance @ inputs\n",
    "        kalman_denominator = inputs.T @ self.covariance @ inputs + self.sigma_y ** 2\n",
    "        kalman_gain = kalman_numerator / kalman_denominator\n",
    "        self.weights = self.weights + kalman_gain * (targets - self.weights.T @ inputs)\n",
    "        self.covariance = self.covariance - kalman_gain @ inputs.T @ self.covariance"
   ]
  },
  {
   "cell_type": "code",
   "execution_count": 17,
   "id": "77acd2ea-81d8-43f5-8a81-7140d078e323",
   "metadata": {},
   "outputs": [],
   "source": [
    "N_BLOCKS = 30\n",
    "N_TRIALS = 10"
   ]
  },
  {
   "cell_type": "code",
   "execution_count": 18,
   "id": "0772f900-fd41-4801-8df7-b979fb1bad76",
   "metadata": {},
   "outputs": [
    {
     "data": {
      "application/vnd.jupyter.widget-view+json": {
       "model_id": "af5376f0a5b84e8b85d04488b02f80cc",
       "version_major": 2,
       "version_minor": 0
      },
      "text/plain": [
       "  0%|          | 0/30 [00:00<?, ?it/s]"
      ]
     },
     "metadata": {},
     "output_type": "display_data"
    },
    {
     "data": {
      "application/vnd.jupyter.widget-view+json": {
       "model_id": "",
       "version_major": 2,
       "version_minor": 0
      },
      "text/plain": [
       "  0%|          | 0/10 [00:00<?, ?it/s]"
      ]
     },
     "metadata": {},
     "output_type": "display_data"
    },
    {
     "data": {
      "application/vnd.jupyter.widget-view+json": {
       "model_id": "",
       "version_major": 2,
       "version_minor": 0
      },
      "text/plain": [
       "  0%|          | 0/10 [00:00<?, ?it/s]"
      ]
     },
     "metadata": {},
     "output_type": "display_data"
    },
    {
     "data": {
      "application/vnd.jupyter.widget-view+json": {
       "model_id": "",
       "version_major": 2,
       "version_minor": 0
      },
      "text/plain": [
       "  0%|          | 0/10 [00:00<?, ?it/s]"
      ]
     },
     "metadata": {},
     "output_type": "display_data"
    },
    {
     "data": {
      "application/vnd.jupyter.widget-view+json": {
       "model_id": "",
       "version_major": 2,
       "version_minor": 0
      },
      "text/plain": [
       "  0%|          | 0/10 [00:00<?, ?it/s]"
      ]
     },
     "metadata": {},
     "output_type": "display_data"
    },
    {
     "data": {
      "application/vnd.jupyter.widget-view+json": {
       "model_id": "",
       "version_major": 2,
       "version_minor": 0
      },
      "text/plain": [
       "  0%|          | 0/10 [00:00<?, ?it/s]"
      ]
     },
     "metadata": {},
     "output_type": "display_data"
    },
    {
     "data": {
      "application/vnd.jupyter.widget-view+json": {
       "model_id": "",
       "version_major": 2,
       "version_minor": 0
      },
      "text/plain": [
       "  0%|          | 0/10 [00:00<?, ?it/s]"
      ]
     },
     "metadata": {},
     "output_type": "display_data"
    },
    {
     "data": {
      "application/vnd.jupyter.widget-view+json": {
       "model_id": "",
       "version_major": 2,
       "version_minor": 0
      },
      "text/plain": [
       "  0%|          | 0/10 [00:00<?, ?it/s]"
      ]
     },
     "metadata": {},
     "output_type": "display_data"
    },
    {
     "data": {
      "application/vnd.jupyter.widget-view+json": {
       "model_id": "",
       "version_major": 2,
       "version_minor": 0
      },
      "text/plain": [
       "  0%|          | 0/10 [00:00<?, ?it/s]"
      ]
     },
     "metadata": {},
     "output_type": "display_data"
    },
    {
     "data": {
      "application/vnd.jupyter.widget-view+json": {
       "model_id": "",
       "version_major": 2,
       "version_minor": 0
      },
      "text/plain": [
       "  0%|          | 0/10 [00:00<?, ?it/s]"
      ]
     },
     "metadata": {},
     "output_type": "display_data"
    },
    {
     "data": {
      "application/vnd.jupyter.widget-view+json": {
       "model_id": "",
       "version_major": 2,
       "version_minor": 0
      },
      "text/plain": [
       "  0%|          | 0/10 [00:00<?, ?it/s]"
      ]
     },
     "metadata": {},
     "output_type": "display_data"
    },
    {
     "data": {
      "application/vnd.jupyter.widget-view+json": {
       "model_id": "",
       "version_major": 2,
       "version_minor": 0
      },
      "text/plain": [
       "  0%|          | 0/10 [00:00<?, ?it/s]"
      ]
     },
     "metadata": {},
     "output_type": "display_data"
    },
    {
     "data": {
      "application/vnd.jupyter.widget-view+json": {
       "model_id": "",
       "version_major": 2,
       "version_minor": 0
      },
      "text/plain": [
       "  0%|          | 0/10 [00:00<?, ?it/s]"
      ]
     },
     "metadata": {},
     "output_type": "display_data"
    },
    {
     "data": {
      "application/vnd.jupyter.widget-view+json": {
       "model_id": "",
       "version_major": 2,
       "version_minor": 0
      },
      "text/plain": [
       "  0%|          | 0/10 [00:00<?, ?it/s]"
      ]
     },
     "metadata": {},
     "output_type": "display_data"
    },
    {
     "data": {
      "application/vnd.jupyter.widget-view+json": {
       "model_id": "",
       "version_major": 2,
       "version_minor": 0
      },
      "text/plain": [
       "  0%|          | 0/10 [00:00<?, ?it/s]"
      ]
     },
     "metadata": {},
     "output_type": "display_data"
    },
    {
     "data": {
      "application/vnd.jupyter.widget-view+json": {
       "model_id": "",
       "version_major": 2,
       "version_minor": 0
      },
      "text/plain": [
       "  0%|          | 0/10 [00:00<?, ?it/s]"
      ]
     },
     "metadata": {},
     "output_type": "display_data"
    },
    {
     "data": {
      "application/vnd.jupyter.widget-view+json": {
       "model_id": "",
       "version_major": 2,
       "version_minor": 0
      },
      "text/plain": [
       "  0%|          | 0/10 [00:00<?, ?it/s]"
      ]
     },
     "metadata": {},
     "output_type": "display_data"
    },
    {
     "data": {
      "application/vnd.jupyter.widget-view+json": {
       "model_id": "",
       "version_major": 2,
       "version_minor": 0
      },
      "text/plain": [
       "  0%|          | 0/10 [00:00<?, ?it/s]"
      ]
     },
     "metadata": {},
     "output_type": "display_data"
    },
    {
     "data": {
      "application/vnd.jupyter.widget-view+json": {
       "model_id": "",
       "version_major": 2,
       "version_minor": 0
      },
      "text/plain": [
       "  0%|          | 0/10 [00:00<?, ?it/s]"
      ]
     },
     "metadata": {},
     "output_type": "display_data"
    },
    {
     "data": {
      "application/vnd.jupyter.widget-view+json": {
       "model_id": "",
       "version_major": 2,
       "version_minor": 0
      },
      "text/plain": [
       "  0%|          | 0/10 [00:00<?, ?it/s]"
      ]
     },
     "metadata": {},
     "output_type": "display_data"
    },
    {
     "data": {
      "application/vnd.jupyter.widget-view+json": {
       "model_id": "",
       "version_major": 2,
       "version_minor": 0
      },
      "text/plain": [
       "  0%|          | 0/10 [00:00<?, ?it/s]"
      ]
     },
     "metadata": {},
     "output_type": "display_data"
    },
    {
     "data": {
      "application/vnd.jupyter.widget-view+json": {
       "model_id": "",
       "version_major": 2,
       "version_minor": 0
      },
      "text/plain": [
       "  0%|          | 0/10 [00:00<?, ?it/s]"
      ]
     },
     "metadata": {},
     "output_type": "display_data"
    },
    {
     "data": {
      "application/vnd.jupyter.widget-view+json": {
       "model_id": "",
       "version_major": 2,
       "version_minor": 0
      },
      "text/plain": [
       "  0%|          | 0/10 [00:00<?, ?it/s]"
      ]
     },
     "metadata": {},
     "output_type": "display_data"
    },
    {
     "data": {
      "application/vnd.jupyter.widget-view+json": {
       "model_id": "",
       "version_major": 2,
       "version_minor": 0
      },
      "text/plain": [
       "  0%|          | 0/10 [00:00<?, ?it/s]"
      ]
     },
     "metadata": {},
     "output_type": "display_data"
    },
    {
     "data": {
      "application/vnd.jupyter.widget-view+json": {
       "model_id": "",
       "version_major": 2,
       "version_minor": 0
      },
      "text/plain": [
       "  0%|          | 0/10 [00:00<?, ?it/s]"
      ]
     },
     "metadata": {},
     "output_type": "display_data"
    },
    {
     "data": {
      "application/vnd.jupyter.widget-view+json": {
       "model_id": "",
       "version_major": 2,
       "version_minor": 0
      },
      "text/plain": [
       "  0%|          | 0/10 [00:00<?, ?it/s]"
      ]
     },
     "metadata": {},
     "output_type": "display_data"
    },
    {
     "data": {
      "application/vnd.jupyter.widget-view+json": {
       "model_id": "",
       "version_major": 2,
       "version_minor": 0
      },
      "text/plain": [
       "  0%|          | 0/10 [00:00<?, ?it/s]"
      ]
     },
     "metadata": {},
     "output_type": "display_data"
    },
    {
     "data": {
      "application/vnd.jupyter.widget-view+json": {
       "model_id": "",
       "version_major": 2,
       "version_minor": 0
      },
      "text/plain": [
       "  0%|          | 0/10 [00:00<?, ?it/s]"
      ]
     },
     "metadata": {},
     "output_type": "display_data"
    },
    {
     "data": {
      "application/vnd.jupyter.widget-view+json": {
       "model_id": "",
       "version_major": 2,
       "version_minor": 0
      },
      "text/plain": [
       "  0%|          | 0/10 [00:00<?, ?it/s]"
      ]
     },
     "metadata": {},
     "output_type": "display_data"
    },
    {
     "data": {
      "application/vnd.jupyter.widget-view+json": {
       "model_id": "",
       "version_major": 2,
       "version_minor": 0
      },
      "text/plain": [
       "  0%|          | 0/10 [00:00<?, ?it/s]"
      ]
     },
     "metadata": {},
     "output_type": "display_data"
    },
    {
     "data": {
      "application/vnd.jupyter.widget-view+json": {
       "model_id": "",
       "version_major": 2,
       "version_minor": 0
      },
      "text/plain": [
       "  0%|          | 0/10 [00:00<?, ?it/s]"
      ]
     },
     "metadata": {},
     "output_type": "display_data"
    }
   ],
   "source": [
    "start()\n",
    "for block in tqdm(range(N_BLOCKS)):\n",
    "    model = KalmanFilter(4)\n",
    "    for trial in tqdm(range(N_TRIALS), leave=False):\n",
    "        time.sleep(0.1+np.random.rand()*0.3)\n",
    "\n",
    "        X = getX()\n",
    "        decision = (model.predict(X[[1]].T)[0] > model.predict(X[[0]].T)[0]).squeeze()\n",
    "        if np.random.rand() > 0.9: decision = ~decision # Deliberate mistakes \n",
    "        \n",
    "        act(decision); # beep()\n",
    "\n",
    "        WebDriverWait(driver, 7).until(lambda driver: driver.find_element(\"id\", f\"outcome1\").get_attribute('innerHTML') != '')\n",
    "        Y = getY()\n",
    "        model.learn(X[[0]].T, Y[0]), model.learn(X[[1]].T, Y[1])\n",
    "        # score()\n",
    "        \n",
    "        if trial != N_TRIALS-1: WebDriverWait(driver, 7).until(lambda driver: driver.find_element(\"id\", f\"outcome1\").get_attribute('innerHTML') == '')\n",
    "    \n",
    "    if block != N_BLOCKS-1:\n",
    "        WebDriverWait(driver, 7).until(EC.alert_is_present())\n",
    "        time.sleep(1)\n",
    "        alert()"
   ]
  }
 ],
 "metadata": {
  "kernelspec": {
   "display_name": "Python 3",
   "language": "python",
   "name": "python3"
  },
  "language_info": {
   "codemirror_mode": {
    "name": "ipython",
    "version": 3
   },
   "file_extension": ".py",
   "mimetype": "text/x-python",
   "name": "python",
   "nbconvert_exporter": "python",
   "pygments_lexer": "ipython3",
   "version": "3.8.8"
  }
 },
 "nbformat": 4,
 "nbformat_minor": 5
}
